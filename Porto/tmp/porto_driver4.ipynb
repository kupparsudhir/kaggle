{
 "cells": [
  {
   "cell_type": "markdown",
   "metadata": {},
   "source": [
    "# Import library"
   ]
  },
  {
   "cell_type": "code",
   "execution_count": 89,
   "metadata": {
    "collapsed": true
   },
   "outputs": [],
   "source": [
    "#Import library\n",
    "import numpy as np\n",
    "import pandas as pd\n",
    "import seaborn as sns\n",
    "import matplotlib.pyplot as plt\n",
    "\n",
    "from sklearn.linear_model import LogisticRegression\n",
    "from sklearn.metrics import confusion_matrix, roc_auc_score ,roc_curve,accuracy_score\n",
    "from sklearn.model_selection import StratifiedKFold\n",
    "import lightgbm as lgb\n",
    "import xgboost as xgb\n",
    "seed =45\n",
    "% matplotlib inline"
   ]
  },
  {
   "cell_type": "markdown",
   "metadata": {},
   "source": [
    "# Import data set"
   ]
  },
  {
   "cell_type": "code",
   "execution_count": 33,
   "metadata": {},
   "outputs": [
    {
     "name": "stdout",
     "output_type": "stream",
     "text": [
      "Number rows and columns: (595212, 59)\n",
      "Number rows and columns: (892816, 58)\n"
     ]
    }
   ],
   "source": [
    "train = pd.read_csv('train.csv',na_values=-1)\n",
    "test = pd.read_csv('test.csv',na_values=-1)\n",
    "print('Number rows and columns:',train.shape)\n",
    "print('Number rows and columns:',test.shape)"
   ]
  },
  {
   "cell_type": "markdown",
   "metadata": {},
   "source": [
    "# Explore data set"
   ]
  },
  {
   "cell_type": "code",
   "execution_count": null,
   "metadata": {
    "collapsed": true
   },
   "outputs": [],
   "source": [
    "train.head(3).T"
   ]
  },
  {
   "cell_type": "markdown",
   "metadata": {},
   "source": [
    "# Target varaiable"
   ]
  },
  {
   "cell_type": "code",
   "execution_count": 24,
   "metadata": {},
   "outputs": [
    {
     "data": {
      "text/plain": [
       "<matplotlib.text.Text at 0x7f6e1aea1748>"
      ]
     },
     "execution_count": 24,
     "metadata": {},
     "output_type": "execute_result"
    },
    {
     "data": {
      "image/png": "[encoded data removed]",
      "text/plain": [
       "<matplotlib.figure.Figure at 0x7f6e1af38828>"
      ]
     },
     "metadata": {},
     "output_type": "display_data"
    }
   ],
   "source": [
    "plt.figure(figsize=(12,5))\n",
    "sns.countplot(train['target'],palette='rainbow')\n",
    "plt.xlabel('Target')"
   ]
  },
  {
   "cell_type": "markdown",
   "metadata": {},
   "source": [
    "The 'target' variable in imbalanced "
   ]
  },
  {
   "cell_type": "markdown",
   "metadata": {},
   "source": [
    "# CORELATION PLOT"
   ]
  },
  {
   "cell_type": "code",
   "execution_count": 20,
   "metadata": {},
   "outputs": [
    {
     "data": {
      "text/plain": [
       "<matplotlib.axes._subplots.AxesSubplot at 0x7f6e1ea1fda0>"
      ]
     },
     "execution_count": 20,
     "metadata": {},
     "output_type": "execute_result"
    },
    {
     "data": {
      "image/png": "[encoded data removed]",
      "text/plain": [
       "<matplotlib.figure.Figure at 0x7f6e18e2c390>"
      ]
     },
     "metadata": {},
     "output_type": "display_data"
    }
   ],
   "source": [
    "cor = train.corr()\n",
    "plt.figure(figsize=(12,10))\n",
    "sns.heatmap(cor,square =True,cmap='coolwarm')"
   ]
  },
  {
   "cell_type": "code",
   "execution_count": 34,
   "metadata": {
    "collapsed": true
   },
   "outputs": [],
   "source": [
    "\"\"\" ps_calc value as 0 relation with remaining varialble\"\"\"\n",
    "ps_cal = train.columns[train.columns.str.startswith('ps_calc')] \n",
    "train = train.drop(ps_cal,axis =1)\n",
    "test = test.drop(ps_cal,axis=1)"
   ]
  },
  {
   "cell_type": "markdown",
   "metadata": {},
   "source": [
    "# Missing value is data set"
   ]
  },
  {
   "cell_type": "markdown",
   "metadata": {},
   "source": [
    "\"\"\"Values of -1 indicate that the feature was missing from the observation. \n",
    "The target columns signifies whether or not a claim was filed for that policy holder.\"\""
   ]
  },
  {
   "cell_type": "code",
   "execution_count": 88,
   "metadata": {},
   "outputs": [
    {
     "ename": "KeyboardInterrupt",
     "evalue": "",
     "output_type": "error",
     "traceback": [
      "\u001b[0;31m---------------------------------------------------------------------------\u001b[0m",
      "\u001b[0;31mKeyboardInterrupt\u001b[0m                         Traceback (most recent call last)",
      "\u001b[0;32m<ipython-input-88-d915dbbd2f94>\u001b[0m in \u001b[0;36m<module>\u001b[0;34m()\u001b[0m\n\u001b[1;32m      1\u001b[0m \u001b[0mk\u001b[0m\u001b[0;34m=\u001b[0m \u001b[0mpd\u001b[0m\u001b[0;34m.\u001b[0m\u001b[0mDataFrame\u001b[0m\u001b[0;34m(\u001b[0m\u001b[0;34m)\u001b[0m\u001b[0;34m\u001b[0m\u001b[0m\n\u001b[1;32m      2\u001b[0m \u001b[0mk\u001b[0m\u001b[0;34m[\u001b[0m\u001b[0;34m'train'\u001b[0m\u001b[0;34m]\u001b[0m\u001b[0;34m=\u001b[0m \u001b[0mtrain\u001b[0m\u001b[0;34m.\u001b[0m\u001b[0misnull\u001b[0m\u001b[0;34m(\u001b[0m\u001b[0;34m)\u001b[0m\u001b[0;34m.\u001b[0m\u001b[0msum\u001b[0m\u001b[0;34m(\u001b[0m\u001b[0;34m)\u001b[0m\u001b[0;34m\u001b[0m\u001b[0m\n\u001b[0;32m----> 3\u001b[0;31m \u001b[0mk\u001b[0m\u001b[0;34m[\u001b[0m\u001b[0;34m'test'\u001b[0m\u001b[0;34m]\u001b[0m \u001b[0;34m=\u001b[0m \u001b[0mtest\u001b[0m\u001b[0;34m.\u001b[0m\u001b[0misnull\u001b[0m\u001b[0;34m(\u001b[0m\u001b[0;34m)\u001b[0m\u001b[0;34m.\u001b[0m\u001b[0msum\u001b[0m\u001b[0;34m(\u001b[0m\u001b[0;34m)\u001b[0m\u001b[0;34m\u001b[0m\u001b[0m\n\u001b[0m\u001b[1;32m      4\u001b[0m \u001b[0mk\u001b[0m\u001b[0;34m.\u001b[0m\u001b[0mplot\u001b[0m\u001b[0;34m(\u001b[0m\u001b[0mkind\u001b[0m\u001b[0;34m=\u001b[0m\u001b[0;34m'bar'\u001b[0m\u001b[0;34m)\u001b[0m\u001b[0;34m\u001b[0m\u001b[0m\n",
      "\u001b[0;32m/home/sudhir/anaconda3/lib/python3.6/site-packages/pandas/core/generic.py\u001b[0m in \u001b[0;36misnull\u001b[0;34m(self)\u001b[0m\n\u001b[1;32m   4085\u001b[0m     \u001b[0;34m@\u001b[0m\u001b[0mAppender\u001b[0m\u001b[0;34m(\u001b[0m\u001b[0m_shared_docs\u001b[0m\u001b[0;34m[\u001b[0m\u001b[0;34m'isnull'\u001b[0m\u001b[0;34m]\u001b[0m\u001b[0;34m)\u001b[0m\u001b[0;34m\u001b[0m\u001b[0m\n\u001b[1;32m   4086\u001b[0m     \u001b[0;32mdef\u001b[0m \u001b[0misnull\u001b[0m\u001b[0;34m(\u001b[0m\u001b[0mself\u001b[0m\u001b[0;34m)\u001b[0m\u001b[0;34m:\u001b[0m\u001b[0;34m\u001b[0m\u001b[0m\n\u001b[0;32m-> 4087\u001b[0;31m         \u001b[0;32mreturn\u001b[0m \u001b[0misnull\u001b[0m\u001b[0;34m(\u001b[0m\u001b[0mself\u001b[0m\u001b[0;34m)\u001b[0m\u001b[0;34m.\u001b[0m\u001b[0m__finalize__\u001b[0m\u001b[0;34m(\u001b[0m\u001b[0mself\u001b[0m\u001b[0;34m)\u001b[0m\u001b[0;34m\u001b[0m\u001b[0m\n\u001b[0m\u001b[1;32m   4088\u001b[0m \u001b[0;34m\u001b[0m\u001b[0m\n\u001b[1;32m   4089\u001b[0m     _shared_docs['isnotnull'] = \"\"\"\n",
      "\u001b[0;32m/home/sudhir/anaconda3/lib/python3.6/site-packages/pandas/core/dtypes/missing.py\u001b[0m in \u001b[0;36misnull\u001b[0;34m(obj)\u001b[0m\n\u001b[1;32m     42\u001b[0m     \u001b[0mpandas\u001b[0m\u001b[0;34m.\u001b[0m\u001b[0mnotnull\u001b[0m\u001b[0;34m:\u001b[0m \u001b[0mboolean\u001b[0m \u001b[0minverse\u001b[0m \u001b[0mof\u001b[0m \u001b[0mpandas\u001b[0m\u001b[0;34m.\u001b[0m\u001b[0misnull\u001b[0m\u001b[0;34m\u001b[0m\u001b[0m\n\u001b[1;32m     43\u001b[0m     \"\"\"\n\u001b[0;32m---> 44\u001b[0;31m     \u001b[0;32mreturn\u001b[0m \u001b[0m_isnull\u001b[0m\u001b[0;34m(\u001b[0m\u001b[0mobj\u001b[0m\u001b[0;34m)\u001b[0m\u001b[0;34m\u001b[0m\u001b[0m\n\u001b[0m\u001b[1;32m     45\u001b[0m \u001b[0;34m\u001b[0m\u001b[0m\n\u001b[1;32m     46\u001b[0m \u001b[0;34m\u001b[0m\u001b[0m\n",
      "\u001b[0;32m/home/sudhir/anaconda3/lib/python3.6/site-packages/pandas/core/dtypes/missing.py\u001b[0m in \u001b[0;36m_isnull_new\u001b[0;34m(obj)\u001b[0m\n\u001b[1;32m     54\u001b[0m         \u001b[0;32mreturn\u001b[0m \u001b[0m_isnull_ndarraylike\u001b[0m\u001b[0;34m(\u001b[0m\u001b[0mobj\u001b[0m\u001b[0;34m)\u001b[0m\u001b[0;34m\u001b[0m\u001b[0m\n\u001b[1;32m     55\u001b[0m     \u001b[0;32melif\u001b[0m \u001b[0misinstance\u001b[0m\u001b[0;34m(\u001b[0m\u001b[0mobj\u001b[0m\u001b[0;34m,\u001b[0m \u001b[0mABCGeneric\u001b[0m\u001b[0;34m)\u001b[0m\u001b[0;34m:\u001b[0m\u001b[0;34m\u001b[0m\u001b[0m\n\u001b[0;32m---> 56\u001b[0;31m         \u001b[0;32mreturn\u001b[0m \u001b[0mobj\u001b[0m\u001b[0;34m.\u001b[0m\u001b[0m_constructor\u001b[0m\u001b[0;34m(\u001b[0m\u001b[0mobj\u001b[0m\u001b[0;34m.\u001b[0m\u001b[0m_data\u001b[0m\u001b[0;34m.\u001b[0m\u001b[0misnull\u001b[0m\u001b[0;34m(\u001b[0m\u001b[0mfunc\u001b[0m\u001b[0;34m=\u001b[0m\u001b[0misnull\u001b[0m\u001b[0;34m)\u001b[0m\u001b[0;34m)\u001b[0m\u001b[0;34m\u001b[0m\u001b[0m\n\u001b[0m\u001b[1;32m     57\u001b[0m     \u001b[0;32melif\u001b[0m \u001b[0misinstance\u001b[0m\u001b[0;34m(\u001b[0m\u001b[0mobj\u001b[0m\u001b[0;34m,\u001b[0m \u001b[0mlist\u001b[0m\u001b[0;34m)\u001b[0m \u001b[0;32mor\u001b[0m \u001b[0mhasattr\u001b[0m\u001b[0;34m(\u001b[0m\u001b[0mobj\u001b[0m\u001b[0;34m,\u001b[0m \u001b[0;34m'__array__'\u001b[0m\u001b[0;34m)\u001b[0m\u001b[0;34m:\u001b[0m\u001b[0;34m\u001b[0m\u001b[0m\n\u001b[1;32m     58\u001b[0m         \u001b[0;32mreturn\u001b[0m \u001b[0m_isnull_ndarraylike\u001b[0m\u001b[0;34m(\u001b[0m\u001b[0mnp\u001b[0m\u001b[0;34m.\u001b[0m\u001b[0masarray\u001b[0m\u001b[0;34m(\u001b[0m\u001b[0mobj\u001b[0m\u001b[0;34m)\u001b[0m\u001b[0;34m)\u001b[0m\u001b[0;34m\u001b[0m\u001b[0m\n",
      "\u001b[0;32m/home/sudhir/anaconda3/lib/python3.6/site-packages/pandas/core/internals.py\u001b[0m in \u001b[0;36misnull\u001b[0;34m(self, **kwargs)\u001b[0m\n\u001b[1;32m   3189\u001b[0m \u001b[0;34m\u001b[0m\u001b[0m\n\u001b[1;32m   3190\u001b[0m     \u001b[0;32mdef\u001b[0m \u001b[0misnull\u001b[0m\u001b[0;34m(\u001b[0m\u001b[0mself\u001b[0m\u001b[0;34m,\u001b[0m \u001b[0;34m**\u001b[0m\u001b[0mkwargs\u001b[0m\u001b[0;34m)\u001b[0m\u001b[0;34m:\u001b[0m\u001b[0;34m\u001b[0m\u001b[0m\n\u001b[0;32m-> 3191\u001b[0;31m         \u001b[0;32mreturn\u001b[0m \u001b[0mself\u001b[0m\u001b[0;34m.\u001b[0m\u001b[0mapply\u001b[0m\u001b[0;34m(\u001b[0m\u001b[0;34m'apply'\u001b[0m\u001b[0;34m,\u001b[0m \u001b[0;34m**\u001b[0m\u001b[0mkwargs\u001b[0m\u001b[0;34m)\u001b[0m\u001b[0;34m\u001b[0m\u001b[0m\n\u001b[0m\u001b[1;32m   3192\u001b[0m \u001b[0;34m\u001b[0m\u001b[0m\n\u001b[1;32m   3193\u001b[0m     \u001b[0;32mdef\u001b[0m \u001b[0mwhere\u001b[0m\u001b[0;34m(\u001b[0m\u001b[0mself\u001b[0m\u001b[0;34m,\u001b[0m \u001b[0;34m**\u001b[0m\u001b[0mkwargs\u001b[0m\u001b[0;34m)\u001b[0m\u001b[0;34m:\u001b[0m\u001b[0;34m\u001b[0m\u001b[0m\n",
      "\u001b[0;32m/home/sudhir/anaconda3/lib/python3.6/site-packages/pandas/core/internals.py\u001b[0m in \u001b[0;36mapply\u001b[0;34m(self, f, axes, filter, do_integrity_check, consolidate, **kwargs)\u001b[0m\n\u001b[1;32m   3089\u001b[0m \u001b[0;34m\u001b[0m\u001b[0m\n\u001b[1;32m   3090\u001b[0m             \u001b[0mkwargs\u001b[0m\u001b[0;34m[\u001b[0m\u001b[0;34m'mgr'\u001b[0m\u001b[0;34m]\u001b[0m \u001b[0;34m=\u001b[0m \u001b[0mself\u001b[0m\u001b[0;34m\u001b[0m\u001b[0m\n\u001b[0;32m-> 3091\u001b[0;31m             \u001b[0mapplied\u001b[0m \u001b[0;34m=\u001b[0m \u001b[0mgetattr\u001b[0m\u001b[0;34m(\u001b[0m\u001b[0mb\u001b[0m\u001b[0;34m,\u001b[0m \u001b[0mf\u001b[0m\u001b[0;34m)\u001b[0m\u001b[0;34m(\u001b[0m\u001b[0;34m**\u001b[0m\u001b[0mkwargs\u001b[0m\u001b[0;34m)\u001b[0m\u001b[0;34m\u001b[0m\u001b[0m\n\u001b[0m\u001b[1;32m   3092\u001b[0m             \u001b[0mresult_blocks\u001b[0m \u001b[0;34m=\u001b[0m \u001b[0m_extend_blocks\u001b[0m\u001b[0;34m(\u001b[0m\u001b[0mapplied\u001b[0m\u001b[0;34m,\u001b[0m \u001b[0mresult_blocks\u001b[0m\u001b[0;34m)\u001b[0m\u001b[0;34m\u001b[0m\u001b[0m\n\u001b[1;32m   3093\u001b[0m \u001b[0;34m\u001b[0m\u001b[0m\n",
      "\u001b[0;32m/home/sudhir/anaconda3/lib/python3.6/site-packages/pandas/core/internals.py\u001b[0m in \u001b[0;36mapply\u001b[0;34m(self, func, mgr, **kwargs)\u001b[0m\n\u001b[1;32m    355\u001b[0m         \"\"\"\n\u001b[1;32m    356\u001b[0m         \u001b[0;32mwith\u001b[0m \u001b[0mnp\u001b[0m\u001b[0;34m.\u001b[0m\u001b[0merrstate\u001b[0m\u001b[0;34m(\u001b[0m\u001b[0mall\u001b[0m\u001b[0;34m=\u001b[0m\u001b[0;34m'ignore'\u001b[0m\u001b[0;34m)\u001b[0m\u001b[0;34m:\u001b[0m\u001b[0;34m\u001b[0m\u001b[0m\n\u001b[0;32m--> 357\u001b[0;31m             \u001b[0mresult\u001b[0m \u001b[0;34m=\u001b[0m \u001b[0mfunc\u001b[0m\u001b[0;34m(\u001b[0m\u001b[0mself\u001b[0m\u001b[0;34m.\u001b[0m\u001b[0mvalues\u001b[0m\u001b[0;34m,\u001b[0m \u001b[0;34m**\u001b[0m\u001b[0mkwargs\u001b[0m\u001b[0;34m)\u001b[0m\u001b[0;34m\u001b[0m\u001b[0m\n\u001b[0m\u001b[1;32m    358\u001b[0m         \u001b[0;32mif\u001b[0m \u001b[0;32mnot\u001b[0m \u001b[0misinstance\u001b[0m\u001b[0;34m(\u001b[0m\u001b[0mresult\u001b[0m\u001b[0;34m,\u001b[0m \u001b[0mBlock\u001b[0m\u001b[0;34m)\u001b[0m\u001b[0;34m:\u001b[0m\u001b[0;34m\u001b[0m\u001b[0m\n\u001b[1;32m    359\u001b[0m             result = self.make_block(values=_block_shape(result,\n",
      "\u001b[0;32m/home/sudhir/anaconda3/lib/python3.6/site-packages/pandas/core/dtypes/missing.py\u001b[0m in \u001b[0;36misnull\u001b[0;34m(obj)\u001b[0m\n\u001b[1;32m     42\u001b[0m     \u001b[0mpandas\u001b[0m\u001b[0;34m.\u001b[0m\u001b[0mnotnull\u001b[0m\u001b[0;34m:\u001b[0m \u001b[0mboolean\u001b[0m \u001b[0minverse\u001b[0m \u001b[0mof\u001b[0m \u001b[0mpandas\u001b[0m\u001b[0;34m.\u001b[0m\u001b[0misnull\u001b[0m\u001b[0;34m\u001b[0m\u001b[0m\n\u001b[1;32m     43\u001b[0m     \"\"\"\n\u001b[0;32m---> 44\u001b[0;31m     \u001b[0;32mreturn\u001b[0m \u001b[0m_isnull\u001b[0m\u001b[0;34m(\u001b[0m\u001b[0mobj\u001b[0m\u001b[0;34m)\u001b[0m\u001b[0;34m\u001b[0m\u001b[0m\n\u001b[0m\u001b[1;32m     45\u001b[0m \u001b[0;34m\u001b[0m\u001b[0m\n\u001b[1;32m     46\u001b[0m \u001b[0;34m\u001b[0m\u001b[0m\n",
      "\u001b[0;32m/home/sudhir/anaconda3/lib/python3.6/site-packages/pandas/core/dtypes/missing.py\u001b[0m in \u001b[0;36m_isnull_new\u001b[0;34m(obj)\u001b[0m\n\u001b[1;32m     52\u001b[0m         \u001b[0;32mraise\u001b[0m \u001b[0mNotImplementedError\u001b[0m\u001b[0;34m(\u001b[0m\u001b[0;34m\"isnull is not defined for MultiIndex\"\u001b[0m\u001b[0;34m)\u001b[0m\u001b[0;34m\u001b[0m\u001b[0m\n\u001b[1;32m     53\u001b[0m     \u001b[0;32melif\u001b[0m \u001b[0misinstance\u001b[0m\u001b[0;34m(\u001b[0m\u001b[0mobj\u001b[0m\u001b[0;34m,\u001b[0m \u001b[0;34m(\u001b[0m\u001b[0mABCSeries\u001b[0m\u001b[0;34m,\u001b[0m \u001b[0mnp\u001b[0m\u001b[0;34m.\u001b[0m\u001b[0mndarray\u001b[0m\u001b[0;34m,\u001b[0m \u001b[0mABCIndexClass\u001b[0m\u001b[0;34m)\u001b[0m\u001b[0;34m)\u001b[0m\u001b[0;34m:\u001b[0m\u001b[0;34m\u001b[0m\u001b[0m\n\u001b[0;32m---> 54\u001b[0;31m         \u001b[0;32mreturn\u001b[0m \u001b[0m_isnull_ndarraylike\u001b[0m\u001b[0;34m(\u001b[0m\u001b[0mobj\u001b[0m\u001b[0;34m)\u001b[0m\u001b[0;34m\u001b[0m\u001b[0m\n\u001b[0m\u001b[1;32m     55\u001b[0m     \u001b[0;32melif\u001b[0m \u001b[0misinstance\u001b[0m\u001b[0;34m(\u001b[0m\u001b[0mobj\u001b[0m\u001b[0;34m,\u001b[0m \u001b[0mABCGeneric\u001b[0m\u001b[0;34m)\u001b[0m\u001b[0;34m:\u001b[0m\u001b[0;34m\u001b[0m\u001b[0m\n\u001b[1;32m     56\u001b[0m         \u001b[0;32mreturn\u001b[0m \u001b[0mobj\u001b[0m\u001b[0;34m.\u001b[0m\u001b[0m_constructor\u001b[0m\u001b[0;34m(\u001b[0m\u001b[0mobj\u001b[0m\u001b[0;34m.\u001b[0m\u001b[0m_data\u001b[0m\u001b[0;34m.\u001b[0m\u001b[0misnull\u001b[0m\u001b[0;34m(\u001b[0m\u001b[0mfunc\u001b[0m\u001b[0;34m=\u001b[0m\u001b[0misnull\u001b[0m\u001b[0;34m)\u001b[0m\u001b[0;34m)\u001b[0m\u001b[0;34m\u001b[0m\u001b[0m\n",
      "\u001b[0;32m/home/sudhir/anaconda3/lib/python3.6/site-packages/pandas/core/dtypes/missing.py\u001b[0m in \u001b[0;36m_isnull_ndarraylike\u001b[0;34m(obj)\u001b[0m\n\u001b[1;32m    147\u001b[0m         \u001b[0mresult\u001b[0m \u001b[0;34m=\u001b[0m \u001b[0mvalues\u001b[0m\u001b[0;34m.\u001b[0m\u001b[0mview\u001b[0m\u001b[0;34m(\u001b[0m\u001b[0;34m'i8'\u001b[0m\u001b[0;34m)\u001b[0m \u001b[0;34m==\u001b[0m \u001b[0miNaT\u001b[0m\u001b[0;34m\u001b[0m\u001b[0m\n\u001b[1;32m    148\u001b[0m     \u001b[0;32melse\u001b[0m\u001b[0;34m:\u001b[0m\u001b[0;34m\u001b[0m\u001b[0m\n\u001b[0;32m--> 149\u001b[0;31m         \u001b[0mresult\u001b[0m \u001b[0;34m=\u001b[0m \u001b[0mnp\u001b[0m\u001b[0;34m.\u001b[0m\u001b[0misnan\u001b[0m\u001b[0;34m(\u001b[0m\u001b[0mvalues\u001b[0m\u001b[0;34m)\u001b[0m\u001b[0;34m\u001b[0m\u001b[0m\n\u001b[0m\u001b[1;32m    150\u001b[0m \u001b[0;34m\u001b[0m\u001b[0m\n\u001b[1;32m    151\u001b[0m     \u001b[0;31m# box\u001b[0m\u001b[0;34m\u001b[0m\u001b[0;34m\u001b[0m\u001b[0m\n",
      "\u001b[0;31mKeyboardInterrupt\u001b[0m: "
     ]
    }
   ],
   "source": [
    "k= pd.DataFrame()\n",
    "k['train']= train.isnull().sum()\n",
    "k['test'] = test.isnull().sum()\n",
    "k.plot(kind='bar')"
   ]
  },
  {
   "cell_type": "markdown",
   "metadata": {
    "collapsed": true
   },
   "source": [
    "Missing value in test train data set are in same propotion and same column"
   ]
  },
  {
   "cell_type": "code",
   "execution_count": 21,
   "metadata": {},
   "outputs": [
    {
     "name": "stdout",
     "output_type": "stream",
     "text": [
      "\n",
      " Unique value of \"id\" is \"595212\" \n",
      "\n",
      " Unique value of \"target\" is \"2\" \n",
      "\n",
      " Unique value of \"ps_ind_01\" is \"8\" \n",
      "\n",
      " Unique value of \"ps_ind_02_cat\" is \"4\" \n",
      "\n",
      " Unique value of \"ps_ind_03\" is \"12\" \n",
      "\n",
      " Unique value of \"ps_ind_04_cat\" is \"2\" \n",
      "\n",
      " Unique value of \"ps_ind_05_cat\" is \"7\" \n",
      "\n",
      " Unique value of \"ps_ind_06_bin\" is \"2\" \n",
      "\n",
      " Unique value of \"ps_ind_07_bin\" is \"2\" \n",
      "\n",
      " Unique value of \"ps_ind_08_bin\" is \"2\" \n",
      "\n",
      " Unique value of \"ps_ind_09_bin\" is \"2\" \n",
      "\n",
      " Unique value of \"ps_ind_10_bin\" is \"2\" \n",
      "\n",
      " Unique value of \"ps_ind_11_bin\" is \"2\" \n",
      "\n",
      " Unique value of \"ps_ind_12_bin\" is \"2\" \n",
      "\n",
      " Unique value of \"ps_ind_13_bin\" is \"2\" \n",
      "\n",
      " Unique value of \"ps_ind_14\" is \"5\" \n",
      "\n",
      " Unique value of \"ps_ind_15\" is \"14\" \n",
      "\n",
      " Unique value of \"ps_ind_16_bin\" is \"2\" \n",
      "\n",
      " Unique value of \"ps_ind_17_bin\" is \"2\" \n",
      "\n",
      " Unique value of \"ps_ind_18_bin\" is \"2\" \n",
      "\n",
      " Unique value of \"ps_reg_01\" is \"10\" \n",
      "\n",
      " Unique value of \"ps_reg_02\" is \"19\" \n",
      "\n",
      " Unique value of \"ps_reg_03\" is \"5012\" \n",
      "\n",
      " Unique value of \"ps_car_01_cat\" is \"12\" \n",
      "\n",
      " Unique value of \"ps_car_02_cat\" is \"2\" \n",
      "\n",
      " Unique value of \"ps_car_03_cat\" is \"2\" \n",
      "\n",
      " Unique value of \"ps_car_04_cat\" is \"10\" \n",
      "\n",
      " Unique value of \"ps_car_05_cat\" is \"2\" \n",
      "\n",
      " Unique value of \"ps_car_06_cat\" is \"18\" \n",
      "\n",
      " Unique value of \"ps_car_07_cat\" is \"2\" \n",
      "\n",
      " Unique value of \"ps_car_08_cat\" is \"2\" \n",
      "\n",
      " Unique value of \"ps_car_09_cat\" is \"5\" \n",
      "\n",
      " Unique value of \"ps_car_10_cat\" is \"3\" \n",
      "\n",
      " Unique value of \"ps_car_11_cat\" is \"104\" \n",
      "\n",
      " Unique value of \"ps_car_11\" is \"4\" \n",
      "\n",
      " Unique value of \"ps_car_12\" is \"183\" \n",
      "\n",
      " Unique value of \"ps_car_13\" is \"70482\" \n",
      "\n",
      " Unique value of \"ps_car_14\" is \"849\" \n",
      "\n",
      " Unique value of \"ps_car_15\" is \"15\" \n"
     ]
    }
   ],
   "source": [
    "def uniq(df):\n",
    "    col = df.columns\n",
    "    for i in col:\n",
    "        print('\\n Unique value of \"{}\" is \"{}\" '.format(i,df[i].nunique()))               \n",
    "        #print(df[i].unique())\n",
    "uniq(train)"
   ]
  },
  {
   "cell_type": "markdown",
   "metadata": {},
   "source": [
    "The unique value of \"ps_car_11_cat\" is maximum in the data set is 104"
   ]
  },
  {
   "cell_type": "markdown",
   "metadata": {},
   "source": [
    "# Covert int/float varaible into category data"
   ]
  },
  {
   "cell_type": "code",
   "execution_count": 32,
   "metadata": {},
   "outputs": [
    {
     "name": "stdout",
     "output_type": "stream",
     "text": [
      "Index(['ps_ind_02_cat', 'ps_ind_04_cat', 'ps_ind_05_cat', 'ps_car_01_cat',\n",
      "       'ps_car_02_cat', 'ps_car_03_cat', 'ps_car_04_cat', 'ps_car_05_cat',\n",
      "       'ps_car_06_cat', 'ps_car_07_cat', 'ps_car_08_cat', 'ps_car_09_cat',\n",
      "       'ps_car_10_cat', 'ps_car_11_cat'],\n",
      "      dtype='object')\n",
      "Index(['ps_ind_02_cat', 'ps_ind_04_cat', 'ps_ind_05_cat', 'ps_car_01_cat',\n",
      "       'ps_car_02_cat', 'ps_car_03_cat', 'ps_car_04_cat', 'ps_car_05_cat',\n",
      "       'ps_car_06_cat', 'ps_car_07_cat', 'ps_car_08_cat', 'ps_car_09_cat',\n",
      "       'ps_car_10_cat', 'ps_car_11_cat'],\n",
      "      dtype='object')\n"
     ]
    }
   ],
   "source": [
    "def category_type(df):\n",
    "    cat_col = df.columns[df.columns.str.endswith('_cat')]\n",
    "    bin_col\n",
    "    print(col)\n",
    "    for i in col:\n",
    "        if df[i].nunique()<=104:\n",
    "            df[i] = df[i].astype('category')\n",
    "category_type(train)\n",
    "category_type(test)"
   ]
  },
  {
   "cell_type": "markdown",
   "metadata": {},
   "source": [
    "# Univariate analysis"
   ]
  },
  {
   "cell_type": "code",
   "execution_count": 19,
   "metadata": {},
   "outputs": [
    {
     "name": "stdout",
     "output_type": "stream",
     "text": [
      "Index(['id', 'ps_reg_03', 'ps_car_12', 'ps_car_13', 'ps_car_14'], dtype='object')\n"
     ]
    }
   ],
   "source": [
    "cat_col = train.select_dtypes(exclude=['category']).columns\n",
    "print(cat_col)"
   ]
  },
  {
   "cell_type": "code",
   "execution_count": 28,
   "metadata": {},
   "outputs": [
    {
     "data": {
      "text/plain": [
       "0.9    194608\n",
       "0.7     67897\n",
       "0.8     60277\n",
       "0.6     56243\n",
       "0.4     53569\n",
       "0.1     43192\n",
       "0.3     40290\n",
       "0.5     32341\n",
       "0.2     25113\n",
       "0.0     21682\n",
       "Name: ps_reg_01, dtype: int64"
      ]
     },
     "execution_count": 28,
     "metadata": {},
     "output_type": "execute_result"
    }
   ],
   "source": [
    "train['ps_reg_01'].value_counts()"
   ]
  },
  {
   "cell_type": "code",
   "execution_count": 11,
   "metadata": {},
   "outputs": [
    {
     "data": {
      "text/plain": [
       "<matplotlib.axes._subplots.AxesSubplot at 0x7ff53c7c0198>"
      ]
     },
     "execution_count": 11,
     "metadata": {},
     "output_type": "execute_result"
    },
    {
     "data": {
      "image/png": "[encoded data removed]",
      "text/plain": [
       "<matplotlib.figure.Figure at 0x7ff53c794f98>"
      ]
     },
     "metadata": {},
     "output_type": "display_data"
    }
   ],
   "source": [
    "plt.figure(figsize=(10,6))\n",
    "sns.countplot(train['ps_ind_01'],palette='rainbow')\n"
   ]
  },
  {
   "cell_type": "code",
   "execution_count": 19,
   "metadata": {},
   "outputs": [
    {
     "data": {
      "text/plain": [
       "<matplotlib.axes._subplots.AxesSubplot at 0x7faa4db5d5f8>"
      ]
     },
     "execution_count": 19,
     "metadata": {},
     "output_type": "execute_result"
    },
    {
     "data": {
      "image/png": "[encoded data removed]",
      "text/plain": [
       "<matplotlib.figure.Figure at 0x7faa4ec0eda0>"
      ]
     },
     "metadata": {},
     "output_type": "display_data"
    }
   ],
   "source": [
    "plt.figure(figsize=(10,6))\n",
    "plt.subplot(121)\n",
    "sns.countplot(train['ps_ind_01'],palette='rainbow')\n",
    "plt.subplot(122)\n",
    "sns.countplot(train['ps_ind_02_cat'],palette='rainbow')"
   ]
  },
  {
   "cell_type": "markdown",
   "metadata": {},
   "source": [
    "# Replace missing value in numeric columns"
   ]
  },
  {
   "cell_type": "code",
   "execution_count": null,
   "metadata": {
    "collapsed": true
   },
   "outputs": [],
   "source": [
    "def missing_value(df):\n",
    "    col = df.columns\n",
    "    for i in col:\n",
    "        if df[i].isnull().sum()>0:\n",
    "            df[i].fillna(df[i].mode()[0],inplace=True)"
   ]
  },
  {
   "cell_type": "code",
   "execution_count": 36,
   "metadata": {
    "collapsed": true
   },
   "outputs": [],
   "source": [
    "missing_value(train)\n",
    "missing_value(test)"
   ]
  },
  {
   "cell_type": "markdown",
   "metadata": {},
   "source": [
    "# Data set"
   ]
  },
  {
   "cell_type": "code",
   "execution_count": 37,
   "metadata": {
    "collapsed": true
   },
   "outputs": [],
   "source": [
    "X = train.drop(['target','id'],axis=1)\n",
    "y = train['target']\n",
    "x_test = test.drop('id',axis=1)"
   ]
  },
  {
   "cell_type": "markdown",
   "metadata": {},
   "source": [
    "# Light GBM model"
   ]
  },
  {
   "cell_type": "code",
   "execution_count": 73,
   "metadata": {
    "collapsed": true,
    "scrolled": false
   },
   "outputs": [],
   "source": [
    "def runLGB(train,valid,y_train,y_valid,test,eta=0.5,num_rounds=10,early_stop=50,max_depth=5):\n",
    "    \n",
    "    param = {\n",
    "            'objective':'binary',\n",
    "            'boosting':'gbdt',\n",
    "            'learning_rate':eta,            \n",
    "            'metric':'auc',\n",
    "            'bagging_fraction':0.7,\n",
    "            #'bagging_freq':5,\n",
    "            'bagging_seed':seed,\n",
    "            'num_leaves':50,\n",
    "            'feature_fraction':0.7,\n",
    "            #'verbose':10,            \n",
    "            'min_child_weight':6,\n",
    "            'max_depth':max_depth,\n",
    "            'reg_alpha':1.5, \n",
    "            'reg_lambda':5,\n",
    "            'scale_pos_weight':9\n",
    "        \n",
    "            #'nthread':-1           \n",
    "            }\n",
    "   \n",
    "    lgtrain = lgb.Dataset(train,label=y_train)\n",
    "    lgvalid = lgb.Dataset(valid,label=y_valid)\n",
    "    \n",
    "    model=lgb.train(param,lgtrain,num_rounds,valid_sets=lgvalid,\n",
    "              early_stopping_rounds=early_stop,verbose_eval=50 )\n",
    "    #lg_pred = model.predict(xvl,num_iteration=model.best_iteration)\n",
    "    pred = model.predict(test,num_iteration=model.best_iteration)    \n",
    "    return pred,model"
   ]
  },
  {
   "cell_type": "code",
   "execution_count": 74,
   "metadata": {
    "scrolled": false
   },
   "outputs": [
    {
     "name": "stdout",
     "output_type": "stream",
     "text": [
      "1 of KFold 10\n",
      "Training until validation scores don't improve for 50 rounds.\n",
      "[50]\tvalid_0's auc: 0.63475\n",
      "[100]\tvalid_0's auc: 0.636184\n",
      "[150]\tvalid_0's auc: 0.637224\n",
      "[200]\tvalid_0's auc: 0.638632\n",
      "[250]\tvalid_0's auc: 0.636841\n",
      "Early stopping, best iteration is:\n",
      "[217]\tvalid_0's auc: 0.639269\n",
      "2 of KFold 10\n",
      "Training until validation scores don't improve for 50 rounds.\n",
      "[50]\tvalid_0's auc: 0.635963\n",
      "[100]\tvalid_0's auc: 0.636906\n",
      "[150]\tvalid_0's auc: 0.638364\n",
      "[200]\tvalid_0's auc: 0.637833\n",
      "Early stopping, best iteration is:\n",
      "[163]\tvalid_0's auc: 0.63925\n",
      "3 of KFold 10\n",
      "Training until validation scores don't improve for 50 rounds.\n",
      "[50]\tvalid_0's auc: 0.628802\n",
      "[100]\tvalid_0's auc: 0.629169\n",
      "[150]\tvalid_0's auc: 0.630897\n",
      "[200]\tvalid_0's auc: 0.632118\n",
      "[250]\tvalid_0's auc: 0.631772\n",
      "Early stopping, best iteration is:\n",
      "[214]\tvalid_0's auc: 0.633069\n",
      "4 of KFold 10\n",
      "Training until validation scores don't improve for 50 rounds.\n",
      "[50]\tvalid_0's auc: 0.644714\n",
      "[100]\tvalid_0's auc: 0.647174\n",
      "[150]\tvalid_0's auc: 0.648298\n",
      "[200]\tvalid_0's auc: 0.647826\n",
      "Early stopping, best iteration is:\n",
      "[153]\tvalid_0's auc: 0.648439\n",
      "5 of KFold 10\n",
      "Training until validation scores don't improve for 50 rounds.\n",
      "[50]\tvalid_0's auc: 0.635589\n",
      "[100]\tvalid_0's auc: 0.63652\n",
      "[150]\tvalid_0's auc: 0.638086\n",
      "[200]\tvalid_0's auc: 0.639084\n",
      "Early stopping, best iteration is:\n",
      "[166]\tvalid_0's auc: 0.640012\n",
      "6 of KFold 10\n",
      "Training until validation scores don't improve for 50 rounds.\n",
      "[50]\tvalid_0's auc: 0.649615\n",
      "[100]\tvalid_0's auc: 0.650225\n",
      "[150]\tvalid_0's auc: 0.650385\n",
      "Early stopping, best iteration is:\n",
      "[129]\tvalid_0's auc: 0.651021\n",
      "7 of KFold 10\n",
      "Training until validation scores don't improve for 50 rounds.\n",
      "[50]\tvalid_0's auc: 0.6269\n",
      "[100]\tvalid_0's auc: 0.629141\n",
      "[150]\tvalid_0's auc: 0.630729\n",
      "[200]\tvalid_0's auc: 0.629981\n",
      "Early stopping, best iteration is:\n",
      "[152]\tvalid_0's auc: 0.630748\n",
      "8 of KFold 10\n",
      "Training until validation scores don't improve for 50 rounds.\n",
      "[50]\tvalid_0's auc: 0.640946\n",
      "[100]\tvalid_0's auc: 0.643524\n",
      "Early stopping, best iteration is:\n",
      "[99]\tvalid_0's auc: 0.643778\n",
      "9 of KFold 10\n",
      "Training until validation scores don't improve for 50 rounds.\n",
      "[50]\tvalid_0's auc: 0.640796\n",
      "[100]\tvalid_0's auc: 0.642451\n",
      "[150]\tvalid_0's auc: 0.643814\n",
      "[200]\tvalid_0's auc: 0.64455\n",
      "[250]\tvalid_0's auc: 0.644042\n",
      "Early stopping, best iteration is:\n",
      "[208]\tvalid_0's auc: 0.645129\n",
      "10 of KFold 10\n",
      "Training until validation scores don't improve for 50 rounds.\n",
      "[50]\tvalid_0's auc: 0.637353\n",
      "[100]\tvalid_0's auc: 0.640838\n",
      "[150]\tvalid_0's auc: 0.64108\n",
      "Early stopping, best iteration is:\n",
      "[137]\tvalid_0's auc: 0.641469\n"
     ]
    }
   ],
   "source": [
    "#Kfold\n",
    "kf = StratifiedKFold(n_splits =10,random_state=seed,shuffle=True)\n",
    "pred_test_full=0\n",
    "i=1\n",
    "for train_index,test_index in kf.split(X,y):\n",
    "    print('{} of KFold {}'.format(i,kf.n_splits))\n",
    "    xtr,xvl = X.loc[train_index], X.loc[test_index]\n",
    "    ytr,yvl = y.loc[train_index], y.loc[test_index]\n",
    "    \n",
    "    pred_test,lg_model = runLGB(xtr,xvl,ytr,yvl,x_test,eta=0.1,num_rounds=500,max_depth=5)\n",
    "    pred_test_full +=pred_test\n",
    "    i+=1"
   ]
  },
  {
   "cell_type": "code",
   "execution_count": 79,
   "metadata": {
    "collapsed": true
   },
   "outputs": [],
   "source": [
    "pred_lgb = pred_test_full/10"
   ]
  },
  {
   "cell_type": "markdown",
   "metadata": {},
   "source": [
    "# Important Features"
   ]
  },
  {
   "cell_type": "code",
   "execution_count": 86,
   "metadata": {},
   "outputs": [
    {
     "data": {
      "image/png": "[encoded data removed]",
      "text/plain": [
       "<matplotlib.figure.Figure at 0x7f6e1a4495c0>"
      ]
     },
     "metadata": {},
     "output_type": "display_data"
    }
   ],
   "source": [
    "fig,ax = plt.subplots(figsize=(14,8))\n",
    "lgb.plot_importance(lg_model,height=0.8,max_num_features=None,ax=ax,color='b')\n",
    "plt.show()"
   ]
  },
  {
   "cell_type": "markdown",
   "metadata": {
    "collapsed": true
   },
   "source": [
    "# XGBoost"
   ]
  },
  {
   "cell_type": "code",
   "execution_count": 56,
   "metadata": {
    "collapsed": true
   },
   "outputs": [],
   "source": [
    "def runXGB(xtrain,xvalid,ytrain,yvalid,xtest,eta=0.1,num_rounds=100,max_depth=4):\n",
    "    params = {\n",
    "        'objective':'binary:logistic',        \n",
    "        'max_depth':max_depth,\n",
    "        'learning_rate':eta,\n",
    "        'eval_metric':'auc',\n",
    "        'min_child_weight':6,\n",
    "        'subsample':0.8,\n",
    "        'colsample_bytree':0.8,\n",
    "        'seed':seed,\n",
    "        'reg_lambda':1.3,\n",
    "        'reg_alpha':8,\n",
    "        'gamma':10,\n",
    "        'scale_pos_weight':1.6\n",
    "        #'n_thread':-1\n",
    "    }\n",
    "    \n",
    "    dtrain = xgb.DMatrix(xtrain,label=ytrain)\n",
    "    dvalid = xgb.DMatrix(xvalid,label=yvalid)\n",
    "    dtest = xgb.DMatrix(xtest)\n",
    "    watchlist = [(dtrain,'train'),(dvalid,'test')]\n",
    "    \n",
    "    model = xgb.train(params,dtrain,num_rounds,watchlist,early_stopping_rounds=500,verbose_eval=50)\n",
    "    pred = model.predict(dvalid,ntree_limit=model.best_ntree_limit)\n",
    "    pred_test = model.predict(dtest,ntree_limit=model.best_ntree_limit)\n",
    "    return pred_test,model\n",
    "    "
   ]
  },
  {
   "cell_type": "code",
   "execution_count": 81,
   "metadata": {
    "scrolled": false
   },
   "outputs": [
    {
     "name": "stdout",
     "output_type": "stream",
     "text": [
      "1 of KFold 5\n",
      "[0]\ttrain-auc:0.587895\ttest-auc:0.58752\n",
      "Multiple eval metrics have been passed: 'test-auc' will be used for early stopping.\n",
      "\n",
      "Will train until test-auc hasn't improved in 50 rounds.\n",
      "[20]\ttrain-auc:0.620098\ttest-auc:0.618474\n",
      "[40]\ttrain-auc:0.628227\ttest-auc:0.624293\n",
      "[60]\ttrain-auc:0.639387\ttest-auc:0.631506\n",
      "[80]\ttrain-auc:0.645112\ttest-auc:0.634595\n",
      "[100]\ttrain-auc:0.648218\ttest-auc:0.636478\n",
      "[120]\ttrain-auc:0.650968\ttest-auc:0.638049\n",
      "[140]\ttrain-auc:0.652941\ttest-auc:0.639083\n",
      "[160]\ttrain-auc:0.654569\ttest-auc:0.639786\n",
      "[180]\ttrain-auc:0.656209\ttest-auc:0.64019\n",
      "[200]\ttrain-auc:0.657146\ttest-auc:0.640451\n",
      "[220]\ttrain-auc:0.658052\ttest-auc:0.641044\n",
      "[240]\ttrain-auc:0.659424\ttest-auc:0.641394\n",
      "[260]\ttrain-auc:0.660509\ttest-auc:0.64136\n",
      "[280]\ttrain-auc:0.661264\ttest-auc:0.641257\n",
      "[300]\ttrain-auc:0.661823\ttest-auc:0.64151\n",
      "[320]\ttrain-auc:0.662348\ttest-auc:0.641676\n",
      "[340]\ttrain-auc:0.662782\ttest-auc:0.641711\n",
      "[360]\ttrain-auc:0.663535\ttest-auc:0.641749\n",
      "[380]\ttrain-auc:0.663946\ttest-auc:0.641826\n",
      "[400]\ttrain-auc:0.664728\ttest-auc:0.641915\n",
      "[420]\ttrain-auc:0.665241\ttest-auc:0.641869\n",
      "[440]\ttrain-auc:0.66569\ttest-auc:0.64184\n",
      "Stopping. Best iteration:\n",
      "[395]\ttrain-auc:0.664486\ttest-auc:0.641993\n",
      "\n",
      "2 of KFold 5\n",
      "[0]\ttrain-auc:0.592999\ttest-auc:0.587342\n",
      "Multiple eval metrics have been passed: 'test-auc' will be used for early stopping.\n",
      "\n",
      "Will train until test-auc hasn't improved in 50 rounds.\n",
      "[20]\ttrain-auc:0.620667\ttest-auc:0.614483\n",
      "[40]\ttrain-auc:0.630252\ttest-auc:0.62222\n",
      "[60]\ttrain-auc:0.639114\ttest-auc:0.629688\n",
      "[80]\ttrain-auc:0.644728\ttest-auc:0.634212\n",
      "[100]\ttrain-auc:0.648694\ttest-auc:0.636973\n",
      "[120]\ttrain-auc:0.651381\ttest-auc:0.638414\n",
      "[140]\ttrain-auc:0.653018\ttest-auc:0.639442\n",
      "[160]\ttrain-auc:0.654426\ttest-auc:0.640067\n",
      "[180]\ttrain-auc:0.655831\ttest-auc:0.64054\n",
      "[200]\ttrain-auc:0.657079\ttest-auc:0.640817\n",
      "[220]\ttrain-auc:0.658012\ttest-auc:0.640999\n",
      "[240]\ttrain-auc:0.659206\ttest-auc:0.64133\n",
      "[260]\ttrain-auc:0.659923\ttest-auc:0.641731\n",
      "[280]\ttrain-auc:0.660647\ttest-auc:0.642109\n",
      "[300]\ttrain-auc:0.66132\ttest-auc:0.64206\n",
      "[320]\ttrain-auc:0.662087\ttest-auc:0.641984\n",
      "Stopping. Best iteration:\n",
      "[284]\ttrain-auc:0.660852\ttest-auc:0.642159\n",
      "\n",
      "3 of KFold 5\n",
      "[0]\ttrain-auc:0.587402\ttest-auc:0.585829\n",
      "Multiple eval metrics have been passed: 'test-auc' will be used for early stopping.\n",
      "\n",
      "Will train until test-auc hasn't improved in 50 rounds.\n",
      "[20]\ttrain-auc:0.619748\ttest-auc:0.616982\n",
      "[40]\ttrain-auc:0.630786\ttest-auc:0.624152\n",
      "[60]\ttrain-auc:0.639291\ttest-auc:0.630519\n",
      "[80]\ttrain-auc:0.644216\ttest-auc:0.633056\n",
      "[100]\ttrain-auc:0.648234\ttest-auc:0.635651\n",
      "[120]\ttrain-auc:0.650844\ttest-auc:0.637665\n",
      "[140]\ttrain-auc:0.652642\ttest-auc:0.638431\n",
      "[160]\ttrain-auc:0.654457\ttest-auc:0.63913\n",
      "[180]\ttrain-auc:0.655828\ttest-auc:0.639672\n",
      "[200]\ttrain-auc:0.657283\ttest-auc:0.639912\n",
      "[220]\ttrain-auc:0.658371\ttest-auc:0.640372\n",
      "[240]\ttrain-auc:0.659521\ttest-auc:0.640811\n",
      "[260]\ttrain-auc:0.660336\ttest-auc:0.640917\n",
      "[280]\ttrain-auc:0.661041\ttest-auc:0.641014\n",
      "[300]\ttrain-auc:0.661645\ttest-auc:0.641163\n",
      "[320]\ttrain-auc:0.66229\ttest-auc:0.641386\n",
      "[340]\ttrain-auc:0.662732\ttest-auc:0.641523\n",
      "[360]\ttrain-auc:0.663391\ttest-auc:0.641727\n",
      "[380]\ttrain-auc:0.663708\ttest-auc:0.64171\n",
      "[400]\ttrain-auc:0.664226\ttest-auc:0.641778\n",
      "Stopping. Best iteration:\n",
      "[368]\ttrain-auc:0.663552\ttest-auc:0.6418\n",
      "\n",
      "4 of KFold 5\n",
      "[0]\ttrain-auc:0.589998\ttest-auc:0.585334\n",
      "Multiple eval metrics have been passed: 'test-auc' will be used for early stopping.\n",
      "\n",
      "Will train until test-auc hasn't improved in 50 rounds.\n",
      "[20]\ttrain-auc:0.620388\ttest-auc:0.617244\n",
      "[40]\ttrain-auc:0.629564\ttest-auc:0.625851\n",
      "[60]\ttrain-auc:0.638536\ttest-auc:0.633685\n",
      "[80]\ttrain-auc:0.643221\ttest-auc:0.637548\n",
      "[100]\ttrain-auc:0.647416\ttest-auc:0.640165\n",
      "[120]\ttrain-auc:0.649955\ttest-auc:0.64213\n",
      "[140]\ttrain-auc:0.651862\ttest-auc:0.642875\n",
      "[160]\ttrain-auc:0.65323\ttest-auc:0.643462\n",
      "[180]\ttrain-auc:0.654379\ttest-auc:0.643937\n",
      "[200]\ttrain-auc:0.655576\ttest-auc:0.644625\n",
      "[220]\ttrain-auc:0.656815\ttest-auc:0.645217\n",
      "[240]\ttrain-auc:0.657441\ttest-auc:0.645259\n",
      "[260]\ttrain-auc:0.658122\ttest-auc:0.645577\n",
      "[280]\ttrain-auc:0.658798\ttest-auc:0.645708\n",
      "[300]\ttrain-auc:0.659622\ttest-auc:0.646041\n",
      "[320]\ttrain-auc:0.660257\ttest-auc:0.6462\n",
      "[340]\ttrain-auc:0.660845\ttest-auc:0.646358\n",
      "[360]\ttrain-auc:0.661444\ttest-auc:0.646437\n",
      "[380]\ttrain-auc:0.662013\ttest-auc:0.646636\n",
      "[400]\ttrain-auc:0.662576\ttest-auc:0.64688\n",
      "[420]\ttrain-auc:0.663074\ttest-auc:0.646785\n",
      "[440]\ttrain-auc:0.663495\ttest-auc:0.64678\n",
      "Stopping. Best iteration:\n",
      "[390]\ttrain-auc:0.662504\ttest-auc:0.646887\n",
      "\n",
      "5 of KFold 5\n",
      "[0]\ttrain-auc:0.593133\ttest-auc:0.588705\n",
      "Multiple eval metrics have been passed: 'test-auc' will be used for early stopping.\n",
      "\n",
      "Will train until test-auc hasn't improved in 50 rounds.\n",
      "[20]\ttrain-auc:0.619907\ttest-auc:0.612881\n",
      "[40]\ttrain-auc:0.631135\ttest-auc:0.621839\n",
      "[60]\ttrain-auc:0.639469\ttest-auc:0.627865\n",
      "[80]\ttrain-auc:0.64548\ttest-auc:0.631315\n",
      "[100]\ttrain-auc:0.648951\ttest-auc:0.633163\n",
      "[120]\ttrain-auc:0.651561\ttest-auc:0.634713\n",
      "[140]\ttrain-auc:0.653293\ttest-auc:0.635719\n",
      "[160]\ttrain-auc:0.654573\ttest-auc:0.636245\n",
      "[180]\ttrain-auc:0.655951\ttest-auc:0.636581\n",
      "[200]\ttrain-auc:0.65717\ttest-auc:0.636895\n",
      "[220]\ttrain-auc:0.658151\ttest-auc:0.636851\n",
      "[240]\ttrain-auc:0.659015\ttest-auc:0.63676\n",
      "[260]\ttrain-auc:0.65989\ttest-auc:0.637145\n",
      "[280]\ttrain-auc:0.660627\ttest-auc:0.637366\n",
      "[300]\ttrain-auc:0.661426\ttest-auc:0.637552\n",
      "[320]\ttrain-auc:0.66205\ttest-auc:0.637585\n",
      "[340]\ttrain-auc:0.662707\ttest-auc:0.637726\n",
      "[360]\ttrain-auc:0.663313\ttest-auc:0.637792\n",
      "[380]\ttrain-auc:0.66376\ttest-auc:0.637855\n",
      "[400]\ttrain-auc:0.664458\ttest-auc:0.638099\n",
      "[420]\ttrain-auc:0.665038\ttest-auc:0.638109\n",
      "[440]\ttrain-auc:0.665471\ttest-auc:0.638008\n",
      "Stopping. Best iteration:\n",
      "[405]\ttrain-auc:0.664629\ttest-auc:0.638177\n",
      "\n"
     ]
    }
   ],
   "source": [
    "kf = StratifiedKFold(n_splits=5,random_state=seed)\n",
    "pred_test_full =0\n",
    "cv_score = []\n",
    "i=1\n",
    "for train_index,test_index in kf.split(X,y):\n",
    "    print('{} of KFold {}'.format(i,kf.n_splits))\n",
    "    xtr,xvl = X.loc[train_index],X.loc[test_index]\n",
    "    ytr,yvl = y.loc[train_index],y.loc[test_index]\n",
    "    \n",
    "    pred_test,xg_model = runXGB(xtr,xvl,ytr,yvl,x_test,num_rounds=500,eta=0.07)    \n",
    "    pred_test_full += pred_test\n",
    "    i+=1\n"
   ]
  },
  {
   "cell_type": "code",
   "execution_count": 48,
   "metadata": {
    "collapsed": true
   },
   "outputs": [],
   "source": [
    "pred_xgb = pred_test_full/5"
   ]
  },
  {
   "cell_type": "markdown",
   "metadata": {},
   "source": [
    "# Important Features"
   ]
  },
  {
   "cell_type": "code",
   "execution_count": 83,
   "metadata": {},
   "outputs": [
    {
     "data": {
      "image/png": "[encoded data removed]",
      "text/plain": [
       "<matplotlib.figure.Figure at 0x7f6e1a552588>"
      ]
     },
     "metadata": {},
     "output_type": "display_data"
    }
   ],
   "source": [
    "fig,ax = plt.subplots(figsize=(14,10))\n",
    "xgb.plot_importance(xg_model,ax=ax,height=0.8,color='r')\n",
    "#plt.tight_layout()\n",
    "plt.show()"
   ]
  },
  {
   "cell_type": "markdown",
   "metadata": {},
   "source": [
    "# Predict for unsen data set"
   ]
  },
  {
   "cell_type": "code",
   "execution_count": 82,
   "metadata": {
    "collapsed": true
   },
   "outputs": [],
   "source": [
    "y_pred = pred_xgb*0.6+ pred_lgb*0.4\n",
    "submit = pd.DataFrame({'id':test['id'],'target':y_pred})\n",
    "#submit.to_csv('lr_porto.csv',index=False)\n",
    "submit.to_csv('lr_porto.csv.gz',index=False,compression='gzip') "
   ]
  },
  {
   "cell_type": "markdown",
   "metadata": {
    "collapsed": true
   },
   "source": [
    "# Thank you for visiting"
   ]
  }
 ],
 "metadata": {
  "kernelspec": {
   "display_name": "Python 3",
   "language": "python",
   "name": "python3"
  },
  "language_info": {
   "codemirror_mode": {
    "name": "ipython",
    "version": 3
   },
   "file_extension": ".py",
   "mimetype": "text/x-python",
   "name": "python",
   "nbconvert_exporter": "python",
   "pygments_lexer": "ipython3",
   "version": "3.6.1"
  }
 },
 "nbformat": 4,
 "nbformat_minor": 2
}
