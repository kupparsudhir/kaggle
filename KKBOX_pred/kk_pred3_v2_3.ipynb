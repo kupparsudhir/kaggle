{
 "cells": [
  {
   "cell_type": "markdown",
   "metadata": {},
   "source": [
    "# Import library"
   ]
  },
  {
   "cell_type": "code",
   "execution_count": 67,
   "metadata": {},
   "outputs": [],
   "source": [
    "import pandas as pd\n",
    "import numpy as np\n",
    "import seaborn as sns\n",
    "import matplotlib.pyplot as plt\n",
    "\n",
    "from sklearn.linear_model import LogisticRegression\n",
    "from sklearn.model_selection import StratifiedKFold,RandomizedSearchCV\n",
    "from sklearn.metrics import roc_auc_score,confusion_matrix,roc_curve\n",
    "from sklearn.preprocessing import LabelEncoder\n",
    "from sklearn.feature_extraction.text import TfidfVectorizer\n",
    "\n",
    "import datetime as dt\n",
    "from xgboost import XGBClassifier \n",
    "from catboost import Pool,CatBoostClassifier\n",
    "from lightgbm import LGBMClassifier\n",
    "\n",
    "% matplotlib inline\n",
    "seed = 129"
   ]
  },
  {
   "cell_type": "markdown",
   "metadata": {},
   "source": [
    "# Import Dataset"
   ]
  },
  {
   "cell_type": "code",
   "execution_count": 2,
   "metadata": {},
   "outputs": [],
   "source": [
    "#path = '../input/'\n",
    "path = ''\n",
    "train = pd.read_csv(path+'train_v2.csv',dtype={'is_churn':np.int8})\n",
    "test = pd.read_csv(path+'sample_submission_v2.csv',dtype={'is_churn':np.int8})\n",
    "members = pd.read_csv(path+'members_v3.csv',parse_dates=['registration_init_time'],dtype={'city':np.int8,'bd':np.int8,\n",
    "                                                                                         'registered_via':np.int8})\n",
    "transactions = pd.read_csv(path+'transactions_v2.csv',parse_dates=['transaction_date','membership_expire_date'],\n",
    "                          dtype={'payment_method_id':np.int8,'payment_plan_days':np.int8,'plan_list_price':np.int8,\n",
    "                                'actual_amount_paid':np.int8,'is_auto_renew':np.int8,'is_cancel':np.int8})\n",
    "\n",
    "user_log = pd.read_csv(path+'user_logs_v2.csv',parse_dates=['date'],dtype={'num_25':np.int16,'num_50':np.int16,\n",
    "                                    'num_75':np.int16,'num_985':np.int16,'num_100':np.int16,'num_unq':np.int16})"
   ]
  },
  {
   "cell_type": "markdown",
   "metadata": {},
   "source": [
    "# Explore data set"
   ]
  },
  {
   "cell_type": "code",
   "execution_count": 33,
   "metadata": {},
   "outputs": [
    {
     "name": "stdout",
     "output_type": "stream",
     "text": [
      "Number of rows  & columns (970960, 2)\n"
     ]
    },
    {
     "data": {
      "text/html": [
       "<div>\n",
       "<style>\n",
       "    .dataframe thead tr:only-child th {\n",
       "        text-align: right;\n",
       "    }\n",
       "\n",
       "    .dataframe thead th {\n",
       "        text-align: left;\n",
       "    }\n",
       "\n",
       "    .dataframe tbody tr th {\n",
       "        vertical-align: top;\n",
       "    }\n",
       "</style>\n",
       "<table border=\"1\" class=\"dataframe\">\n",
       "  <thead>\n",
       "    <tr style=\"text-align: right;\">\n",
       "      <th></th>\n",
       "      <th>msno</th>\n",
       "      <th>is_churn</th>\n",
       "    </tr>\n",
       "  </thead>\n",
       "  <tbody>\n",
       "    <tr>\n",
       "      <th>0</th>\n",
       "      <td>ugx0CjOMzazClkFzU2xasmDZaoIqOUAZPsH1q0teWCg=</td>\n",
       "      <td>1</td>\n",
       "    </tr>\n",
       "    <tr>\n",
       "      <th>1</th>\n",
       "      <td>f/NmvEzHfhINFEYZTR05prUdr+E+3+oewvweYz9cCQE=</td>\n",
       "      <td>1</td>\n",
       "    </tr>\n",
       "    <tr>\n",
       "      <th>2</th>\n",
       "      <td>zLo9f73nGGT1p21ltZC3ChiRnAVvgibMyazbCxvWPcg=</td>\n",
       "      <td>1</td>\n",
       "    </tr>\n",
       "    <tr>\n",
       "      <th>3</th>\n",
       "      <td>8iF/+8HY8lJKFrTc7iR9ZYGCG2Ecrogbc2Vy5YhsfhQ=</td>\n",
       "      <td>1</td>\n",
       "    </tr>\n",
       "    <tr>\n",
       "      <th>4</th>\n",
       "      <td>K6fja4+jmoZ5xG6BypqX80Uw/XKpMgrEMdG2edFOxnA=</td>\n",
       "      <td>1</td>\n",
       "    </tr>\n",
       "  </tbody>\n",
       "</table>\n",
       "</div>"
      ],
      "text/plain": [
       "                                           msno  is_churn\n",
       "0  ugx0CjOMzazClkFzU2xasmDZaoIqOUAZPsH1q0teWCg=         1\n",
       "1  f/NmvEzHfhINFEYZTR05prUdr+E+3+oewvweYz9cCQE=         1\n",
       "2  zLo9f73nGGT1p21ltZC3ChiRnAVvgibMyazbCxvWPcg=         1\n",
       "3  8iF/+8HY8lJKFrTc7iR9ZYGCG2Ecrogbc2Vy5YhsfhQ=         1\n",
       "4  K6fja4+jmoZ5xG6BypqX80Uw/XKpMgrEMdG2edFOxnA=         1"
      ]
     },
     "execution_count": 33,
     "metadata": {},
     "output_type": "execute_result"
    }
   ],
   "source": [
    "print('Number of rows  & columns',train.shape)\n",
    "train.head()"
   ]
  },
  {
   "cell_type": "code",
   "execution_count": 4,
   "metadata": {},
   "outputs": [
    {
     "name": "stdout",
     "output_type": "stream",
     "text": [
      "Number of rows  & columns (907471, 2)\n"
     ]
    },
    {
     "data": {
      "text/html": [
       "<div>\n",
       "<style>\n",
       "    .dataframe thead tr:only-child th {\n",
       "        text-align: right;\n",
       "    }\n",
       "\n",
       "    .dataframe thead th {\n",
       "        text-align: left;\n",
       "    }\n",
       "\n",
       "    .dataframe tbody tr th {\n",
       "        vertical-align: top;\n",
       "    }\n",
       "</style>\n",
       "<table border=\"1\" class=\"dataframe\">\n",
       "  <thead>\n",
       "    <tr style=\"text-align: right;\">\n",
       "      <th></th>\n",
       "      <th>msno</th>\n",
       "      <th>is_churn</th>\n",
       "    </tr>\n",
       "  </thead>\n",
       "  <tbody>\n",
       "    <tr>\n",
       "      <th>0</th>\n",
       "      <td>4n+fXlyJvfQnTeKXTWT507Ll4JVYGrOC8LHCfwBmPE4=</td>\n",
       "      <td>0</td>\n",
       "    </tr>\n",
       "    <tr>\n",
       "      <th>1</th>\n",
       "      <td>aNmbC1GvFUxQyQUidCVmfbQ0YeCuwkPzEdQ0RwWyeZM=</td>\n",
       "      <td>0</td>\n",
       "    </tr>\n",
       "    <tr>\n",
       "      <th>2</th>\n",
       "      <td>rFC9eSG/tMuzpre6cwcMLZHEYM89xY02qcz7HL4//jc=</td>\n",
       "      <td>0</td>\n",
       "    </tr>\n",
       "    <tr>\n",
       "      <th>3</th>\n",
       "      <td>WZ59dLyrQcE7ft06MZ5dj40BnlYQY7PHgg/54+HaCSE=</td>\n",
       "      <td>0</td>\n",
       "    </tr>\n",
       "    <tr>\n",
       "      <th>4</th>\n",
       "      <td>aky/Iv8hMp1/V/yQHLtaVuEmmAxkB5GuasQZePJ7NU4=</td>\n",
       "      <td>0</td>\n",
       "    </tr>\n",
       "  </tbody>\n",
       "</table>\n",
       "</div>"
      ],
      "text/plain": [
       "                                           msno  is_churn\n",
       "0  4n+fXlyJvfQnTeKXTWT507Ll4JVYGrOC8LHCfwBmPE4=         0\n",
       "1  aNmbC1GvFUxQyQUidCVmfbQ0YeCuwkPzEdQ0RwWyeZM=         0\n",
       "2  rFC9eSG/tMuzpre6cwcMLZHEYM89xY02qcz7HL4//jc=         0\n",
       "3  WZ59dLyrQcE7ft06MZ5dj40BnlYQY7PHgg/54+HaCSE=         0\n",
       "4  aky/Iv8hMp1/V/yQHLtaVuEmmAxkB5GuasQZePJ7NU4=         0"
      ]
     },
     "execution_count": 4,
     "metadata": {},
     "output_type": "execute_result"
    }
   ],
   "source": [
    "print('Number of rows  & columns',test.shape)\n",
    "test.head()"
   ]
  },
  {
   "cell_type": "code",
   "execution_count": 34,
   "metadata": {},
   "outputs": [
    {
     "name": "stdout",
     "output_type": "stream",
     "text": [
      "Number of rows  & columns (6769473, 6)\n"
     ]
    },
    {
     "data": {
      "text/html": [
       "<div>\n",
       "<style>\n",
       "    .dataframe thead tr:only-child th {\n",
       "        text-align: right;\n",
       "    }\n",
       "\n",
       "    .dataframe thead th {\n",
       "        text-align: left;\n",
       "    }\n",
       "\n",
       "    .dataframe tbody tr th {\n",
       "        vertical-align: top;\n",
       "    }\n",
       "</style>\n",
       "<table border=\"1\" class=\"dataframe\">\n",
       "  <thead>\n",
       "    <tr style=\"text-align: right;\">\n",
       "      <th></th>\n",
       "      <th>msno</th>\n",
       "      <th>city</th>\n",
       "      <th>bd</th>\n",
       "      <th>gender</th>\n",
       "      <th>registered_via</th>\n",
       "      <th>registration_init_time</th>\n",
       "    </tr>\n",
       "  </thead>\n",
       "  <tbody>\n",
       "    <tr>\n",
       "      <th>0</th>\n",
       "      <td>Rb9UwLQTrxzBVwCB6+bCcSQWZ9JiNLC9dXtM1oEsZA8=</td>\n",
       "      <td>1</td>\n",
       "      <td>0</td>\n",
       "      <td>NaN</td>\n",
       "      <td>11</td>\n",
       "      <td>2011-09-11</td>\n",
       "    </tr>\n",
       "    <tr>\n",
       "      <th>1</th>\n",
       "      <td>+tJonkh+O1CA796Fm5X60UMOtB6POHAwPjbTRVl/EuU=</td>\n",
       "      <td>1</td>\n",
       "      <td>0</td>\n",
       "      <td>NaN</td>\n",
       "      <td>7</td>\n",
       "      <td>2011-09-14</td>\n",
       "    </tr>\n",
       "    <tr>\n",
       "      <th>2</th>\n",
       "      <td>cV358ssn7a0f7jZOwGNWS07wCKVqxyiImJUX6xcIwKw=</td>\n",
       "      <td>1</td>\n",
       "      <td>0</td>\n",
       "      <td>NaN</td>\n",
       "      <td>11</td>\n",
       "      <td>2011-09-15</td>\n",
       "    </tr>\n",
       "    <tr>\n",
       "      <th>3</th>\n",
       "      <td>9bzDeJP6sQodK73K5CBlJ6fgIQzPeLnRl0p5B77XP+g=</td>\n",
       "      <td>1</td>\n",
       "      <td>0</td>\n",
       "      <td>NaN</td>\n",
       "      <td>11</td>\n",
       "      <td>2011-09-15</td>\n",
       "    </tr>\n",
       "    <tr>\n",
       "      <th>4</th>\n",
       "      <td>WFLY3s7z4EZsieHCt63XrsdtfTEmJ+2PnnKLH5GY4Tk=</td>\n",
       "      <td>6</td>\n",
       "      <td>32</td>\n",
       "      <td>female</td>\n",
       "      <td>9</td>\n",
       "      <td>2011-09-15</td>\n",
       "    </tr>\n",
       "  </tbody>\n",
       "</table>\n",
       "</div>"
      ],
      "text/plain": [
       "                                           msno  city  bd  gender  \\\n",
       "0  Rb9UwLQTrxzBVwCB6+bCcSQWZ9JiNLC9dXtM1oEsZA8=     1   0     NaN   \n",
       "1  +tJonkh+O1CA796Fm5X60UMOtB6POHAwPjbTRVl/EuU=     1   0     NaN   \n",
       "2  cV358ssn7a0f7jZOwGNWS07wCKVqxyiImJUX6xcIwKw=     1   0     NaN   \n",
       "3  9bzDeJP6sQodK73K5CBlJ6fgIQzPeLnRl0p5B77XP+g=     1   0     NaN   \n",
       "4  WFLY3s7z4EZsieHCt63XrsdtfTEmJ+2PnnKLH5GY4Tk=     6  32  female   \n",
       "\n",
       "   registered_via registration_init_time  \n",
       "0              11             2011-09-11  \n",
       "1               7             2011-09-14  \n",
       "2              11             2011-09-15  \n",
       "3              11             2011-09-15  \n",
       "4               9             2011-09-15  "
      ]
     },
     "execution_count": 34,
     "metadata": {},
     "output_type": "execute_result"
    }
   ],
   "source": [
    "print('Number of rows  & columns',members.shape)\n",
    "members.head()"
   ]
  },
  {
   "cell_type": "code",
   "execution_count": 35,
   "metadata": {},
   "outputs": [
    {
     "name": "stdout",
     "output_type": "stream",
     "text": [
      "Number of rows & columns (1431009, 9)\n"
     ]
    },
    {
     "data": {
      "text/html": [
       "<div>\n",
       "<style>\n",
       "    .dataframe thead tr:only-child th {\n",
       "        text-align: right;\n",
       "    }\n",
       "\n",
       "    .dataframe thead th {\n",
       "        text-align: left;\n",
       "    }\n",
       "\n",
       "    .dataframe tbody tr th {\n",
       "        vertical-align: top;\n",
       "    }\n",
       "</style>\n",
       "<table border=\"1\" class=\"dataframe\">\n",
       "  <thead>\n",
       "    <tr style=\"text-align: right;\">\n",
       "      <th></th>\n",
       "      <th>msno</th>\n",
       "      <th>payment_method_id</th>\n",
       "      <th>payment_plan_days</th>\n",
       "      <th>plan_list_price</th>\n",
       "      <th>actual_amount_paid</th>\n",
       "      <th>is_auto_renew</th>\n",
       "      <th>transaction_date</th>\n",
       "      <th>membership_expire_date</th>\n",
       "      <th>is_cancel</th>\n",
       "    </tr>\n",
       "  </thead>\n",
       "  <tbody>\n",
       "    <tr>\n",
       "      <th>0</th>\n",
       "      <td>++6eU4LsQ3UQ20ILS7d99XK8WbiVgbyYL4FUgzZR134=</td>\n",
       "      <td>32</td>\n",
       "      <td>90</td>\n",
       "      <td>42</td>\n",
       "      <td>42</td>\n",
       "      <td>0</td>\n",
       "      <td>2017-01-31</td>\n",
       "      <td>2017-05-04</td>\n",
       "      <td>0</td>\n",
       "    </tr>\n",
       "    <tr>\n",
       "      <th>1</th>\n",
       "      <td>++lvGPJOinuin/8esghpnqdljm6NXS8m8Zwchc7gOeA=</td>\n",
       "      <td>41</td>\n",
       "      <td>30</td>\n",
       "      <td>-107</td>\n",
       "      <td>-107</td>\n",
       "      <td>1</td>\n",
       "      <td>2015-08-09</td>\n",
       "      <td>2019-04-12</td>\n",
       "      <td>0</td>\n",
       "    </tr>\n",
       "    <tr>\n",
       "      <th>2</th>\n",
       "      <td>+/GXNtXWQVfKrEDqYAzcSw2xSPYMKWNj22m+5XkVQZc=</td>\n",
       "      <td>36</td>\n",
       "      <td>30</td>\n",
       "      <td>-76</td>\n",
       "      <td>-76</td>\n",
       "      <td>1</td>\n",
       "      <td>2017-03-03</td>\n",
       "      <td>2017-04-22</td>\n",
       "      <td>0</td>\n",
       "    </tr>\n",
       "    <tr>\n",
       "      <th>3</th>\n",
       "      <td>+/w1UrZwyka4C9oNH3+Q8fUf3fD8R3EwWrx57ODIsqk=</td>\n",
       "      <td>36</td>\n",
       "      <td>30</td>\n",
       "      <td>-76</td>\n",
       "      <td>-76</td>\n",
       "      <td>1</td>\n",
       "      <td>2017-03-29</td>\n",
       "      <td>2017-03-31</td>\n",
       "      <td>1</td>\n",
       "    </tr>\n",
       "    <tr>\n",
       "      <th>4</th>\n",
       "      <td>+00PGzKTYqtnb65mPKPyeHXcZEwqiEzktpQksaaSC3c=</td>\n",
       "      <td>41</td>\n",
       "      <td>30</td>\n",
       "      <td>99</td>\n",
       "      <td>99</td>\n",
       "      <td>1</td>\n",
       "      <td>2017-03-23</td>\n",
       "      <td>2017-04-23</td>\n",
       "      <td>0</td>\n",
       "    </tr>\n",
       "  </tbody>\n",
       "</table>\n",
       "</div>"
      ],
      "text/plain": [
       "                                           msno  payment_method_id  \\\n",
       "0  ++6eU4LsQ3UQ20ILS7d99XK8WbiVgbyYL4FUgzZR134=                 32   \n",
       "1  ++lvGPJOinuin/8esghpnqdljm6NXS8m8Zwchc7gOeA=                 41   \n",
       "2  +/GXNtXWQVfKrEDqYAzcSw2xSPYMKWNj22m+5XkVQZc=                 36   \n",
       "3  +/w1UrZwyka4C9oNH3+Q8fUf3fD8R3EwWrx57ODIsqk=                 36   \n",
       "4  +00PGzKTYqtnb65mPKPyeHXcZEwqiEzktpQksaaSC3c=                 41   \n",
       "\n",
       "   payment_plan_days  plan_list_price  actual_amount_paid  is_auto_renew  \\\n",
       "0                 90               42                  42              0   \n",
       "1                 30             -107                -107              1   \n",
       "2                 30              -76                 -76              1   \n",
       "3                 30              -76                 -76              1   \n",
       "4                 30               99                  99              1   \n",
       "\n",
       "  transaction_date membership_expire_date  is_cancel  \n",
       "0       2017-01-31             2017-05-04          0  \n",
       "1       2015-08-09             2019-04-12          0  \n",
       "2       2017-03-03             2017-04-22          0  \n",
       "3       2017-03-29             2017-03-31          1  \n",
       "4       2017-03-23             2017-04-23          0  "
      ]
     },
     "execution_count": 35,
     "metadata": {},
     "output_type": "execute_result"
    }
   ],
   "source": [
    "print('Number of rows & columns',transactions.shape)\n",
    "transactions.head()"
   ]
  },
  {
   "cell_type": "code",
   "execution_count": 37,
   "metadata": {},
   "outputs": [
    {
     "name": "stdout",
     "output_type": "stream",
     "text": [
      "Number of rows & columns (18396362, 9)\n"
     ]
    },
    {
     "data": {
      "text/html": [
       "<div>\n",
       "<style>\n",
       "    .dataframe thead tr:only-child th {\n",
       "        text-align: right;\n",
       "    }\n",
       "\n",
       "    .dataframe thead th {\n",
       "        text-align: left;\n",
       "    }\n",
       "\n",
       "    .dataframe tbody tr th {\n",
       "        vertical-align: top;\n",
       "    }\n",
       "</style>\n",
       "<table border=\"1\" class=\"dataframe\">\n",
       "  <thead>\n",
       "    <tr style=\"text-align: right;\">\n",
       "      <th></th>\n",
       "      <th>msno</th>\n",
       "      <th>date</th>\n",
       "      <th>num_25</th>\n",
       "      <th>num_50</th>\n",
       "      <th>num_75</th>\n",
       "      <th>num_985</th>\n",
       "      <th>num_100</th>\n",
       "      <th>num_unq</th>\n",
       "      <th>total_secs</th>\n",
       "    </tr>\n",
       "  </thead>\n",
       "  <tbody>\n",
       "    <tr>\n",
       "      <th>0</th>\n",
       "      <td>u9E91QDTvHLq6NXjEaWv8u4QIqhrHk72kE+w31Gnhdg=</td>\n",
       "      <td>2017-03-31</td>\n",
       "      <td>8</td>\n",
       "      <td>4</td>\n",
       "      <td>0</td>\n",
       "      <td>1</td>\n",
       "      <td>21</td>\n",
       "      <td>18</td>\n",
       "      <td>6309.273</td>\n",
       "    </tr>\n",
       "    <tr>\n",
       "      <th>1</th>\n",
       "      <td>nTeWW/eOZA/UHKdD5L7DEqKKFTjaAj3ALLPoAWsU8n0=</td>\n",
       "      <td>2017-03-30</td>\n",
       "      <td>2</td>\n",
       "      <td>2</td>\n",
       "      <td>1</td>\n",
       "      <td>0</td>\n",
       "      <td>9</td>\n",
       "      <td>11</td>\n",
       "      <td>2390.699</td>\n",
       "    </tr>\n",
       "    <tr>\n",
       "      <th>2</th>\n",
       "      <td>2UqkWXwZbIjs03dHLU9KHJNNEvEkZVzm69f3jCS+uLI=</td>\n",
       "      <td>2017-03-31</td>\n",
       "      <td>52</td>\n",
       "      <td>3</td>\n",
       "      <td>5</td>\n",
       "      <td>3</td>\n",
       "      <td>84</td>\n",
       "      <td>110</td>\n",
       "      <td>23203.337</td>\n",
       "    </tr>\n",
       "    <tr>\n",
       "      <th>3</th>\n",
       "      <td>ycwLc+m2O0a85jSLALtr941AaZt9ai8Qwlg9n0Nql5U=</td>\n",
       "      <td>2017-03-31</td>\n",
       "      <td>176</td>\n",
       "      <td>4</td>\n",
       "      <td>2</td>\n",
       "      <td>2</td>\n",
       "      <td>19</td>\n",
       "      <td>191</td>\n",
       "      <td>7100.454</td>\n",
       "    </tr>\n",
       "    <tr>\n",
       "      <th>4</th>\n",
       "      <td>EGcbTofOSOkMmQyN1NMLxHEXJ1yV3t/JdhGwQ9wXjnI=</td>\n",
       "      <td>2017-03-31</td>\n",
       "      <td>2</td>\n",
       "      <td>1</td>\n",
       "      <td>0</td>\n",
       "      <td>1</td>\n",
       "      <td>112</td>\n",
       "      <td>93</td>\n",
       "      <td>28401.558</td>\n",
       "    </tr>\n",
       "  </tbody>\n",
       "</table>\n",
       "</div>"
      ],
      "text/plain": [
       "                                           msno       date  num_25  num_50  \\\n",
       "0  u9E91QDTvHLq6NXjEaWv8u4QIqhrHk72kE+w31Gnhdg= 2017-03-31       8       4   \n",
       "1  nTeWW/eOZA/UHKdD5L7DEqKKFTjaAj3ALLPoAWsU8n0= 2017-03-30       2       2   \n",
       "2  2UqkWXwZbIjs03dHLU9KHJNNEvEkZVzm69f3jCS+uLI= 2017-03-31      52       3   \n",
       "3  ycwLc+m2O0a85jSLALtr941AaZt9ai8Qwlg9n0Nql5U= 2017-03-31     176       4   \n",
       "4  EGcbTofOSOkMmQyN1NMLxHEXJ1yV3t/JdhGwQ9wXjnI= 2017-03-31       2       1   \n",
       "\n",
       "   num_75  num_985  num_100  num_unq  total_secs  \n",
       "0       0        1       21       18    6309.273  \n",
       "1       1        0        9       11    2390.699  \n",
       "2       5        3       84      110   23203.337  \n",
       "3       2        2       19      191    7100.454  \n",
       "4       0        1      112       93   28401.558  "
      ]
     },
     "execution_count": 37,
     "metadata": {},
     "output_type": "execute_result"
    }
   ],
   "source": [
    "print('Number of rows & columns',user_log.shape)\n",
    "user_log.head()"
   ]
  },
  {
   "cell_type": "code",
   "execution_count": 38,
   "metadata": {},
   "outputs": [
    {
     "name": "stdout",
     "output_type": "stream",
     "text": [
      "\n",
      "Train:              count      mean       std  min  25%  50%  75%  max\n",
      "is_churn  970960.0  0.089942  0.286099  0.0  0.0  0.0  0.0  1.0\n",
      "\n",
      "Test:              count  mean  std  min  25%  50%  75%  max\n",
      "is_churn  907471.0   0.0  0.0  0.0  0.0  0.0  0.0  0.0\n",
      "\n",
      "Members:                     count      mean        std    min  25%  50%   75%    max\n",
      "city            6769473.0  3.847358   5.478359    1.0  1.0  1.0   4.0   22.0\n",
      "bd              6769473.0  9.763688  15.354561 -128.0  0.0  0.0  21.0  126.0\n",
      "registered_via  6769473.0  5.253069   2.361398   -1.0  4.0  4.0   7.0   19.0\n",
      "\n",
      "Transactions:                         count       mean        std    min    25%   50%   75%  \\\n",
      "payment_method_id   1431009.0  37.918355   4.964805    2.0   36.0  40.0  41.0   \n",
      "payment_plan_days   1431009.0  18.432050  39.830162 -117.0   30.0  30.0  30.0   \n",
      "plan_list_price     1431009.0 -21.387690  94.768896 -127.0 -107.0 -76.0  99.0   \n",
      "actual_amount_paid  1431009.0 -20.556024  94.926916 -127.0 -107.0 -76.0  99.0   \n",
      "is_auto_renew       1431009.0   0.785303   0.410612    0.0    1.0   1.0   1.0   \n",
      "is_cancel           1431009.0   0.024551   0.154753    0.0    0.0   0.0   0.0   \n",
      "\n",
      "                      max  \n",
      "payment_method_id    41.0  \n",
      "payment_plan_days   120.0  \n",
      "plan_list_price     126.0  \n",
      "actual_amount_paid  127.0  \n",
      "is_auto_renew         1.0  \n",
      "is_cancel             1.0  \n",
      "\n",
      "User log:                  count         mean           std        min       25%  \\\n",
      "num_25      18396362.0     6.191401     13.428266      0.000     0.000   \n",
      "num_50      18396362.0     1.508789      3.908539      0.000     0.000   \n",
      "num_75      18396362.0     0.941376      1.924840      0.000     0.000   \n",
      "num_985     18396362.0     1.079905      3.518409      0.000     0.000   \n",
      "num_100     18396362.0    30.278898     41.326278 -24429.000     7.000   \n",
      "num_unq     18396362.0    29.036146     32.198660      1.000     8.000   \n",
      "total_secs  18396362.0  7904.813556  10136.323015      0.001  1959.944   \n",
      "\n",
      "                50%       75%          max  \n",
      "num_25         2.00     7.000     5639.000  \n",
      "num_50         1.00     2.000      912.000  \n",
      "num_75         0.00     1.000      508.000  \n",
      "num_985        0.00     1.000     1561.000  \n",
      "num_100       17.00    37.000    21073.000  \n",
      "num_unq       18.00    38.000     4925.000  \n",
      "total_secs  4582.99  9848.441  9194058.522  \n"
     ]
    }
   ],
   "source": [
    "print('\\nTrain:',train.describe().T)\n",
    "print('\\nTest:',test.describe().T)\n",
    "print('\\nMembers:',members.describe().T)\n",
    "print('\\nTransactions:',transactions.describe().T)\n",
    "print('\\nUser log:',user_log.describe().T)\n"
   ]
  },
  {
   "cell_type": "markdown",
   "metadata": {},
   "source": [
    "# Merge data set"
   ]
  },
  {
   "cell_type": "code",
   "execution_count": 3,
   "metadata": {},
   "outputs": [
    {
     "name": "stdout",
     "output_type": "stream",
     "text": [
      "Number of rows & columns (970960, 23)\n",
      "Number of rows & columns (907471, 23)\n"
     ]
    }
   ],
   "source": [
    "train = pd.merge(train,members,on='msno',how='left')\n",
    "test = pd.merge(test,members,on='msno',how='left')\n",
    "train = pd.merge(train,transactions,how='left',on='msno',left_index=True, right_index=True)\n",
    "test = pd.merge(test,transactions,how='left',on='msno',left_index=True, right_index=True,)\n",
    "train = pd.merge(train,user_log,how='left',on='msno',left_index=True, right_index=True)\n",
    "test = pd.merge(test,user_log,how='left',on='msno',left_index=True, right_index=True)\n",
    "\n",
    "del members,transactions,user_log\n",
    "print('Number of rows & columns',train.shape)\n",
    "print('Number of rows & columns',test.shape)\n"
   ]
  },
  {
   "cell_type": "markdown",
   "metadata": {},
   "source": [
    "# Date feature"
   ]
  },
  {
   "cell_type": "code",
   "execution_count": 4,
   "metadata": {},
   "outputs": [
    {
     "data": {
      "text/html": [
       "<div>\n",
       "<style>\n",
       "    .dataframe thead tr:only-child th {\n",
       "        text-align: right;\n",
       "    }\n",
       "\n",
       "    .dataframe thead th {\n",
       "        text-align: left;\n",
       "    }\n",
       "\n",
       "    .dataframe tbody tr th {\n",
       "        vertical-align: top;\n",
       "    }\n",
       "</style>\n",
       "<table border=\"1\" class=\"dataframe\">\n",
       "  <thead>\n",
       "    <tr style=\"text-align: right;\">\n",
       "      <th></th>\n",
       "      <th>registration_init_time</th>\n",
       "      <th>transaction_date</th>\n",
       "      <th>membership_expire_date</th>\n",
       "      <th>date</th>\n",
       "    </tr>\n",
       "  </thead>\n",
       "  <tbody>\n",
       "    <tr>\n",
       "      <th>count</th>\n",
       "      <td>860967</td>\n",
       "      <td>970960</td>\n",
       "      <td>970960</td>\n",
       "      <td>970960</td>\n",
       "    </tr>\n",
       "    <tr>\n",
       "      <th>unique</th>\n",
       "      <td>4749</td>\n",
       "      <td>820</td>\n",
       "      <td>1818</td>\n",
       "      <td>31</td>\n",
       "    </tr>\n",
       "    <tr>\n",
       "      <th>top</th>\n",
       "      <td>2015-10-09 00:00:00</td>\n",
       "      <td>2017-03-31 00:00:00</td>\n",
       "      <td>2017-04-30 00:00:00</td>\n",
       "      <td>2017-03-30 00:00:00</td>\n",
       "    </tr>\n",
       "    <tr>\n",
       "      <th>freq</th>\n",
       "      <td>1575</td>\n",
       "      <td>130414</td>\n",
       "      <td>79283</td>\n",
       "      <td>32331</td>\n",
       "    </tr>\n",
       "    <tr>\n",
       "      <th>first</th>\n",
       "      <td>2004-03-26 00:00:00</td>\n",
       "      <td>2015-01-01 00:00:00</td>\n",
       "      <td>2016-04-20 00:00:00</td>\n",
       "      <td>2017-03-01 00:00:00</td>\n",
       "    </tr>\n",
       "    <tr>\n",
       "      <th>last</th>\n",
       "      <td>2017-04-24 00:00:00</td>\n",
       "      <td>2017-03-31 00:00:00</td>\n",
       "      <td>2036-10-15 00:00:00</td>\n",
       "      <td>2017-03-31 00:00:00</td>\n",
       "    </tr>\n",
       "  </tbody>\n",
       "</table>\n",
       "</div>"
      ],
      "text/plain": [
       "       registration_init_time     transaction_date membership_expire_date  \\\n",
       "count                  860967               970960                 970960   \n",
       "unique                   4749                  820                   1818   \n",
       "top       2015-10-09 00:00:00  2017-03-31 00:00:00    2017-04-30 00:00:00   \n",
       "freq                     1575               130414                  79283   \n",
       "first     2004-03-26 00:00:00  2015-01-01 00:00:00    2016-04-20 00:00:00   \n",
       "last      2017-04-24 00:00:00  2017-03-31 00:00:00    2036-10-15 00:00:00   \n",
       "\n",
       "                       date  \n",
       "count                970960  \n",
       "unique                   31  \n",
       "top     2017-03-30 00:00:00  \n",
       "freq                  32331  \n",
       "first   2017-03-01 00:00:00  \n",
       "last    2017-03-31 00:00:00  "
      ]
     },
     "execution_count": 4,
     "metadata": {},
     "output_type": "execute_result"
    }
   ],
   "source": [
    "train[['registration_init_time' ,'transaction_date','membership_expire_date','date']].describe()"
   ]
  },
  {
   "cell_type": "code",
   "execution_count": 5,
   "metadata": {},
   "outputs": [
    {
     "data": {
      "text/plain": [
       "registration_init_time    109993\n",
       "transaction_date               0\n",
       "membership_expire_date         0\n",
       "date                           0\n",
       "dtype: int64"
      ]
     },
     "execution_count": 5,
     "metadata": {},
     "output_type": "execute_result"
    }
   ],
   "source": [
    "train[['registration_init_time' ,'transaction_date','membership_expire_date','date']].isnull().sum()"
   ]
  },
  {
   "cell_type": "code",
   "execution_count": 6,
   "metadata": {},
   "outputs": [],
   "source": [
    "train['registration_init_time'] = train['registration_init_time'].fillna(value=pd.to_datetime('09/10/2015'))\n",
    "test['registration_init_time'] = test['registration_init_time'].fillna(value=pd.to_datetime('09/10/2015'))"
   ]
  },
  {
   "cell_type": "code",
   "execution_count": 7,
   "metadata": {},
   "outputs": [],
   "source": [
    "def date_feature(df):\n",
    "    \n",
    "    col = ['registration_init_time' ,'transaction_date','membership_expire_date','date']\n",
    "    var = ['reg','trans','mem_exp','user_']\n",
    "    #df['duration'] = (df[col[1]] - df[col[0]]).dt.days \n",
    "    \n",
    "    for i ,j in zip(col,var):\n",
    "        df[j+'_day'] = df[i].dt.day.astype('uint8')\n",
    "        df[j+'_weekday'] = df[i].dt.weekday.astype('uint8')        \n",
    "        df[j+'_month'] = df[i].dt.month.astype('uint8') \n",
    "        df[j+'_year'] =df[i].dt.year.astype('uint16') \n",
    "\n",
    "date_feature(train)\n",
    "date_feature(test)"
   ]
  },
  {
   "cell_type": "markdown",
   "metadata": {},
   "source": [
    "# Data analysis "
   ]
  },
  {
   "cell_type": "code",
   "execution_count": 8,
   "metadata": {},
   "outputs": [
    {
     "data": {
      "text/plain": [
       "Index(['msno', 'is_churn', 'city', 'bd', 'gender', 'registered_via',\n",
       "       'registration_init_time', 'payment_method_id', 'payment_plan_days',\n",
       "       'plan_list_price', 'actual_amount_paid', 'is_auto_renew',\n",
       "       'transaction_date', 'membership_expire_date', 'is_cancel', 'date',\n",
       "       'num_25', 'num_50', 'num_75', 'num_985', 'num_100', 'num_unq',\n",
       "       'total_secs', 'reg_day', 'reg_weekday', 'reg_month', 'reg_year',\n",
       "       'trans_day', 'trans_weekday', 'trans_month', 'trans_year',\n",
       "       'mem_exp_day', 'mem_exp_weekday', 'mem_exp_month', 'mem_exp_year',\n",
       "       'user__day', 'user__weekday', 'user__month', 'user__year'],\n",
       "      dtype='object')"
      ]
     },
     "execution_count": 8,
     "metadata": {},
     "output_type": "execute_result"
    }
   ],
   "source": [
    "train.columns"
   ]
  },
  {
   "cell_type": "markdown",
   "metadata": {},
   "source": [
    "# Missing value"
   ]
  },
  {
   "cell_type": "code",
   "execution_count": 9,
   "metadata": {},
   "outputs": [
    {
     "data": {
      "text/plain": [
       "msno                           0\n",
       "is_churn                       0\n",
       "city                      109993\n",
       "bd                        109993\n",
       "gender                    582055\n",
       "registered_via            109993\n",
       "registration_init_time         0\n",
       "payment_method_id              0\n",
       "payment_plan_days              0\n",
       "plan_list_price                0\n",
       "actual_amount_paid             0\n",
       "is_auto_renew                  0\n",
       "transaction_date               0\n",
       "membership_expire_date         0\n",
       "is_cancel                      0\n",
       "date                           0\n",
       "num_25                         0\n",
       "num_50                         0\n",
       "num_75                         0\n",
       "num_985                        0\n",
       "num_100                        0\n",
       "num_unq                        0\n",
       "total_secs                     0\n",
       "reg_day                        0\n",
       "reg_weekday                    0\n",
       "reg_month                      0\n",
       "reg_year                       0\n",
       "trans_day                      0\n",
       "trans_weekday                  0\n",
       "trans_month                    0\n",
       "trans_year                     0\n",
       "mem_exp_day                    0\n",
       "mem_exp_weekday                0\n",
       "mem_exp_month                  0\n",
       "mem_exp_year                   0\n",
       "user__day                      0\n",
       "user__weekday                  0\n",
       "user__month                    0\n",
       "user__year                     0\n",
       "dtype: int64"
      ]
     },
     "execution_count": 9,
     "metadata": {},
     "output_type": "execute_result"
    }
   ],
   "source": [
    "train.isnull().sum()"
   ]
  },
  {
   "cell_type": "code",
   "execution_count": 46,
   "metadata": {},
   "outputs": [
    {
     "name": "stdout",
     "output_type": "stream",
     "text": [
      "<class 'pandas.core.frame.DataFrame'>\n",
      "Int64Index: 970960 entries, 0 to 970959\n",
      "Data columns (total 39 columns):\n",
      "msno                      970960 non-null object\n",
      "is_churn                  970960 non-null int8\n",
      "city                      860967 non-null float64\n",
      "bd                        860967 non-null float64\n",
      "gender                    388905 non-null object\n",
      "registered_via            860967 non-null float64\n",
      "registration_init_time    970960 non-null datetime64[ns]\n",
      "payment_method_id         970960 non-null int8\n",
      "payment_plan_days         970960 non-null int8\n",
      "plan_list_price           970960 non-null int8\n",
      "actual_amount_paid        970960 non-null int8\n",
      "is_auto_renew             970960 non-null int8\n",
      "transaction_date          970960 non-null datetime64[ns]\n",
      "membership_expire_date    970960 non-null datetime64[ns]\n",
      "is_cancel                 970960 non-null int8\n",
      "date                      970960 non-null datetime64[ns]\n",
      "num_25                    970960 non-null int16\n",
      "num_50                    970960 non-null int16\n",
      "num_75                    970960 non-null int16\n",
      "num_985                   970960 non-null int16\n",
      "num_100                   970960 non-null int16\n",
      "num_unq                   970960 non-null int16\n",
      "total_secs                970960 non-null float64\n",
      "reg_day                   970960 non-null uint8\n",
      "reg_weekday               970960 non-null uint8\n",
      "reg_month                 970960 non-null uint8\n",
      "reg_year                  970960 non-null uint16\n",
      "trans_day                 970960 non-null uint8\n",
      "trans_weekday             970960 non-null uint8\n",
      "trans_month               970960 non-null uint8\n",
      "trans_year                970960 non-null uint16\n",
      "mem_exp_day               970960 non-null uint8\n",
      "mem_exp_weekday           970960 non-null uint8\n",
      "mem_exp_month             970960 non-null uint8\n",
      "mem_exp_year              970960 non-null uint16\n",
      "user__day                 970960 non-null uint8\n",
      "user__weekday             970960 non-null uint8\n",
      "user__month               970960 non-null uint8\n",
      "user__year                970960 non-null uint16\n",
      "dtypes: datetime64[ns](4), float64(4), int16(6), int8(7), object(2), uint16(4), uint8(12)\n",
      "memory usage: 157.6+ MB\n"
     ]
    }
   ],
   "source": [
    "train.info()"
   ]
  },
  {
   "cell_type": "code",
   "execution_count": 11,
   "metadata": {},
   "outputs": [
    {
     "data": {
      "text/html": [
       "<div>\n",
       "<style>\n",
       "    .dataframe thead tr:only-child th {\n",
       "        text-align: right;\n",
       "    }\n",
       "\n",
       "    .dataframe thead th {\n",
       "        text-align: left;\n",
       "    }\n",
       "\n",
       "    .dataframe tbody tr th {\n",
       "        vertical-align: top;\n",
       "    }\n",
       "</style>\n",
       "<table border=\"1\" class=\"dataframe\">\n",
       "  <thead>\n",
       "    <tr style=\"text-align: right;\">\n",
       "      <th></th>\n",
       "      <th>0</th>\n",
       "      <th>1</th>\n",
       "      <th>2</th>\n",
       "      <th>3</th>\n",
       "      <th>4</th>\n",
       "    </tr>\n",
       "  </thead>\n",
       "  <tbody>\n",
       "    <tr>\n",
       "      <th>msno</th>\n",
       "      <td>ugx0CjOMzazClkFzU2xasmDZaoIqOUAZPsH1q0teWCg=</td>\n",
       "      <td>f/NmvEzHfhINFEYZTR05prUdr+E+3+oewvweYz9cCQE=</td>\n",
       "      <td>zLo9f73nGGT1p21ltZC3ChiRnAVvgibMyazbCxvWPcg=</td>\n",
       "      <td>8iF/+8HY8lJKFrTc7iR9ZYGCG2Ecrogbc2Vy5YhsfhQ=</td>\n",
       "      <td>K6fja4+jmoZ5xG6BypqX80Uw/XKpMgrEMdG2edFOxnA=</td>\n",
       "    </tr>\n",
       "    <tr>\n",
       "      <th>is_churn</th>\n",
       "      <td>1</td>\n",
       "      <td>1</td>\n",
       "      <td>1</td>\n",
       "      <td>1</td>\n",
       "      <td>1</td>\n",
       "    </tr>\n",
       "    <tr>\n",
       "      <th>city</th>\n",
       "      <td>5</td>\n",
       "      <td>13</td>\n",
       "      <td>13</td>\n",
       "      <td>1</td>\n",
       "      <td>13</td>\n",
       "    </tr>\n",
       "    <tr>\n",
       "      <th>bd</th>\n",
       "      <td>28</td>\n",
       "      <td>20</td>\n",
       "      <td>18</td>\n",
       "      <td>0</td>\n",
       "      <td>35</td>\n",
       "    </tr>\n",
       "    <tr>\n",
       "      <th>gender</th>\n",
       "      <td>male</td>\n",
       "      <td>male</td>\n",
       "      <td>male</td>\n",
       "      <td>NaN</td>\n",
       "      <td>female</td>\n",
       "    </tr>\n",
       "    <tr>\n",
       "      <th>registered_via</th>\n",
       "      <td>3</td>\n",
       "      <td>3</td>\n",
       "      <td>3</td>\n",
       "      <td>7</td>\n",
       "      <td>7</td>\n",
       "    </tr>\n",
       "    <tr>\n",
       "      <th>registration_init_time</th>\n",
       "      <td>2013-12-23 00:00:00</td>\n",
       "      <td>2013-12-23 00:00:00</td>\n",
       "      <td>2013-12-27 00:00:00</td>\n",
       "      <td>2014-01-09 00:00:00</td>\n",
       "      <td>2014-01-25 00:00:00</td>\n",
       "    </tr>\n",
       "    <tr>\n",
       "      <th>payment_method_id</th>\n",
       "      <td>32</td>\n",
       "      <td>41</td>\n",
       "      <td>36</td>\n",
       "      <td>36</td>\n",
       "      <td>41</td>\n",
       "    </tr>\n",
       "    <tr>\n",
       "      <th>payment_plan_days</th>\n",
       "      <td>90</td>\n",
       "      <td>30</td>\n",
       "      <td>30</td>\n",
       "      <td>30</td>\n",
       "      <td>30</td>\n",
       "    </tr>\n",
       "    <tr>\n",
       "      <th>plan_list_price</th>\n",
       "      <td>42</td>\n",
       "      <td>-107</td>\n",
       "      <td>-76</td>\n",
       "      <td>-76</td>\n",
       "      <td>99</td>\n",
       "    </tr>\n",
       "    <tr>\n",
       "      <th>actual_amount_paid</th>\n",
       "      <td>42</td>\n",
       "      <td>-107</td>\n",
       "      <td>-76</td>\n",
       "      <td>-76</td>\n",
       "      <td>99</td>\n",
       "    </tr>\n",
       "    <tr>\n",
       "      <th>is_auto_renew</th>\n",
       "      <td>0</td>\n",
       "      <td>1</td>\n",
       "      <td>1</td>\n",
       "      <td>1</td>\n",
       "      <td>1</td>\n",
       "    </tr>\n",
       "    <tr>\n",
       "      <th>transaction_date</th>\n",
       "      <td>2017-01-31 00:00:00</td>\n",
       "      <td>2015-08-09 00:00:00</td>\n",
       "      <td>2017-03-03 00:00:00</td>\n",
       "      <td>2017-03-29 00:00:00</td>\n",
       "      <td>2017-03-23 00:00:00</td>\n",
       "    </tr>\n",
       "    <tr>\n",
       "      <th>membership_expire_date</th>\n",
       "      <td>2017-05-04 00:00:00</td>\n",
       "      <td>2019-04-12 00:00:00</td>\n",
       "      <td>2017-04-22 00:00:00</td>\n",
       "      <td>2017-03-31 00:00:00</td>\n",
       "      <td>2017-04-23 00:00:00</td>\n",
       "    </tr>\n",
       "    <tr>\n",
       "      <th>is_cancel</th>\n",
       "      <td>0</td>\n",
       "      <td>0</td>\n",
       "      <td>0</td>\n",
       "      <td>1</td>\n",
       "      <td>0</td>\n",
       "    </tr>\n",
       "    <tr>\n",
       "      <th>date</th>\n",
       "      <td>2017-03-31 00:00:00</td>\n",
       "      <td>2017-03-30 00:00:00</td>\n",
       "      <td>2017-03-31 00:00:00</td>\n",
       "      <td>2017-03-31 00:00:00</td>\n",
       "      <td>2017-03-31 00:00:00</td>\n",
       "    </tr>\n",
       "    <tr>\n",
       "      <th>num_25</th>\n",
       "      <td>8</td>\n",
       "      <td>2</td>\n",
       "      <td>52</td>\n",
       "      <td>176</td>\n",
       "      <td>2</td>\n",
       "    </tr>\n",
       "    <tr>\n",
       "      <th>num_50</th>\n",
       "      <td>4</td>\n",
       "      <td>2</td>\n",
       "      <td>3</td>\n",
       "      <td>4</td>\n",
       "      <td>1</td>\n",
       "    </tr>\n",
       "    <tr>\n",
       "      <th>num_75</th>\n",
       "      <td>0</td>\n",
       "      <td>1</td>\n",
       "      <td>5</td>\n",
       "      <td>2</td>\n",
       "      <td>0</td>\n",
       "    </tr>\n",
       "    <tr>\n",
       "      <th>num_985</th>\n",
       "      <td>1</td>\n",
       "      <td>0</td>\n",
       "      <td>3</td>\n",
       "      <td>2</td>\n",
       "      <td>1</td>\n",
       "    </tr>\n",
       "    <tr>\n",
       "      <th>num_100</th>\n",
       "      <td>21</td>\n",
       "      <td>9</td>\n",
       "      <td>84</td>\n",
       "      <td>19</td>\n",
       "      <td>112</td>\n",
       "    </tr>\n",
       "    <tr>\n",
       "      <th>num_unq</th>\n",
       "      <td>18</td>\n",
       "      <td>11</td>\n",
       "      <td>110</td>\n",
       "      <td>191</td>\n",
       "      <td>93</td>\n",
       "    </tr>\n",
       "    <tr>\n",
       "      <th>total_secs</th>\n",
       "      <td>6309.27</td>\n",
       "      <td>2390.7</td>\n",
       "      <td>23203.3</td>\n",
       "      <td>7100.45</td>\n",
       "      <td>28401.6</td>\n",
       "    </tr>\n",
       "    <tr>\n",
       "      <th>reg_day</th>\n",
       "      <td>23</td>\n",
       "      <td>23</td>\n",
       "      <td>27</td>\n",
       "      <td>9</td>\n",
       "      <td>25</td>\n",
       "    </tr>\n",
       "    <tr>\n",
       "      <th>reg_weekday</th>\n",
       "      <td>0</td>\n",
       "      <td>0</td>\n",
       "      <td>4</td>\n",
       "      <td>3</td>\n",
       "      <td>5</td>\n",
       "    </tr>\n",
       "    <tr>\n",
       "      <th>reg_month</th>\n",
       "      <td>12</td>\n",
       "      <td>12</td>\n",
       "      <td>12</td>\n",
       "      <td>1</td>\n",
       "      <td>1</td>\n",
       "    </tr>\n",
       "    <tr>\n",
       "      <th>reg_year</th>\n",
       "      <td>2013</td>\n",
       "      <td>2013</td>\n",
       "      <td>2013</td>\n",
       "      <td>2014</td>\n",
       "      <td>2014</td>\n",
       "    </tr>\n",
       "    <tr>\n",
       "      <th>trans_day</th>\n",
       "      <td>31</td>\n",
       "      <td>9</td>\n",
       "      <td>3</td>\n",
       "      <td>29</td>\n",
       "      <td>23</td>\n",
       "    </tr>\n",
       "    <tr>\n",
       "      <th>trans_weekday</th>\n",
       "      <td>1</td>\n",
       "      <td>6</td>\n",
       "      <td>4</td>\n",
       "      <td>2</td>\n",
       "      <td>3</td>\n",
       "    </tr>\n",
       "    <tr>\n",
       "      <th>trans_month</th>\n",
       "      <td>1</td>\n",
       "      <td>8</td>\n",
       "      <td>3</td>\n",
       "      <td>3</td>\n",
       "      <td>3</td>\n",
       "    </tr>\n",
       "    <tr>\n",
       "      <th>trans_year</th>\n",
       "      <td>2017</td>\n",
       "      <td>2015</td>\n",
       "      <td>2017</td>\n",
       "      <td>2017</td>\n",
       "      <td>2017</td>\n",
       "    </tr>\n",
       "    <tr>\n",
       "      <th>mem_exp_day</th>\n",
       "      <td>4</td>\n",
       "      <td>12</td>\n",
       "      <td>22</td>\n",
       "      <td>31</td>\n",
       "      <td>23</td>\n",
       "    </tr>\n",
       "    <tr>\n",
       "      <th>mem_exp_weekday</th>\n",
       "      <td>3</td>\n",
       "      <td>4</td>\n",
       "      <td>5</td>\n",
       "      <td>4</td>\n",
       "      <td>6</td>\n",
       "    </tr>\n",
       "    <tr>\n",
       "      <th>mem_exp_month</th>\n",
       "      <td>5</td>\n",
       "      <td>4</td>\n",
       "      <td>4</td>\n",
       "      <td>3</td>\n",
       "      <td>4</td>\n",
       "    </tr>\n",
       "    <tr>\n",
       "      <th>mem_exp_year</th>\n",
       "      <td>2017</td>\n",
       "      <td>2019</td>\n",
       "      <td>2017</td>\n",
       "      <td>2017</td>\n",
       "      <td>2017</td>\n",
       "    </tr>\n",
       "    <tr>\n",
       "      <th>user__day</th>\n",
       "      <td>31</td>\n",
       "      <td>30</td>\n",
       "      <td>31</td>\n",
       "      <td>31</td>\n",
       "      <td>31</td>\n",
       "    </tr>\n",
       "    <tr>\n",
       "      <th>user__weekday</th>\n",
       "      <td>4</td>\n",
       "      <td>3</td>\n",
       "      <td>4</td>\n",
       "      <td>4</td>\n",
       "      <td>4</td>\n",
       "    </tr>\n",
       "    <tr>\n",
       "      <th>user__month</th>\n",
       "      <td>3</td>\n",
       "      <td>3</td>\n",
       "      <td>3</td>\n",
       "      <td>3</td>\n",
       "      <td>3</td>\n",
       "    </tr>\n",
       "    <tr>\n",
       "      <th>user__year</th>\n",
       "      <td>2017</td>\n",
       "      <td>2017</td>\n",
       "      <td>2017</td>\n",
       "      <td>2017</td>\n",
       "      <td>2017</td>\n",
       "    </tr>\n",
       "  </tbody>\n",
       "</table>\n",
       "</div>"
      ],
      "text/plain": [
       "                                                                   0  \\\n",
       "msno                    ugx0CjOMzazClkFzU2xasmDZaoIqOUAZPsH1q0teWCg=   \n",
       "is_churn                                                           1   \n",
       "city                                                               5   \n",
       "bd                                                                28   \n",
       "gender                                                          male   \n",
       "registered_via                                                     3   \n",
       "registration_init_time                           2013-12-23 00:00:00   \n",
       "payment_method_id                                                 32   \n",
       "payment_plan_days                                                 90   \n",
       "plan_list_price                                                   42   \n",
       "actual_amount_paid                                                42   \n",
       "is_auto_renew                                                      0   \n",
       "transaction_date                                 2017-01-31 00:00:00   \n",
       "membership_expire_date                           2017-05-04 00:00:00   \n",
       "is_cancel                                                          0   \n",
       "date                                             2017-03-31 00:00:00   \n",
       "num_25                                                             8   \n",
       "num_50                                                             4   \n",
       "num_75                                                             0   \n",
       "num_985                                                            1   \n",
       "num_100                                                           21   \n",
       "num_unq                                                           18   \n",
       "total_secs                                                   6309.27   \n",
       "reg_day                                                           23   \n",
       "reg_weekday                                                        0   \n",
       "reg_month                                                         12   \n",
       "reg_year                                                        2013   \n",
       "trans_day                                                         31   \n",
       "trans_weekday                                                      1   \n",
       "trans_month                                                        1   \n",
       "trans_year                                                      2017   \n",
       "mem_exp_day                                                        4   \n",
       "mem_exp_weekday                                                    3   \n",
       "mem_exp_month                                                      5   \n",
       "mem_exp_year                                                    2017   \n",
       "user__day                                                         31   \n",
       "user__weekday                                                      4   \n",
       "user__month                                                        3   \n",
       "user__year                                                      2017   \n",
       "\n",
       "                                                                   1  \\\n",
       "msno                    f/NmvEzHfhINFEYZTR05prUdr+E+3+oewvweYz9cCQE=   \n",
       "is_churn                                                           1   \n",
       "city                                                              13   \n",
       "bd                                                                20   \n",
       "gender                                                          male   \n",
       "registered_via                                                     3   \n",
       "registration_init_time                           2013-12-23 00:00:00   \n",
       "payment_method_id                                                 41   \n",
       "payment_plan_days                                                 30   \n",
       "plan_list_price                                                 -107   \n",
       "actual_amount_paid                                              -107   \n",
       "is_auto_renew                                                      1   \n",
       "transaction_date                                 2015-08-09 00:00:00   \n",
       "membership_expire_date                           2019-04-12 00:00:00   \n",
       "is_cancel                                                          0   \n",
       "date                                             2017-03-30 00:00:00   \n",
       "num_25                                                             2   \n",
       "num_50                                                             2   \n",
       "num_75                                                             1   \n",
       "num_985                                                            0   \n",
       "num_100                                                            9   \n",
       "num_unq                                                           11   \n",
       "total_secs                                                    2390.7   \n",
       "reg_day                                                           23   \n",
       "reg_weekday                                                        0   \n",
       "reg_month                                                         12   \n",
       "reg_year                                                        2013   \n",
       "trans_day                                                          9   \n",
       "trans_weekday                                                      6   \n",
       "trans_month                                                        8   \n",
       "trans_year                                                      2015   \n",
       "mem_exp_day                                                       12   \n",
       "mem_exp_weekday                                                    4   \n",
       "mem_exp_month                                                      4   \n",
       "mem_exp_year                                                    2019   \n",
       "user__day                                                         30   \n",
       "user__weekday                                                      3   \n",
       "user__month                                                        3   \n",
       "user__year                                                      2017   \n",
       "\n",
       "                                                                   2  \\\n",
       "msno                    zLo9f73nGGT1p21ltZC3ChiRnAVvgibMyazbCxvWPcg=   \n",
       "is_churn                                                           1   \n",
       "city                                                              13   \n",
       "bd                                                                18   \n",
       "gender                                                          male   \n",
       "registered_via                                                     3   \n",
       "registration_init_time                           2013-12-27 00:00:00   \n",
       "payment_method_id                                                 36   \n",
       "payment_plan_days                                                 30   \n",
       "plan_list_price                                                  -76   \n",
       "actual_amount_paid                                               -76   \n",
       "is_auto_renew                                                      1   \n",
       "transaction_date                                 2017-03-03 00:00:00   \n",
       "membership_expire_date                           2017-04-22 00:00:00   \n",
       "is_cancel                                                          0   \n",
       "date                                             2017-03-31 00:00:00   \n",
       "num_25                                                            52   \n",
       "num_50                                                             3   \n",
       "num_75                                                             5   \n",
       "num_985                                                            3   \n",
       "num_100                                                           84   \n",
       "num_unq                                                          110   \n",
       "total_secs                                                   23203.3   \n",
       "reg_day                                                           27   \n",
       "reg_weekday                                                        4   \n",
       "reg_month                                                         12   \n",
       "reg_year                                                        2013   \n",
       "trans_day                                                          3   \n",
       "trans_weekday                                                      4   \n",
       "trans_month                                                        3   \n",
       "trans_year                                                      2017   \n",
       "mem_exp_day                                                       22   \n",
       "mem_exp_weekday                                                    5   \n",
       "mem_exp_month                                                      4   \n",
       "mem_exp_year                                                    2017   \n",
       "user__day                                                         31   \n",
       "user__weekday                                                      4   \n",
       "user__month                                                        3   \n",
       "user__year                                                      2017   \n",
       "\n",
       "                                                                   3  \\\n",
       "msno                    8iF/+8HY8lJKFrTc7iR9ZYGCG2Ecrogbc2Vy5YhsfhQ=   \n",
       "is_churn                                                           1   \n",
       "city                                                               1   \n",
       "bd                                                                 0   \n",
       "gender                                                           NaN   \n",
       "registered_via                                                     7   \n",
       "registration_init_time                           2014-01-09 00:00:00   \n",
       "payment_method_id                                                 36   \n",
       "payment_plan_days                                                 30   \n",
       "plan_list_price                                                  -76   \n",
       "actual_amount_paid                                               -76   \n",
       "is_auto_renew                                                      1   \n",
       "transaction_date                                 2017-03-29 00:00:00   \n",
       "membership_expire_date                           2017-03-31 00:00:00   \n",
       "is_cancel                                                          1   \n",
       "date                                             2017-03-31 00:00:00   \n",
       "num_25                                                           176   \n",
       "num_50                                                             4   \n",
       "num_75                                                             2   \n",
       "num_985                                                            2   \n",
       "num_100                                                           19   \n",
       "num_unq                                                          191   \n",
       "total_secs                                                   7100.45   \n",
       "reg_day                                                            9   \n",
       "reg_weekday                                                        3   \n",
       "reg_month                                                          1   \n",
       "reg_year                                                        2014   \n",
       "trans_day                                                         29   \n",
       "trans_weekday                                                      2   \n",
       "trans_month                                                        3   \n",
       "trans_year                                                      2017   \n",
       "mem_exp_day                                                       31   \n",
       "mem_exp_weekday                                                    4   \n",
       "mem_exp_month                                                      3   \n",
       "mem_exp_year                                                    2017   \n",
       "user__day                                                         31   \n",
       "user__weekday                                                      4   \n",
       "user__month                                                        3   \n",
       "user__year                                                      2017   \n",
       "\n",
       "                                                                   4  \n",
       "msno                    K6fja4+jmoZ5xG6BypqX80Uw/XKpMgrEMdG2edFOxnA=  \n",
       "is_churn                                                           1  \n",
       "city                                                              13  \n",
       "bd                                                                35  \n",
       "gender                                                        female  \n",
       "registered_via                                                     7  \n",
       "registration_init_time                           2014-01-25 00:00:00  \n",
       "payment_method_id                                                 41  \n",
       "payment_plan_days                                                 30  \n",
       "plan_list_price                                                   99  \n",
       "actual_amount_paid                                                99  \n",
       "is_auto_renew                                                      1  \n",
       "transaction_date                                 2017-03-23 00:00:00  \n",
       "membership_expire_date                           2017-04-23 00:00:00  \n",
       "is_cancel                                                          0  \n",
       "date                                             2017-03-31 00:00:00  \n",
       "num_25                                                             2  \n",
       "num_50                                                             1  \n",
       "num_75                                                             0  \n",
       "num_985                                                            1  \n",
       "num_100                                                          112  \n",
       "num_unq                                                           93  \n",
       "total_secs                                                   28401.6  \n",
       "reg_day                                                           25  \n",
       "reg_weekday                                                        5  \n",
       "reg_month                                                          1  \n",
       "reg_year                                                        2014  \n",
       "trans_day                                                         23  \n",
       "trans_weekday                                                      3  \n",
       "trans_month                                                        3  \n",
       "trans_year                                                      2017  \n",
       "mem_exp_day                                                       23  \n",
       "mem_exp_weekday                                                    6  \n",
       "mem_exp_month                                                      4  \n",
       "mem_exp_year                                                    2017  \n",
       "user__day                                                         31  \n",
       "user__weekday                                                      4  \n",
       "user__month                                                        3  \n",
       "user__year                                                      2017  "
      ]
     },
     "execution_count": 11,
     "metadata": {},
     "output_type": "execute_result"
    }
   ],
   "source": [
    "train.head().T"
   ]
  },
  {
   "cell_type": "code",
   "execution_count": 12,
   "metadata": {},
   "outputs": [],
   "source": [
    "col = [ 'city', 'bd', 'gender', 'registered_via']\n",
    "def missing(df,columns):\n",
    "    col = columns\n",
    "    for i in col:\n",
    "        df[i].fillna(df[i].mode()[0],inplace=True)\n",
    "\n",
    "missing(train,col)\n",
    "missing(test,col)"
   ]
  },
  {
   "cell_type": "code",
   "execution_count": 13,
   "metadata": {},
   "outputs": [
    {
     "name": "stdout",
     "output_type": "stream",
     "text": [
      "Number of unique value in msno is 970960\n",
      "Number of unique value in is_churn is 2\n",
      "Number of unique value in city is 21\n",
      "Number of unique value in bd is 186\n",
      "Number of unique value in gender is 2\n",
      "Number of unique value in registered_via is 5\n",
      "Number of unique value in registration_init_time is 4749\n",
      "Number of unique value in payment_method_id is 37\n",
      "Number of unique value in payment_plan_days is 30\n",
      "Number of unique value in plan_list_price is 44\n",
      "Number of unique value in actual_amount_paid is 47\n",
      "Number of unique value in is_auto_renew is 2\n",
      "Number of unique value in transaction_date is 820\n",
      "Number of unique value in membership_expire_date is 1818\n",
      "Number of unique value in is_cancel is 2\n",
      "Number of unique value in date is 31\n",
      "Number of unique value in num_25 is 361\n",
      "Number of unique value in num_50 is 179\n",
      "Number of unique value in num_75 is 94\n",
      "Number of unique value in num_985 is 218\n",
      "Number of unique value in num_100 is 586\n",
      "Number of unique value in num_unq is 430\n",
      "Number of unique value in total_secs is 898923\n",
      "Number of unique value in reg_day is 31\n",
      "Number of unique value in reg_weekday is 7\n",
      "Number of unique value in reg_month is 12\n",
      "Number of unique value in reg_year is 14\n",
      "Number of unique value in trans_day is 31\n",
      "Number of unique value in trans_weekday is 7\n",
      "Number of unique value in trans_month is 12\n",
      "Number of unique value in trans_year is 3\n",
      "Number of unique value in mem_exp_day is 31\n",
      "Number of unique value in mem_exp_weekday is 7\n",
      "Number of unique value in mem_exp_month is 12\n",
      "Number of unique value in mem_exp_year is 19\n",
      "Number of unique value in user__day is 31\n",
      "Number of unique value in user__weekday is 7\n",
      "Number of unique value in user__month is 1\n",
      "Number of unique value in user__year is 1\n"
     ]
    }
   ],
   "source": [
    "def unique_value(df):\n",
    "    col = df.columns\n",
    "    for i in col:\n",
    "        print('Number of unique value in {} is {}'.format(i,df[i].nunique()))\n",
    "\n",
    "unique_value(train)"
   ]
  },
  {
   "cell_type": "markdown",
   "metadata": {},
   "source": [
    "# is_churn"
   ]
  },
  {
   "cell_type": "code",
   "execution_count": 14,
   "metadata": {},
   "outputs": [
    {
     "data": {
      "text/plain": [
       "<matplotlib.text.Text at 0x7f6e37929b00>"
      ]
     },
     "execution_count": 14,
     "metadata": {},
     "output_type": "execute_result"
    },
    {
     "data": {
      "image/png": "[encoded data removed]",
      "text/plain": [
       "<matplotlib.figure.Figure at 0x7f6e3dc1ca90>"
      ]
     },
     "metadata": {},
     "output_type": "display_data"
    }
   ],
   "source": [
    "plt.figure(figsize=(8,6))\n",
    "sns.set_style('ticks')\n",
    "sns.countplot(train['is_churn'],palette='summer')\n",
    "plt.xlabel('The subscription within 30 days of expiration is True/False')"
   ]
  },
  {
   "cell_type": "markdown",
   "metadata": {},
   "source": [
    "Imbalanced data set\n",
    "\n",
    "msno: user id\n",
    "\n",
    "is_churn: This is the target variable. Churn is defined as whether the user did not continue the subscription within 30 days of expiration. \n",
    "is_churn = 1 means churn,is_churn = 0 means renewal."
   ]
  },
  {
   "cell_type": "markdown",
   "metadata": {},
   "source": [
    "## Univariate analysis"
   ]
  },
  {
   "cell_type": "code",
   "execution_count": 15,
   "metadata": {},
   "outputs": [
    {
     "name": "stdout",
     "output_type": "stream",
     "text": [
      "[  5.  13.   1.  22.   9.  12.   6.  14.   4.  15.  18.   3.  21.   8.   7.\n",
      "  17.  11.  10.  20.  16.  19.]\n"
     ]
    },
    {
     "data": {
      "text/plain": [
       "<matplotlib.text.Text at 0x7f6dcbcd6278>"
      ]
     },
     "execution_count": 15,
     "metadata": {},
     "output_type": "execute_result"
    },
    {
     "data": {
      "image/png": "[encoded data removed]",
      "text/plain": [
       "<matplotlib.figure.Figure at 0x7f6dc8faf780>"
      ]
     },
     "metadata": {},
     "output_type": "display_data"
    }
   ],
   "source": [
    "print(train['city'].unique())\n",
    "fig,ax = plt.subplots(2,2,figsize=(16,8))\n",
    "ax1,ax2,ax3,ax4 = ax.flatten()\n",
    "\n",
    "sns.set(style=\"ticks\")\n",
    "sns.countplot(train['city'],palette='summer',ax=ax1)\n",
    "#ax1.set_yscale('log')\n",
    "\n",
    "ax1.set_xlabel('City')\n",
    "#ax1.set_xticks(rotation=45)\n",
    "\n",
    "sns.countplot(x='gender',data = train,palette='winter',ax=ax2)\n",
    "#ax2.set_yscale('log')\n",
    "ax2.set_xlabel('Gender')\n",
    "\n",
    "sns.countplot(x='registered_via',data=train,palette='winter',ax=ax3)\n",
    "#ax3.set_yscale('')\n",
    "ax3.set_xlabel('Register via')\n",
    "\n",
    "sns.countplot(x='payment_method_id',data= train,palette='winter',ax=ax4)\n",
    "ax4.set_xlabel('Payment_method_id')\n",
    "\n"
   ]
  },
  {
   "cell_type": "markdown",
   "metadata": {},
   "source": [
    "# bd  (birth day)"
   ]
  },
  {
   "cell_type": "code",
   "execution_count": 16,
   "metadata": {},
   "outputs": [
    {
     "name": "stdout",
     "output_type": "stream",
     "text": [
      "count    970960.000000\n",
      "mean         11.941948\n",
      "std          15.811148\n",
      "min        -128.000000\n",
      "25%           0.000000\n",
      "50%           0.000000\n",
      "75%          26.000000\n",
      "max         126.000000\n",
      "Name: bd, dtype: float64\n"
     ]
    }
   ],
   "source": [
    "print(train['bd'].describe())"
   ]
  },
  {
   "cell_type": "code",
   "execution_count": 45,
   "metadata": {},
   "outputs": [
    {
     "data": {
      "text/plain": [
       "<matplotlib.axes._subplots.AxesSubplot at 0x7f8a376dde80>"
      ]
     },
     "execution_count": 45,
     "metadata": {},
     "output_type": "execute_result"
    },
    {
     "data": {
      "image/png": "[encoded data removed]",
      "text/plain": [
       "<matplotlib.figure.Figure at 0x7f8993d14d68>"
      ]
     },
     "metadata": {},
     "output_type": "display_data"
    }
   ],
   "source": [
    "fig,ax = plt.subplots(1,2,figsize=(16,8))\n",
    "ax1,ax2 = ax.flatten()\n",
    "sns.set_style('ticks')\n",
    "sns.distplot(train['bd'].fillna(train['bd'].mode()[0]),bins=100,color='r',ax=ax1)\n",
    "plt.title('Distribution of birth day')"
   ]
  },
  {
   "cell_type": "code",
   "execution_count": 23,
   "metadata": {},
   "outputs": [
    {
     "data": {
      "text/plain": [
       "<matplotlib.axes._subplots.AxesSubplot at 0x7f2f5f0f2828>"
      ]
     },
     "execution_count": 23,
     "metadata": {},
     "output_type": "execute_result"
    },
    {
     "data": {
      "image/png": "[encoded data removed]",
      "text/plain": [
       "<matplotlib.figure.Figure at 0x7f2f59154208>"
      ]
     },
     "metadata": {},
     "output_type": "display_data"
    }
   ],
   "source": [
    "plt.figure(figsize=(14,6))\n",
    "sns.distplot(train.loc[train['bd'].value_counts()]['bd'].fillna(0),bins=50,color='b')"
   ]
  },
  {
   "cell_type": "markdown",
   "metadata": {},
   "source": [
    "# Gender"
   ]
  },
  {
   "cell_type": "code",
   "execution_count": 21,
   "metadata": {},
   "outputs": [
    {
     "name": "stdout",
     "output_type": "stream",
     "text": [
      "gender    female    male\n",
      "is_churn                \n",
      "0         160404  723226\n",
      "1          23940   63390\n"
     ]
    }
   ],
   "source": [
    "print(pd.crosstab(train['is_churn'],train['gender']))"
   ]
  },
  {
   "cell_type": "code",
   "execution_count": 21,
   "metadata": {},
   "outputs": [
    {
     "name": "stdout",
     "output_type": "stream",
     "text": [
      "Number of unique value ['male' 'female']\n"
     ]
    },
    {
     "data": {
      "text/plain": [
       "<matplotlib.axes._subplots.AxesSubplot at 0x7f9dfe0dffd0>"
      ]
     },
     "execution_count": 21,
     "metadata": {},
     "output_type": "execute_result"
    },
    {
     "data": {
      "image/png": "[encoded data removed]",
      "text/plain": [
       "<matplotlib.figure.Figure at 0x7f9dfdaf6940>"
      ]
     },
     "metadata": {},
     "output_type": "display_data"
    }
   ],
   "source": [
    "print('Number of unique value',train['gender'].unique())\n",
    "\n",
    "fig,(ax1,ax2) = plt.subplots(1,2,sharey=True,figsize=(14,4))\n",
    "\n",
    "sns.set_style('ticks')\n",
    "sns.countplot(train['gender'],palette='summer',ax=ax1)\n",
    "\n",
    "sns.countplot(data=train,x='gender',palette='winter',hue='is_churn',ax=ax2)\n",
    "#plt.tight_layout\n"
   ]
  },
  {
   "cell_type": "markdown",
   "metadata": {},
   "source": [
    "# registered_via"
   ]
  },
  {
   "cell_type": "code",
   "execution_count": 26,
   "metadata": {},
   "outputs": [
    {
     "name": "stdout",
     "output_type": "stream",
     "text": [
      "Number of unique value [  7.   3.   9.   4.  13.]\n"
     ]
    },
    {
     "data": {
      "text/plain": [
       "<matplotlib.text.Text at 0x7f2f593f07b8>"
      ]
     },
     "execution_count": 26,
     "metadata": {},
     "output_type": "execute_result"
    },
    {
     "data": {
      "image/png": "[encoded data removed]",
      "text/plain": [
       "<matplotlib.figure.Figure at 0x7f2f77a72908>"
      ]
     },
     "metadata": {},
     "output_type": "display_data"
    },
    {
     "data": {
      "image/png": "[encoded data removed]",
      "text/plain": [
       "<matplotlib.figure.Figure at 0x7f2f798ba908>"
      ]
     },
     "metadata": {},
     "output_type": "display_data"
    }
   ],
   "source": [
    "print('Number of unique value',train['registered_via'].unique())\n",
    "plt.figure(figsize=(14,6))\n",
    "sns.set_style('ticks')\n",
    "sns.countplot(train['registered_via'],palette='summer')\n",
    "plt.xlabel('Registered via')\n",
    "\n",
    "plt.figure(figsize=(14,6))\n",
    "sns.set_style('ticks')\n",
    "sns.countplot(data=train ,x='registered_via',palette='winter',hue='is_churn')\n",
    "plt.xlabel('Registered via')"
   ]
  },
  {
   "cell_type": "markdown",
   "metadata": {},
   "source": [
    "# registration_init_time"
   ]
  },
  {
   "cell_type": "code",
   "execution_count": 17,
   "metadata": {},
   "outputs": [
    {
     "data": {
      "image/png": "[encoded data removed]",
      "text/plain": [
       "<matplotlib.figure.Figure at 0x7f6dc8f9eba8>"
      ]
     },
     "metadata": {},
     "output_type": "display_data"
    }
   ],
   "source": [
    "regi = train.groupby('registration_init_time').count()['is_churn']\n",
    "plt.subplot(211)\n",
    "plt.plot(regi,color='b',label='count')\n",
    "plt.legend(loc='center')\n",
    "regi = train.groupby('registration_init_time').mean()['is_churn']\n",
    "plt.subplot(212)\n",
    "plt.plot(regi,color='r',label='mean')\n",
    "plt.legend(loc='center')\n",
    "plt.tight_layout()"
   ]
  },
  {
   "cell_type": "code",
   "execution_count": 195,
   "metadata": {},
   "outputs": [
    {
     "data": {
      "text/plain": [
       "<matplotlib.axes._subplots.AxesSubplot at 0x7f8cdcb65438>"
      ]
     },
     "execution_count": 195,
     "metadata": {},
     "output_type": "execute_result"
    },
    {
     "data": {
      "image/png": "[encoded data removed]",
      "text/plain": [
       "<matplotlib.figure.Figure at 0x7f8cdcbbcac8>"
      ]
     },
     "metadata": {},
     "output_type": "display_data"
    }
   ],
   "source": [
    "regi = train.groupby('registration_init_time').mean()['is_churn']\n",
    "plt.figure(figsize=(14,6))\n",
    "sns.distplot(regi,bins=100,color='r')"
   ]
  },
  {
   "cell_type": "markdown",
   "metadata": {},
   "source": [
    "# reg_day"
   ]
  },
  {
   "cell_type": "code",
   "execution_count": 34,
   "metadata": {},
   "outputs": [
    {
     "data": {
      "text/plain": [
       "<matplotlib.axes._subplots.AxesSubplot at 0x7f6e635e64a8>"
      ]
     },
     "execution_count": 34,
     "metadata": {},
     "output_type": "execute_result"
    },
    {
     "data": {
      "image/png": "[encoded data removed]",
      "text/plain": [
       "<matplotlib.figure.Figure at 0x7f6e63634be0>"
      ]
     },
     "metadata": {},
     "output_type": "display_data"
    }
   ],
   "source": [
    "fig,ax = plt.subplots(2,2,figsize=(16,8))\n",
    "ax1,ax2,ax3,ax4 = ax.flatten()\n",
    "sns.countplot(train['reg_day'],palette='Set2',ax=ax1)\n",
    "sns.countplot(data=train,x='reg_month',palette='Set1',ax=ax2)\n",
    "sns.countplot(data=train,x='reg_year',palette='magma',ax=ax3)\n",
    "sns."
   ]
  },
  {
   "cell_type": "markdown",
   "metadata": {},
   "source": [
    "# reg_weekday"
   ]
  },
  {
   "cell_type": "code",
   "execution_count": 22,
   "metadata": {},
   "outputs": [
    {
     "data": {
      "text/plain": [
       "<matplotlib.axes._subplots.AxesSubplot at 0x7f6e5ffdb278>"
      ]
     },
     "execution_count": 22,
     "metadata": {},
     "output_type": "execute_result"
    },
    {
     "data": {
      "image/png": "[encoded data removed]",
      "text/plain": [
       "<matplotlib.figure.Figure at 0x7f6e3d3da630>"
      ]
     },
     "metadata": {},
     "output_type": "display_data"
    },
    {
     "data": {
      "image/png": "[encoded data removed]",
      "text/plain": [
       "<matplotlib.figure.Figure at 0x7f6defb968d0>"
      ]
     },
     "metadata": {},
     "output_type": "display_data"
    }
   ],
   "source": [
    "plt.figure(figsize=(14,6))\n",
    "sns.countplot(train['reg_weekday'],palette='summer')\n",
    "\n",
    "plt.figure(figsize=(14,6))\n",
    "sns.countplot(data=train,x='reg_weekday',palette='winter',hue='is_churn')\n"
   ]
  },
  {
   "cell_type": "code",
   "execution_count": 38,
   "metadata": {},
   "outputs": [
    {
     "ename": "NameError",
     "evalue": "name 'train1' is not defined",
     "output_type": "error",
     "traceback": [
      "\u001b[0;31m---------------------------------------------------------------------------\u001b[0m",
      "\u001b[0;31mNameError\u001b[0m                                 Traceback (most recent call last)",
      "\u001b[0;32m<ipython-input-38-3090aa9f8309>\u001b[0m in \u001b[0;36m<module>\u001b[0;34m()\u001b[0m\n\u001b[0;32m----> 1\u001b[0;31m \u001b[0mcor\u001b[0m \u001b[0;34m=\u001b[0m \u001b[0mtrain1\u001b[0m\u001b[0;34m.\u001b[0m\u001b[0mcorr\u001b[0m\u001b[0;34m(\u001b[0m\u001b[0;34m)\u001b[0m\u001b[0;34m\u001b[0m\u001b[0m\n\u001b[0m\u001b[1;32m      2\u001b[0m \u001b[0mplt\u001b[0m\u001b[0;34m.\u001b[0m\u001b[0mfigure\u001b[0m\u001b[0;34m(\u001b[0m\u001b[0mfigsize\u001b[0m\u001b[0;34m=\u001b[0m\u001b[0;34m(\u001b[0m\u001b[0;36m16\u001b[0m\u001b[0;34m,\u001b[0m\u001b[0;36m12\u001b[0m\u001b[0;34m)\u001b[0m\u001b[0;34m)\u001b[0m\u001b[0;34m\u001b[0m\u001b[0m\n\u001b[1;32m      3\u001b[0m \u001b[0msns\u001b[0m\u001b[0;34m.\u001b[0m\u001b[0mheatmap\u001b[0m\u001b[0;34m(\u001b[0m\u001b[0mcor\u001b[0m\u001b[0;34m,\u001b[0m\u001b[0mcmap\u001b[0m\u001b[0;34m=\u001b[0m\u001b[0;34m'binary'\u001b[0m\u001b[0;34m,\u001b[0m\u001b[0mannot\u001b[0m\u001b[0;34m=\u001b[0m\u001b[0;32mFalse\u001b[0m\u001b[0;34m)\u001b[0m\u001b[0;34m\u001b[0m\u001b[0m\n\u001b[1;32m      4\u001b[0m \u001b[0mplt\u001b[0m\u001b[0;34m.\u001b[0m\u001b[0mxticks\u001b[0m\u001b[0;34m(\u001b[0m\u001b[0mrotation\u001b[0m\u001b[0;34m=\u001b[0m\u001b[0;36m45\u001b[0m\u001b[0;34m)\u001b[0m\u001b[0;34m\u001b[0m\u001b[0m\n",
      "\u001b[0;31mNameError\u001b[0m: name 'train1' is not defined"
     ]
    }
   ],
   "source": [
    "cor = train1.corr()\n",
    "plt.figure(figsize=(16,12))\n",
    "sns.heatmap(cor,cmap='binary',annot=False)\n",
    "plt.xticks(rotation=45)"
   ]
  },
  {
   "cell_type": "code",
   "execution_count": 46,
   "metadata": {},
   "outputs": [],
   "source": [
    "tf_idf = TfidfVectorizer(max_features=5,use_idf=True,lowercase=False,stop_words=None,analyzer='char',\n",
    "                        ngram_range=(1, 3))"
   ]
  },
  {
   "cell_type": "code",
   "execution_count": 47,
   "metadata": {},
   "outputs": [],
   "source": [
    "X_tf = tf_idf.fit_transform(train['msno']).toarray()"
   ]
  },
  {
   "cell_type": "code",
   "execution_count": 48,
   "metadata": {},
   "outputs": [
    {
     "data": {
      "text/plain": [
       "array([[ 0.        ,  0.26014842,  0.        ,  0.43176733,  0.86365489],\n",
       "       [ 0.        ,  0.26013537,  0.86366965,  0.43174568,  0.        ],\n",
       "       [ 0.        ,  0.51608195,  0.        ,  0.85653921,  0.        ],\n",
       "       ..., \n",
       "       [ 0.        ,  0.39192126,  0.65060451,  0.65047021,  0.        ],\n",
       "       [ 0.        ,  0.39192126,  0.65060451,  0.65047021,  0.        ],\n",
       "       [ 0.54739857,  0.16476975,  0.54704838,  0.54693544,  0.2735058 ]])"
      ]
     },
     "execution_count": 48,
     "metadata": {},
     "output_type": "execute_result"
    }
   ],
   "source": []
  },
  {
   "cell_type": "markdown",
   "metadata": {},
   "source": [
    "# Encoder"
   ]
  },
  {
   "cell_type": "code",
   "execution_count": 49,
   "metadata": {},
   "outputs": [],
   "source": [
    "le = LabelEncoder()\n",
    "train['gender'] = le.fit_transform(train['gender'])\n",
    "test['gender'] = le.fit_transform(test['gender'])"
   ]
  },
  {
   "cell_type": "markdown",
   "metadata": {},
   "source": [
    "# One Hot Encoding"
   ]
  },
  {
   "cell_type": "code",
   "execution_count": 29,
   "metadata": {},
   "outputs": [
    {
     "name": "stdout",
     "output_type": "stream",
     "text": [
      "Categorical columns in dataset ['city', 'gender', 'registered_via']\n",
      "(970960, 61)\n",
      "Categorical columns in dataset ['city', 'gender', 'registered_via']\n",
      "(907471, 61)\n"
     ]
    }
   ],
   "source": [
    "def OHE(df):\n",
    "    #col = df.select_dtypes(include=['category']).columns\n",
    "    col = ['city','gender','registered_via']\n",
    "    print('Categorical columns in dataset',col)\n",
    "    \n",
    "    c2,c3 = [],{}\n",
    "    for c in col:\n",
    "        if df[c].nunique()>2 :\n",
    "            c2.append(c)\n",
    "            c3[c] = 'ohe_'+c\n",
    "    \n",
    "    df = pd.get_dummies(df,columns=c2,drop_first=True,prefix=c3)\n",
    "    print(df.shape)\n",
    "    return df\n",
    "train1 = OHE(train)\n",
    "test1 = OHE(test)"
   ]
  },
  {
   "cell_type": "code",
   "execution_count": 41,
   "metadata": {},
   "outputs": [
    {
     "data": {
      "text/plain": [
       "Index(['msno', 'is_churn', 'city', 'bd', 'gender', 'registered_via',\n",
       "       'registration_init_time', 'payment_method_id', 'payment_plan_days',\n",
       "       'plan_list_price', 'actual_amount_paid', 'is_auto_renew',\n",
       "       'transaction_date', 'membership_expire_date', 'is_cancel', 'date',\n",
       "       'num_25', 'num_50', 'num_75', 'num_985', 'num_100', 'num_unq',\n",
       "       'total_secs', 'reg_day', 'reg_weekday', 'reg_month', 'reg_year',\n",
       "       'trans_day', 'trans_weekday', 'trans_month', 'trans_year',\n",
       "       'mem_exp_day', 'mem_exp_weekday', 'mem_exp_month', 'mem_exp_year',\n",
       "       'user__day', 'user__weekday', 'user__month', 'user__year'],\n",
       "      dtype='object')"
      ]
     },
     "execution_count": 41,
     "metadata": {},
     "output_type": "execute_result"
    }
   ],
   "source": [
    "train.columns"
   ]
  },
  {
   "cell_type": "markdown",
   "metadata": {},
   "source": [
    "# Split data set"
   ]
  },
  {
   "cell_type": "code",
   "execution_count": 50,
   "metadata": {},
   "outputs": [],
   "source": [
    "unwanted = ['msno','is_churn','registration_init_time','transaction_date','membership_expire_date','date']\n",
    "\n",
    "X = train.drop(unwanted,axis=1)\n",
    "y = train['is_churn'].astype('category')\n",
    "x_test = test.drop(unwanted,axis=1)\n"
   ]
  },
  {
   "cell_type": "markdown",
   "metadata": {},
   "source": [
    "## Hyper parameter tuning"
   ]
  },
  {
   "cell_type": "code",
   "execution_count": 60,
   "metadata": {},
   "outputs": [
    {
     "name": "stdout",
     "output_type": "stream",
     "text": [
      "Best parameter :{'C': 1} Best score :0.6499567438411469\n"
     ]
    }
   ],
   "source": [
    "log_reg = LogisticRegression(class_weight='balanced')\n",
    "param = {'C':[0.001,0.005,0.01,0.05,0.1,0.5,1,1.5,2,3]}\n",
    "rs_cv = RandomizedSearchCV(estimator=log_reg,param_distributions=param,random_state=seed)\n",
    "rs_cv.fit(X,y)\n",
    "print('Best parameter :{} Best score :{}'.format(rs_cv.best_params_,rs_cv.best_score_))"
   ]
  },
  {
   "cell_type": "markdown",
   "metadata": {},
   "source": [
    "# Logistic regression model with Stratified KFold split"
   ]
  },
  {
   "cell_type": "code",
   "execution_count": 62,
   "metadata": {},
   "outputs": [
    {
     "name": "stdout",
     "output_type": "stream",
     "text": [
      "1 of KFold 5\n",
      "ROC AUC score: 0.605132938514\n",
      "2 of KFold 5\n",
      "ROC AUC score: 0.606734500991\n",
      "3 of KFold 5\n"
     ]
    },
    {
     "ename": "KeyboardInterrupt",
     "evalue": "",
     "output_type": "error",
     "traceback": [
      "\u001b[0;31m---------------------------------------------------------------------------\u001b[0m",
      "\u001b[0;31mKeyboardInterrupt\u001b[0m                         Traceback (most recent call last)",
      "\u001b[0;32m<ipython-input-62-e1db7f16a467>\u001b[0m in \u001b[0;36m<module>\u001b[0;34m()\u001b[0m\n\u001b[1;32m     10\u001b[0m     \u001b[0;31m#model\u001b[0m\u001b[0;34m\u001b[0m\u001b[0;34m\u001b[0m\u001b[0m\n\u001b[1;32m     11\u001b[0m     \u001b[0mlr\u001b[0m \u001b[0;34m=\u001b[0m \u001b[0mLogisticRegression\u001b[0m\u001b[0;34m(\u001b[0m\u001b[0mclass_weight\u001b[0m\u001b[0;34m=\u001b[0m\u001b[0;34m'balanced'\u001b[0m\u001b[0;34m,\u001b[0m\u001b[0mC\u001b[0m\u001b[0;34m=\u001b[0m\u001b[0;36m1\u001b[0m\u001b[0;34m)\u001b[0m\u001b[0;34m\u001b[0m\u001b[0m\n\u001b[0;32m---> 12\u001b[0;31m     \u001b[0mlr\u001b[0m\u001b[0;34m.\u001b[0m\u001b[0mfit\u001b[0m\u001b[0;34m(\u001b[0m\u001b[0mxtr\u001b[0m\u001b[0;34m,\u001b[0m\u001b[0mytr\u001b[0m\u001b[0;34m)\u001b[0m\u001b[0;34m\u001b[0m\u001b[0m\n\u001b[0m\u001b[1;32m     13\u001b[0m     \u001b[0mscore\u001b[0m \u001b[0;34m=\u001b[0m \u001b[0mroc_auc_score\u001b[0m\u001b[0;34m(\u001b[0m\u001b[0myvl\u001b[0m\u001b[0;34m,\u001b[0m\u001b[0mlr\u001b[0m\u001b[0;34m.\u001b[0m\u001b[0mpredict\u001b[0m\u001b[0;34m(\u001b[0m\u001b[0mxvl\u001b[0m\u001b[0;34m)\u001b[0m\u001b[0;34m)\u001b[0m\u001b[0;34m\u001b[0m\u001b[0m\n\u001b[1;32m     14\u001b[0m     \u001b[0mprint\u001b[0m\u001b[0;34m(\u001b[0m\u001b[0;34m'ROC AUC score:'\u001b[0m\u001b[0;34m,\u001b[0m\u001b[0mscore\u001b[0m\u001b[0;34m)\u001b[0m\u001b[0;34m\u001b[0m\u001b[0m\n",
      "\u001b[0;32m/home/sudhir/anaconda3/lib/python3.6/site-packages/sklearn/linear_model/logistic.py\u001b[0m in \u001b[0;36mfit\u001b[0;34m(self, X, y, sample_weight)\u001b[0m\n\u001b[1;32m   1184\u001b[0m                 \u001b[0mself\u001b[0m\u001b[0;34m.\u001b[0m\u001b[0mclass_weight\u001b[0m\u001b[0;34m,\u001b[0m \u001b[0mself\u001b[0m\u001b[0;34m.\u001b[0m\u001b[0mpenalty\u001b[0m\u001b[0;34m,\u001b[0m \u001b[0mself\u001b[0m\u001b[0;34m.\u001b[0m\u001b[0mdual\u001b[0m\u001b[0;34m,\u001b[0m \u001b[0mself\u001b[0m\u001b[0;34m.\u001b[0m\u001b[0mverbose\u001b[0m\u001b[0;34m,\u001b[0m\u001b[0;34m\u001b[0m\u001b[0m\n\u001b[1;32m   1185\u001b[0m                 \u001b[0mself\u001b[0m\u001b[0;34m.\u001b[0m\u001b[0mmax_iter\u001b[0m\u001b[0;34m,\u001b[0m \u001b[0mself\u001b[0m\u001b[0;34m.\u001b[0m\u001b[0mtol\u001b[0m\u001b[0;34m,\u001b[0m \u001b[0mself\u001b[0m\u001b[0;34m.\u001b[0m\u001b[0mrandom_state\u001b[0m\u001b[0;34m,\u001b[0m\u001b[0;34m\u001b[0m\u001b[0m\n\u001b[0;32m-> 1186\u001b[0;31m                 sample_weight=sample_weight)\n\u001b[0m\u001b[1;32m   1187\u001b[0m             \u001b[0mself\u001b[0m\u001b[0;34m.\u001b[0m\u001b[0mn_iter_\u001b[0m \u001b[0;34m=\u001b[0m \u001b[0mnp\u001b[0m\u001b[0;34m.\u001b[0m\u001b[0marray\u001b[0m\u001b[0;34m(\u001b[0m\u001b[0;34m[\u001b[0m\u001b[0mn_iter_\u001b[0m\u001b[0;34m]\u001b[0m\u001b[0;34m)\u001b[0m\u001b[0;34m\u001b[0m\u001b[0m\n\u001b[1;32m   1188\u001b[0m             \u001b[0;32mreturn\u001b[0m \u001b[0mself\u001b[0m\u001b[0;34m\u001b[0m\u001b[0m\n",
      "\u001b[0;32m/home/sudhir/anaconda3/lib/python3.6/site-packages/sklearn/svm/base.py\u001b[0m in \u001b[0;36m_fit_liblinear\u001b[0;34m(X, y, C, fit_intercept, intercept_scaling, class_weight, penalty, dual, verbose, max_iter, tol, random_state, multi_class, loss, epsilon, sample_weight)\u001b[0m\n\u001b[1;32m    910\u001b[0m         \u001b[0mX\u001b[0m\u001b[0;34m,\u001b[0m \u001b[0my_ind\u001b[0m\u001b[0;34m,\u001b[0m \u001b[0msp\u001b[0m\u001b[0;34m.\u001b[0m\u001b[0misspmatrix\u001b[0m\u001b[0;34m(\u001b[0m\u001b[0mX\u001b[0m\u001b[0;34m)\u001b[0m\u001b[0;34m,\u001b[0m \u001b[0msolver_type\u001b[0m\u001b[0;34m,\u001b[0m \u001b[0mtol\u001b[0m\u001b[0;34m,\u001b[0m \u001b[0mbias\u001b[0m\u001b[0;34m,\u001b[0m \u001b[0mC\u001b[0m\u001b[0;34m,\u001b[0m\u001b[0;34m\u001b[0m\u001b[0m\n\u001b[1;32m    911\u001b[0m         \u001b[0mclass_weight_\u001b[0m\u001b[0;34m,\u001b[0m \u001b[0mmax_iter\u001b[0m\u001b[0;34m,\u001b[0m \u001b[0mrnd\u001b[0m\u001b[0;34m.\u001b[0m\u001b[0mrandint\u001b[0m\u001b[0;34m(\u001b[0m\u001b[0mnp\u001b[0m\u001b[0;34m.\u001b[0m\u001b[0miinfo\u001b[0m\u001b[0;34m(\u001b[0m\u001b[0;34m'i'\u001b[0m\u001b[0;34m)\u001b[0m\u001b[0;34m.\u001b[0m\u001b[0mmax\u001b[0m\u001b[0;34m)\u001b[0m\u001b[0;34m,\u001b[0m\u001b[0;34m\u001b[0m\u001b[0m\n\u001b[0;32m--> 912\u001b[0;31m         epsilon, sample_weight)\n\u001b[0m\u001b[1;32m    913\u001b[0m     \u001b[0;31m# Regarding rnd.randint(..) in the above signature:\u001b[0m\u001b[0;34m\u001b[0m\u001b[0;34m\u001b[0m\u001b[0m\n\u001b[1;32m    914\u001b[0m     \u001b[0;31m# seed for srand in range [0..INT_MAX); due to limitations in Numpy\u001b[0m\u001b[0;34m\u001b[0m\u001b[0;34m\u001b[0m\u001b[0m\n",
      "\u001b[0;31mKeyboardInterrupt\u001b[0m: "
     ]
    }
   ],
   "source": [
    "kf = StratifiedKFold(n_splits=5,shuffle=True,random_state=seed)\n",
    "pred_test_full =0\n",
    "cv_score =[]\n",
    "i=1\n",
    "for train_index,test_index in kf.split(X,y):\n",
    "    print('{} of KFold {}'.format(i,kf.n_splits))\n",
    "    xtr,xvl = X.loc[train_index],X.loc[test_index]\n",
    "    ytr,yvl = y.loc[train_index],y.loc[test_index]\n",
    "    \n",
    "    #model\n",
    "    lr = LogisticRegression(class_weight='balanced',C=1)\n",
    "    lr.fit(xtr,ytr)\n",
    "    #score = roc_auc_score(yvl,lr.predict(xvl))\n",
    "    score = lr.score(xvl,yvl)\n",
    "    print('ROC AUC score:',score)\n",
    "    cv_score.append(score)    \n",
    "    pred_test = lr.predict_proba(x_test)[:,1]\n",
    "    pred_test_full +=pred_test\n",
    "    i+=1"
   ]
  },
  {
   "cell_type": "code",
   "execution_count": 66,
   "metadata": {},
   "outputs": [
    {
     "data": {
      "text/plain": [
       "array([[582408, 301222],\n",
       "       [ 38978,  48352]])"
      ]
     },
     "execution_count": 66,
     "metadata": {},
     "output_type": "execute_result"
    }
   ],
   "source": [
    "ypred = lr.predict(X)\n",
    "confusion_matrix(y,ypred)\n"
   ]
  },
  {
   "cell_type": "code",
   "execution_count": 83,
   "metadata": {
    "scrolled": false
   },
   "outputs": [
    {
     "data": {
      "text/plain": [
       "<matplotlib.text.Text at 0x7f6e609ac588>"
      ]
     },
     "execution_count": 83,
     "metadata": {},
     "output_type": "execute_result"
    },
    {
     "data": {
      "image/png": "[encoded data removed]",
      "text/plain": [
       "<matplotlib.figure.Figure at 0x7f6e622467b8>"
      ]
     },
     "metadata": {},
     "output_type": "display_data"
    }
   ],
   "source": [
    "# y_proba = lr.predict_proba(X)[:,1]\n",
    "fpr,tpr,th = roc_curve(y,y_proba)\n",
    "\n",
    "plt.figure(figsize=(14,6))\n",
    "plt.plot(fpr,tpr,color='r')\n",
    "plt.plot([0,1],[0,1],color='b')\n",
    "plt.title('Reciever operating Characristics')\n",
    "plt.xlabel('False positive rate')\n",
    "plt.ylabel('True positive rate')"
   ]
  },
  {
   "cell_type": "code",
   "execution_count": 86,
   "metadata": {},
   "outputs": [],
   "source": [
    "cat_model = CatBoostClassifier(iterations=1000,\n",
    "                               depth=7,\n",
    "                               learning_rate=0.1,\n",
    "                               loss_function='Logloss',\n",
    "                              )"
   ]
  },
  {
   "cell_type": "code",
   "execution_count": 87,
   "metadata": {
    "scrolled": false
   },
   "outputs": [
    {
     "name": "stdout",
     "output_type": "stream",
     "text": [
      "0: learn: 0.593708\ttotal: 2.54s\tremaining: 42m 14s\n",
      "1: learn: 0.5189576\ttotal: 5.37s\tremaining: 44m 39s\n",
      "2: learn: 0.4646405\ttotal: 7.86s\tremaining: 43m 31s\n",
      "3: learn: 0.4245544\ttotal: 10.1s\tremaining: 41m 58s\n",
      "4: learn: 0.3933197\ttotal: 12.2s\tremaining: 40m 28s\n",
      "5: learn: 0.3706729\ttotal: 14.5s\tremaining: 39m 56s\n",
      "6: learn: 0.3503353\ttotal: 17.1s\tremaining: 40m 25s\n",
      "7: learn: 0.337308\ttotal: 19.3s\tremaining: 39m 54s\n",
      "8: learn: 0.3270198\ttotal: 21.6s\tremaining: 39m 35s\n",
      "9: learn: 0.3161755\ttotal: 24s\tremaining: 39m 40s\n",
      "10: learn: 0.310072\ttotal: 27.2s\tremaining: 40m 49s\n",
      "11: learn: 0.3028527\ttotal: 30.4s\tremaining: 41m 43s\n",
      "12: learn: 0.297131\ttotal: 33.3s\tremaining: 42m 4s\n",
      "13: learn: 0.2932321\ttotal: 35.7s\tremaining: 41m 56s\n",
      "14: learn: 0.291039\ttotal: 38.1s\tremaining: 41m 38s\n",
      "15: learn: 0.2881449\ttotal: 40.1s\tremaining: 41m 7s\n",
      "16: learn: 0.2856063\ttotal: 42.5s\tremaining: 40m 54s\n",
      "17: learn: 0.2837513\ttotal: 44.9s\tremaining: 40m 51s\n",
      "18: learn: 0.2825963\ttotal: 49.1s\tremaining: 42m 14s\n",
      "19: learn: 0.2817016\ttotal: 52s\tremaining: 42m 27s\n",
      "20: learn: 0.2800174\ttotal: 54.7s\tremaining: 42m 28s\n",
      "21: learn: 0.2789785\ttotal: 57.1s\tremaining: 42m 18s\n",
      "22: learn: 0.2782458\ttotal: 59.2s\tremaining: 41m 55s\n",
      "23: learn: 0.2773108\ttotal: 1m 1s\tremaining: 41m 35s\n",
      "24: learn: 0.2768305\ttotal: 1m 3s\tremaining: 41m 28s\n",
      "25: learn: 0.2763941\ttotal: 1m 6s\tremaining: 41m 38s\n",
      "26: learn: 0.2760539\ttotal: 1m 10s\tremaining: 42m 3s\n",
      "27: learn: 0.2755426\ttotal: 1m 12s\tremaining: 42m 8s\n",
      "28: learn: 0.2752985\ttotal: 1m 15s\tremaining: 42m 3s\n",
      "29: learn: 0.2748996\ttotal: 1m 18s\tremaining: 42m 3s\n",
      "30: learn: 0.2748028\ttotal: 1m 21s\tremaining: 42m 12s\n",
      "31: learn: 0.2746094\ttotal: 1m 23s\tremaining: 42m 5s\n",
      "32: learn: 0.2744002\ttotal: 1m 26s\tremaining: 42m 4s\n",
      "33: learn: 0.2742362\ttotal: 1m 28s\tremaining: 42m 7s\n",
      "34: learn: 0.2739729\ttotal: 1m 31s\tremaining: 42m 1s\n",
      "35: learn: 0.2738384\ttotal: 1m 33s\tremaining: 41m 51s\n",
      "36: learn: 0.2738088\ttotal: 1m 35s\tremaining: 41m 36s\n",
      "37: learn: 0.2737526\ttotal: 1m 38s\tremaining: 41m 24s\n",
      "38: learn: 0.2737085\ttotal: 1m 40s\tremaining: 41m 20s\n",
      "39: learn: 0.2736086\ttotal: 1m 43s\tremaining: 41m 33s\n",
      "40: learn: 0.2734494\ttotal: 1m 46s\tremaining: 41m 41s\n",
      "41: learn: 0.273396\ttotal: 1m 50s\tremaining: 41m 51s\n",
      "42: learn: 0.2732427\ttotal: 1m 53s\tremaining: 42m 4s\n",
      "43: learn: 0.273148\ttotal: 1m 56s\tremaining: 42m 9s\n",
      "44: learn: 0.2730747\ttotal: 1m 58s\tremaining: 42m 4s\n",
      "45: learn: 0.2730125\ttotal: 2m 1s\tremaining: 41m 59s\n",
      "46: learn: 0.2729533\ttotal: 2m 4s\tremaining: 42m 1s\n",
      "47: learn: 0.2728929\ttotal: 2m 7s\tremaining: 42m 17s\n",
      "48: learn: 0.2727705\ttotal: 2m 11s\tremaining: 42m 32s\n",
      "49: learn: 0.2727277\ttotal: 2m 14s\tremaining: 42m 37s\n",
      "50: learn: 0.2726976\ttotal: 2m 17s\tremaining: 42m 36s\n",
      "51: learn: 0.2726726\ttotal: 2m 19s\tremaining: 42m 29s\n",
      "52: learn: 0.2726533\ttotal: 2m 22s\tremaining: 42m 24s\n",
      "53: learn: 0.2725473\ttotal: 2m 25s\tremaining: 42m 24s\n",
      "54: learn: 0.2725313\ttotal: 2m 27s\tremaining: 42m 17s\n",
      "55: learn: 0.2724957\ttotal: 2m 30s\tremaining: 42m 14s\n",
      "56: learn: 0.2724718\ttotal: 2m 33s\tremaining: 42m 16s\n",
      "57: learn: 0.2724414\ttotal: 2m 37s\tremaining: 42m 34s\n",
      "58: learn: 0.2724014\ttotal: 2m 40s\tremaining: 42m 42s\n",
      "59: learn: 0.2722992\ttotal: 2m 43s\tremaining: 42m 42s\n",
      "60: learn: 0.2722923\ttotal: 2m 46s\tremaining: 42m 49s\n",
      "61: learn: 0.2722586\ttotal: 2m 50s\tremaining: 42m 54s\n",
      "62: learn: 0.2721631\ttotal: 2m 53s\tremaining: 42m 53s\n",
      "63: learn: 0.2721369\ttotal: 2m 55s\tremaining: 42m 48s\n",
      "64: learn: 0.2721042\ttotal: 2m 58s\tremaining: 42m 41s\n",
      "65: learn: 0.2720606\ttotal: 3m\tremaining: 42m 39s\n",
      "66: learn: 0.2720512\ttotal: 3m 4s\tremaining: 42m 51s\n",
      "67: learn: 0.2719998\ttotal: 3m 8s\tremaining: 42m 58s\n",
      "68: learn: 0.2719636\ttotal: 3m 11s\tremaining: 42m 58s\n",
      "69: learn: 0.2719333\ttotal: 3m 14s\tremaining: 42m 58s\n",
      "70: learn: 0.2718528\ttotal: 3m 17s\tremaining: 43m 3s\n",
      "71: learn: 0.2717879\ttotal: 3m 20s\tremaining: 43m 1s\n",
      "72: learn: 0.2717687\ttotal: 3m 22s\tremaining: 42m 54s\n",
      "73: learn: 0.2717232\ttotal: 3m 25s\tremaining: 42m 48s\n",
      "74: learn: 0.2716963\ttotal: 3m 28s\tremaining: 42m 46s\n",
      "75: learn: 0.2716672\ttotal: 3m 30s\tremaining: 42m 41s\n",
      "76: learn: 0.2716353\ttotal: 3m 33s\tremaining: 42m 35s\n",
      "77: learn: 0.2716238\ttotal: 3m 36s\tremaining: 42m 33s\n",
      "78: learn: 0.2716153\ttotal: 3m 39s\tremaining: 42m 37s\n",
      "79: learn: 0.2715927\ttotal: 3m 43s\tremaining: 42m 45s\n",
      "80: learn: 0.2715756\ttotal: 3m 46s\tremaining: 42m 47s\n",
      "81: learn: 0.2715523\ttotal: 3m 49s\tremaining: 42m 45s\n",
      "82: learn: 0.2715388\ttotal: 3m 51s\tremaining: 42m 38s\n",
      "83: learn: 0.2715148\ttotal: 3m 54s\tremaining: 42m 32s\n",
      "84: learn: 0.271502\ttotal: 3m 57s\tremaining: 42m 31s\n",
      "85: learn: 0.2714873\ttotal: 3m 59s\tremaining: 42m 25s\n",
      "86: learn: 0.2714715\ttotal: 4m 1s\tremaining: 42m 18s\n",
      "87: learn: 0.2714588\ttotal: 4m 4s\tremaining: 42m 16s\n",
      "88: learn: 0.2714528\ttotal: 4m 8s\tremaining: 42m 23s\n",
      "89: learn: 0.271443\ttotal: 4m 11s\tremaining: 42m 27s\n",
      "90: learn: 0.2714166\ttotal: 4m 15s\tremaining: 42m 27s\n",
      "91: learn: 0.2713986\ttotal: 4m 18s\tremaining: 42m 28s\n",
      "92: learn: 0.2713893\ttotal: 4m 21s\tremaining: 42m 31s\n",
      "93: learn: 0.2713767\ttotal: 4m 24s\tremaining: 42m 29s\n",
      "94: learn: 0.2713613\ttotal: 4m 27s\tremaining: 42m 30s\n",
      "95: learn: 0.2713518\ttotal: 4m 30s\tremaining: 42m 31s\n",
      "96: learn: 0.2712943\ttotal: 4m 33s\tremaining: 42m 28s\n",
      "97: learn: 0.2712809\ttotal: 4m 36s\tremaining: 42m 22s\n",
      "98: learn: 0.2712329\ttotal: 4m 38s\tremaining: 42m 18s\n",
      "99: learn: 0.2712246\ttotal: 4m 41s\tremaining: 42m 17s\n",
      "100: learn: 0.2712099\ttotal: 4m 45s\tremaining: 42m 25s\n",
      "101: learn: 0.2711948\ttotal: 4m 49s\tremaining: 42m 27s\n",
      "102: learn: 0.2711858\ttotal: 4m 52s\tremaining: 42m 25s\n",
      "103: learn: 0.2711792\ttotal: 4m 55s\tremaining: 42m 25s\n",
      "104: learn: 0.271169\ttotal: 4m 58s\tremaining: 42m 25s\n",
      "105: learn: 0.2711543\ttotal: 5m 1s\tremaining: 42m 23s\n",
      "106: learn: 0.2711382\ttotal: 5m 4s\tremaining: 42m 25s\n",
      "107: learn: 0.2711281\ttotal: 5m 7s\tremaining: 42m 23s\n",
      "108: learn: 0.2711129\ttotal: 5m 11s\tremaining: 42m 23s\n",
      "109: learn: 0.271111\ttotal: 5m 13s\tremaining: 42m 17s\n",
      "110: learn: 0.2710969\ttotal: 5m 16s\tremaining: 42m 14s\n",
      "111: learn: 0.2710854\ttotal: 5m 18s\tremaining: 42m 8s\n",
      "112: learn: 0.2710419\ttotal: 5m 21s\tremaining: 42m 3s\n",
      "113: learn: 0.2710313\ttotal: 5m 24s\tremaining: 42m\n",
      "114: learn: 0.2710202\ttotal: 5m 27s\tremaining: 42m 2s\n",
      "115: learn: 0.270994\ttotal: 5m 31s\tremaining: 42m 5s\n",
      "116: learn: 0.270952\ttotal: 5m 34s\tremaining: 42m 4s\n",
      "117: learn: 0.2709282\ttotal: 5m 37s\tremaining: 42m 1s\n",
      "118: learn: 0.2709218\ttotal: 5m 39s\tremaining: 41m 55s\n",
      "119: learn: 0.2709082\ttotal: 5m 42s\tremaining: 41m 51s\n",
      "120: learn: 0.2708899\ttotal: 5m 45s\tremaining: 41m 47s\n",
      "121: learn: 0.2708862\ttotal: 5m 47s\tremaining: 41m 41s\n",
      "122: learn: 0.270877\ttotal: 5m 50s\tremaining: 41m 37s\n",
      "123: learn: 0.2708717\ttotal: 5m 53s\tremaining: 41m 35s\n",
      "124: learn: 0.270848\ttotal: 5m 55s\tremaining: 41m 29s\n",
      "125: learn: 0.2708391\ttotal: 5m 58s\tremaining: 41m 24s\n",
      "126: learn: 0.2708347\ttotal: 6m 1s\tremaining: 41m 21s\n",
      "127: learn: 0.2708277\ttotal: 6m 4s\tremaining: 41m 25s\n",
      "128: learn: 0.2708193\ttotal: 6m 8s\tremaining: 41m 26s\n",
      "129: learn: 0.2708081\ttotal: 6m 11s\tremaining: 41m 24s\n",
      "130: learn: 0.2707939\ttotal: 6m 14s\tremaining: 41m 23s\n",
      "131: learn: 0.2707874\ttotal: 6m 17s\tremaining: 41m 23s\n",
      "132: learn: 0.2707755\ttotal: 6m 20s\tremaining: 41m 19s\n",
      "133: learn: 0.270764\ttotal: 6m 23s\tremaining: 41m 19s\n",
      "134: learn: 0.2707334\ttotal: 6m 26s\tremaining: 41m 17s\n",
      "135: learn: 0.2707186\ttotal: 6m 29s\tremaining: 41m 14s\n",
      "136: learn: 0.2707124\ttotal: 6m 32s\tremaining: 41m 14s\n",
      "137: learn: 0.270706\ttotal: 6m 35s\tremaining: 41m 12s\n",
      "138: learn: 0.2706889\ttotal: 6m 38s\tremaining: 41m 9s\n",
      "139: learn: 0.270677\ttotal: 6m 42s\tremaining: 41m 9s\n",
      "140: learn: 0.2706655\ttotal: 6m 45s\tremaining: 41m 7s\n",
      "141: learn: 0.270645\ttotal: 6m 48s\tremaining: 41m 8s\n",
      "142: learn: 0.2706374\ttotal: 6m 51s\tremaining: 41m 5s\n",
      "143: learn: 0.2706308\ttotal: 6m 54s\tremaining: 41m 4s\n",
      "144: learn: 0.2706216\ttotal: 6m 57s\tremaining: 41m 3s\n",
      "145: learn: 0.2706075\ttotal: 7m\tremaining: 41m\n",
      "146: learn: 0.2705958\ttotal: 7m 3s\tremaining: 41m\n",
      "147: learn: 0.2705892\ttotal: 7m 7s\tremaining: 40m 58s\n",
      "148: learn: 0.2705801\ttotal: 7m 10s\tremaining: 40m 56s\n",
      "149: learn: 0.2705746\ttotal: 7m 13s\tremaining: 40m 56s\n",
      "150: learn: 0.2705654\ttotal: 7m 16s\tremaining: 40m 53s\n",
      "151: learn: 0.2705573\ttotal: 7m 19s\tremaining: 40m 53s\n",
      "152: learn: 0.2705478\ttotal: 7m 22s\tremaining: 40m 51s\n"
     ]
    },
    {
     "name": "stdout",
     "output_type": "stream",
     "text": [
      "153: learn: 0.2705422\ttotal: 7m 25s\tremaining: 40m 48s\n",
      "154: learn: 0.2705116\ttotal: 7m 28s\tremaining: 40m 43s\n",
      "155: learn: 0.2704989\ttotal: 7m 30s\tremaining: 40m 38s\n",
      "156: learn: 0.2704899\ttotal: 7m 33s\tremaining: 40m 36s\n",
      "157: learn: 0.2704737\ttotal: 7m 37s\tremaining: 40m 39s\n",
      "158: learn: 0.2704663\ttotal: 7m 41s\tremaining: 40m 39s\n",
      "159: learn: 0.2704565\ttotal: 7m 43s\tremaining: 40m 35s\n",
      "160: learn: 0.2704503\ttotal: 7m 46s\tremaining: 40m 31s\n",
      "161: learn: 0.2704362\ttotal: 7m 49s\tremaining: 40m 26s\n",
      "162: learn: 0.2704238\ttotal: 7m 51s\tremaining: 40m 23s\n",
      "163: learn: 0.2704099\ttotal: 7m 55s\tremaining: 40m 23s\n",
      "164: learn: 0.2703993\ttotal: 7m 58s\tremaining: 40m 23s\n",
      "165: learn: 0.2703884\ttotal: 8m 2s\tremaining: 40m 24s\n",
      "166: learn: 0.27038\ttotal: 8m 6s\tremaining: 40m 24s\n",
      "167: learn: 0.2703755\ttotal: 8m 9s\tremaining: 40m 23s\n",
      "168: learn: 0.2703678\ttotal: 8m 12s\tremaining: 40m 20s\n",
      "169: learn: 0.2703537\ttotal: 8m 15s\tremaining: 40m 19s\n",
      "170: learn: 0.2703173\ttotal: 8m 18s\tremaining: 40m 18s\n",
      "171: learn: 0.2703124\ttotal: 8m 21s\tremaining: 40m 14s\n",
      "172: learn: 0.2703041\ttotal: 8m 24s\tremaining: 40m 9s\n",
      "173: learn: 0.2702923\ttotal: 8m 26s\tremaining: 40m 5s\n",
      "174: learn: 0.2702807\ttotal: 8m 29s\tremaining: 40m 1s\n",
      "175: learn: 0.2702675\ttotal: 8m 33s\tremaining: 40m 2s\n",
      "176: learn: 0.270259\ttotal: 8m 36s\tremaining: 40m 1s\n",
      "177: learn: 0.2702542\ttotal: 8m 39s\tremaining: 39m 59s\n",
      "178: learn: 0.2702489\ttotal: 8m 42s\tremaining: 39m 57s\n",
      "179: learn: 0.2702403\ttotal: 8m 46s\tremaining: 39m 56s\n",
      "180: learn: 0.2702269\ttotal: 8m 49s\tremaining: 39m 54s\n",
      "181: learn: 0.2702237\ttotal: 8m 52s\tremaining: 39m 53s\n",
      "182: learn: 0.2702172\ttotal: 8m 55s\tremaining: 39m 50s\n",
      "183: learn: 0.2702082\ttotal: 8m 58s\tremaining: 39m 46s\n",
      "184: learn: 0.270202\ttotal: 9m\tremaining: 39m 41s\n",
      "185: learn: 0.2701933\ttotal: 9m 3s\tremaining: 39m 37s\n",
      "186: learn: 0.2701828\ttotal: 9m 6s\tremaining: 39m 35s\n",
      "187: learn: 0.270177\ttotal: 9m 10s\tremaining: 39m 36s\n",
      "188: learn: 0.2701458\ttotal: 9m 13s\tremaining: 39m 35s\n",
      "189: learn: 0.2701385\ttotal: 9m 16s\tremaining: 39m 31s\n",
      "190: learn: 0.2701312\ttotal: 9m 19s\tremaining: 39m 29s\n",
      "191: learn: 0.2701198\ttotal: 9m 22s\tremaining: 39m 27s\n",
      "192: learn: 0.2701045\ttotal: 9m 25s\tremaining: 39m 24s\n",
      "193: learn: 0.2700941\ttotal: 9m 28s\tremaining: 39m 23s\n",
      "194: learn: 0.2700864\ttotal: 9m 31s\tremaining: 39m 20s\n",
      "195: learn: 0.2700793\ttotal: 9m 34s\tremaining: 39m 18s\n",
      "196: learn: 0.2700751\ttotal: 9m 38s\tremaining: 39m 16s\n",
      "197: learn: 0.2700667\ttotal: 9m 40s\tremaining: 39m 13s\n",
      "198: learn: 0.2700567\ttotal: 9m 44s\tremaining: 39m 11s\n",
      "199: learn: 0.2700462\ttotal: 9m 47s\tremaining: 39m 9s\n",
      "200: learn: 0.2700349\ttotal: 9m 50s\tremaining: 39m 6s\n",
      "201: learn: 0.2700274\ttotal: 9m 53s\tremaining: 39m 5s\n",
      "202: learn: 0.2700209\ttotal: 9m 56s\tremaining: 39m 2s\n",
      "203: learn: 0.2700147\ttotal: 9m 59s\tremaining: 39m\n",
      "204: learn: 0.2699789\ttotal: 10m 2s\tremaining: 38m 58s\n",
      "205: learn: 0.2699751\ttotal: 10m 5s\tremaining: 38m 55s\n",
      "206: learn: 0.2699614\ttotal: 10m 9s\tremaining: 38m 54s\n",
      "207: learn: 0.2699563\ttotal: 10m 12s\tremaining: 38m 51s\n",
      "208: learn: 0.2699502\ttotal: 10m 15s\tremaining: 38m 48s\n",
      "209: learn: 0.2699321\ttotal: 10m 18s\tremaining: 38m 46s\n",
      "210: learn: 0.2699262\ttotal: 10m 21s\tremaining: 38m 43s\n",
      "211: learn: 0.269917\ttotal: 10m 23s\tremaining: 38m 39s\n",
      "212: learn: 0.2699107\ttotal: 10m 26s\tremaining: 38m 35s\n",
      "213: learn: 0.2699046\ttotal: 10m 29s\tremaining: 38m 31s\n",
      "214: learn: 0.2698944\ttotal: 10m 33s\tremaining: 38m 31s\n",
      "215: learn: 0.2698837\ttotal: 10m 36s\tremaining: 38m 30s\n",
      "216: learn: 0.2698709\ttotal: 10m 39s\tremaining: 38m 27s\n",
      "217: learn: 0.2698639\ttotal: 10m 42s\tremaining: 38m 25s\n",
      "218: learn: 0.2698591\ttotal: 10m 46s\tremaining: 38m 24s\n",
      "219: learn: 0.269849\ttotal: 10m 48s\tremaining: 38m 20s\n",
      "220: learn: 0.2698472\ttotal: 10m 52s\tremaining: 38m 19s\n",
      "221: learn: 0.2698442\ttotal: 10m 55s\tremaining: 38m 16s\n",
      "222: learn: 0.2698387\ttotal: 10m 58s\tremaining: 38m 13s\n",
      "223: learn: 0.2698315\ttotal: 11m 1s\tremaining: 38m 12s\n",
      "224: learn: 0.269823\ttotal: 11m 4s\tremaining: 38m 9s\n",
      "225: learn: 0.2698187\ttotal: 11m 7s\tremaining: 38m 7s\n",
      "226: learn: 0.2698065\ttotal: 11m 11s\tremaining: 38m 5s\n",
      "227: learn: 0.2698001\ttotal: 11m 13s\tremaining: 38m 1s\n",
      "228: learn: 0.2697918\ttotal: 11m 17s\tremaining: 38m\n",
      "229: learn: 0.269786\ttotal: 11m 20s\tremaining: 37m 56s\n",
      "230: learn: 0.2697794\ttotal: 11m 23s\tremaining: 37m 54s\n",
      "231: learn: 0.2697657\ttotal: 11m 26s\tremaining: 37m 52s\n",
      "232: learn: 0.2697565\ttotal: 11m 30s\tremaining: 37m 52s\n",
      "233: learn: 0.2697483\ttotal: 11m 34s\tremaining: 37m 52s\n",
      "234: learn: 0.2697458\ttotal: 11m 37s\tremaining: 37m 51s\n",
      "235: learn: 0.2697397\ttotal: 11m 40s\tremaining: 37m 47s\n",
      "236: learn: 0.2697326\ttotal: 11m 43s\tremaining: 37m 45s\n",
      "237: learn: 0.2697238\ttotal: 11m 46s\tremaining: 37m 43s\n",
      "238: learn: 0.2697088\ttotal: 11m 49s\tremaining: 37m 39s\n",
      "239: learn: 0.2697031\ttotal: 11m 53s\tremaining: 37m 38s\n",
      "240: learn: 0.2696985\ttotal: 11m 55s\tremaining: 37m 34s\n",
      "241: learn: 0.2696981\ttotal: 11m 58s\tremaining: 37m 31s\n",
      "242: learn: 0.269689\ttotal: 12m 2s\tremaining: 37m 29s\n",
      "243: learn: 0.2696661\ttotal: 12m 5s\tremaining: 37m 26s\n",
      "244: learn: 0.2696594\ttotal: 12m 8s\tremaining: 37m 24s\n",
      "245: learn: 0.2696518\ttotal: 12m 12s\tremaining: 37m 23s\n",
      "246: learn: 0.2696454\ttotal: 12m 15s\tremaining: 37m 22s\n",
      "247: learn: 0.2696327\ttotal: 12m 19s\tremaining: 37m 21s\n",
      "248: learn: 0.2696295\ttotal: 12m 22s\tremaining: 37m 19s\n",
      "249: learn: 0.269627\ttotal: 12m 25s\tremaining: 37m 16s\n",
      "250: learn: 0.2696232\ttotal: 12m 28s\tremaining: 37m 14s\n",
      "251: learn: 0.2696151\ttotal: 12m 31s\tremaining: 37m 11s\n",
      "252: learn: 0.2696082\ttotal: 12m 34s\tremaining: 37m 8s\n",
      "253: learn: 0.2696029\ttotal: 12m 37s\tremaining: 37m 6s\n",
      "254: learn: 0.2695971\ttotal: 12m 40s\tremaining: 37m 2s\n",
      "255: learn: 0.2695914\ttotal: 12m 44s\tremaining: 37m\n",
      "256: learn: 0.2695839\ttotal: 12m 47s\tremaining: 36m 58s\n",
      "257: learn: 0.2695798\ttotal: 12m 50s\tremaining: 36m 55s\n",
      "258: learn: 0.2695792\ttotal: 12m 53s\tremaining: 36m 53s\n",
      "259: learn: 0.269568\ttotal: 12m 56s\tremaining: 36m 50s\n",
      "260: learn: 0.2695675\ttotal: 12m 59s\tremaining: 36m 47s\n",
      "261: learn: 0.2695616\ttotal: 13m 3s\tremaining: 36m 46s\n",
      "262: learn: 0.2695505\ttotal: 13m 7s\tremaining: 36m 45s\n",
      "263: learn: 0.2695454\ttotal: 13m 10s\tremaining: 36m 44s\n",
      "264: learn: 0.2695415\ttotal: 13m 14s\tremaining: 36m 42s\n",
      "265: learn: 0.2695307\ttotal: 13m 17s\tremaining: 36m 41s\n",
      "266: learn: 0.269529\ttotal: 13m 21s\tremaining: 36m 39s\n",
      "267: learn: 0.2695168\ttotal: 13m 24s\tremaining: 36m 36s\n",
      "268: learn: 0.2695123\ttotal: 13m 27s\tremaining: 36m 34s\n",
      "269: learn: 0.2695043\ttotal: 13m 30s\tremaining: 36m 31s\n",
      "270: learn: 0.2694978\ttotal: 13m 33s\tremaining: 36m 28s\n",
      "271: learn: 0.2694961\ttotal: 13m 35s\tremaining: 36m 23s\n",
      "272: learn: 0.2694897\ttotal: 13m 38s\tremaining: 36m 19s\n",
      "273: learn: 0.2694831\ttotal: 13m 41s\tremaining: 36m 15s\n",
      "274: learn: 0.2694743\ttotal: 13m 44s\tremaining: 36m 14s\n",
      "275: learn: 0.2694647\ttotal: 13m 48s\tremaining: 36m 13s\n",
      "276: learn: 0.2694612\ttotal: 13m 51s\tremaining: 36m 10s\n",
      "277: learn: 0.2694612\ttotal: 13m 53s\tremaining: 36m 3s\n",
      "278: learn: 0.2694486\ttotal: 13m 56s\tremaining: 36m 1s\n",
      "279: learn: 0.2694479\ttotal: 13m 59s\tremaining: 35m 58s\n",
      "280: learn: 0.2694415\ttotal: 14m 2s\tremaining: 35m 55s\n",
      "281: learn: 0.2694323\ttotal: 14m 5s\tremaining: 35m 53s\n",
      "282: learn: 0.2694259\ttotal: 14m 9s\tremaining: 35m 53s\n",
      "283: learn: 0.2694197\ttotal: 14m 13s\tremaining: 35m 51s\n",
      "284: learn: 0.2694178\ttotal: 14m 16s\tremaining: 35m 49s\n",
      "285: learn: 0.2694093\ttotal: 14m 19s\tremaining: 35m 46s\n",
      "286: learn: 0.2693986\ttotal: 14m 22s\tremaining: 35m 43s\n",
      "287: learn: 0.2693923\ttotal: 14m 26s\tremaining: 35m 41s\n",
      "288: learn: 0.2693825\ttotal: 14m 29s\tremaining: 35m 38s\n",
      "289: learn: 0.2693686\ttotal: 14m 32s\tremaining: 35m 35s\n",
      "290: learn: 0.2693609\ttotal: 14m 35s\tremaining: 35m 32s\n",
      "291: learn: 0.2693545\ttotal: 14m 38s\tremaining: 35m 29s\n",
      "292: learn: 0.2693431\ttotal: 14m 41s\tremaining: 35m 27s\n",
      "293: learn: 0.2693411\ttotal: 14m 44s\tremaining: 35m 24s\n",
      "294: learn: 0.2693347\ttotal: 14m 48s\tremaining: 35m 22s\n",
      "295: learn: 0.269324\ttotal: 14m 51s\tremaining: 35m 20s\n",
      "296: learn: 0.2693211\ttotal: 14m 55s\tremaining: 35m 19s\n",
      "297: learn: 0.2693107\ttotal: 14m 58s\tremaining: 35m 17s\n",
      "298: learn: 0.2693033\ttotal: 15m 2s\tremaining: 35m 15s\n",
      "299: learn: 0.2692944\ttotal: 15m 5s\tremaining: 35m 12s\n",
      "300: learn: 0.2692835\ttotal: 15m 8s\tremaining: 35m 10s\n",
      "301: learn: 0.2692744\ttotal: 15m 11s\tremaining: 35m 7s\n"
     ]
    },
    {
     "name": "stdout",
     "output_type": "stream",
     "text": [
      "302: learn: 0.269271\ttotal: 15m 14s\tremaining: 35m 4s\n",
      "303: learn: 0.2692625\ttotal: 15m 18s\tremaining: 35m 2s\n",
      "304: learn: 0.269254\ttotal: 15m 21s\tremaining: 34m 58s\n",
      "305: learn: 0.2692439\ttotal: 15m 24s\tremaining: 34m 56s\n",
      "306: learn: 0.2692364\ttotal: 15m 27s\tremaining: 34m 53s\n",
      "307: learn: 0.2692339\ttotal: 15m 30s\tremaining: 34m 50s\n",
      "308: learn: 0.2692274\ttotal: 15m 33s\tremaining: 34m 47s\n",
      "309: learn: 0.2692232\ttotal: 15m 36s\tremaining: 34m 44s\n",
      "310: learn: 0.2692178\ttotal: 15m 39s\tremaining: 34m 41s\n",
      "311: learn: 0.2692115\ttotal: 15m 42s\tremaining: 34m 39s\n",
      "312: learn: 0.2692054\ttotal: 15m 46s\tremaining: 34m 37s\n",
      "313: learn: 0.2691981\ttotal: 15m 50s\tremaining: 34m 36s\n",
      "314: learn: 0.269195\ttotal: 15m 53s\tremaining: 34m 33s\n",
      "315: learn: 0.2691914\ttotal: 15m 56s\tremaining: 34m 30s\n",
      "316: learn: 0.269182\ttotal: 15m 59s\tremaining: 34m 27s\n",
      "317: learn: 0.2691776\ttotal: 16m 2s\tremaining: 34m 25s\n",
      "318: learn: 0.2691655\ttotal: 16m 5s\tremaining: 34m 21s\n",
      "319: learn: 0.2691559\ttotal: 16m 9s\tremaining: 34m 19s\n",
      "320: learn: 0.2691507\ttotal: 16m 11s\tremaining: 34m 15s\n",
      "321: learn: 0.2691384\ttotal: 16m 15s\tremaining: 34m 12s\n",
      "322: learn: 0.2691245\ttotal: 16m 18s\tremaining: 34m 10s\n",
      "323: learn: 0.2691144\ttotal: 16m 21s\tremaining: 34m 6s\n",
      "324: learn: 0.269111\ttotal: 16m 24s\tremaining: 34m 4s\n",
      "325: learn: 0.2691042\ttotal: 16m 27s\tremaining: 34m 1s\n",
      "326: learn: 0.2690979\ttotal: 16m 30s\tremaining: 33m 58s\n",
      "327: learn: 0.2690874\ttotal: 16m 33s\tremaining: 33m 56s\n",
      "328: learn: 0.2690816\ttotal: 16m 36s\tremaining: 33m 52s\n",
      "329: learn: 0.2690763\ttotal: 16m 39s\tremaining: 33m 50s\n",
      "330: learn: 0.2690693\ttotal: 16m 43s\tremaining: 33m 48s\n",
      "331: learn: 0.269056\ttotal: 16m 47s\tremaining: 33m 47s\n",
      "332: learn: 0.2690485\ttotal: 16m 51s\tremaining: 33m 45s\n",
      "333: learn: 0.2690461\ttotal: 16m 54s\tremaining: 33m 43s\n",
      "334: learn: 0.2690377\ttotal: 16m 58s\tremaining: 33m 41s\n",
      "335: learn: 0.2690361\ttotal: 17m 1s\tremaining: 33m 39s\n",
      "336: learn: 0.2690312\ttotal: 17m 4s\tremaining: 33m 35s\n",
      "337: learn: 0.2690275\ttotal: 17m 7s\tremaining: 33m 32s\n",
      "338: learn: 0.2690259\ttotal: 17m 10s\tremaining: 33m 30s\n",
      "339: learn: 0.2690173\ttotal: 17m 13s\tremaining: 33m 26s\n",
      "340: learn: 0.2690063\ttotal: 17m 16s\tremaining: 33m 22s\n",
      "341: learn: 0.2689981\ttotal: 17m 18s\tremaining: 33m 18s\n",
      "342: learn: 0.2689919\ttotal: 17m 21s\tremaining: 33m 15s\n",
      "343: learn: 0.2689902\ttotal: 17m 25s\tremaining: 33m 13s\n",
      "344: learn: 0.2689862\ttotal: 17m 28s\tremaining: 33m 11s\n",
      "345: learn: 0.2689804\ttotal: 17m 32s\tremaining: 33m 9s\n",
      "346: learn: 0.2689699\ttotal: 17m 36s\tremaining: 33m 8s\n",
      "347: learn: 0.2689643\ttotal: 17m 40s\tremaining: 33m 6s\n",
      "348: learn: 0.2689624\ttotal: 17m 44s\tremaining: 33m 5s\n",
      "349: learn: 0.268957\ttotal: 17m 47s\tremaining: 33m 3s\n",
      "350: learn: 0.2689465\ttotal: 17m 50s\tremaining: 33m\n",
      "351: learn: 0.268933\ttotal: 17m 53s\tremaining: 32m 56s\n",
      "352: learn: 0.2689256\ttotal: 17m 56s\tremaining: 32m 52s\n",
      "353: learn: 0.2689146\ttotal: 17m 59s\tremaining: 32m 49s\n",
      "354: learn: 0.2689044\ttotal: 18m 2s\tremaining: 32m 46s\n",
      "355: learn: 0.2688975\ttotal: 18m 6s\tremaining: 32m 44s\n",
      "356: learn: 0.2688926\ttotal: 18m 9s\tremaining: 32m 42s\n",
      "357: learn: 0.2688796\ttotal: 18m 12s\tremaining: 32m 38s\n",
      "358: learn: 0.2688763\ttotal: 18m 15s\tremaining: 32m 36s\n",
      "359: learn: 0.2688713\ttotal: 18m 18s\tremaining: 32m 33s\n",
      "360: learn: 0.2688614\ttotal: 18m 22s\tremaining: 32m 32s\n",
      "361: learn: 0.2688599\ttotal: 18m 26s\tremaining: 32m 30s\n",
      "362: learn: 0.2688372\ttotal: 18m 29s\tremaining: 32m 27s\n",
      "363: learn: 0.2688324\ttotal: 18m 32s\tremaining: 32m 24s\n",
      "364: learn: 0.2688199\ttotal: 18m 35s\tremaining: 32m 21s\n",
      "365: learn: 0.2688159\ttotal: 18m 39s\tremaining: 32m 18s\n",
      "366: learn: 0.2688098\ttotal: 18m 42s\tremaining: 32m 15s\n",
      "367: learn: 0.2687989\ttotal: 18m 45s\tremaining: 32m 13s\n",
      "368: learn: 0.2687897\ttotal: 18m 48s\tremaining: 32m 10s\n",
      "369: learn: 0.2687857\ttotal: 18m 51s\tremaining: 32m 7s\n",
      "370: learn: 0.2687772\ttotal: 18m 54s\tremaining: 32m 4s\n",
      "371: learn: 0.268772\ttotal: 18m 57s\tremaining: 32m\n",
      "372: learn: 0.2687598\ttotal: 19m 1s\tremaining: 31m 58s\n",
      "373: learn: 0.2687471\ttotal: 19m 4s\tremaining: 31m 56s\n",
      "374: learn: 0.2687351\ttotal: 19m 8s\tremaining: 31m 54s\n",
      "375: learn: 0.2687294\ttotal: 19m 12s\tremaining: 31m 52s\n",
      "376: learn: 0.2687255\ttotal: 19m 15s\tremaining: 31m 49s\n",
      "377: learn: 0.2687228\ttotal: 19m 18s\tremaining: 31m 45s\n",
      "378: learn: 0.2687179\ttotal: 19m 21s\tremaining: 31m 43s\n",
      "379: learn: 0.2687166\ttotal: 19m 24s\tremaining: 31m 39s\n",
      "380: learn: 0.2687101\ttotal: 19m 27s\tremaining: 31m 36s\n",
      "381: learn: 0.2687025\ttotal: 19m 30s\tremaining: 31m 34s\n",
      "382: learn: 0.2686967\ttotal: 19m 33s\tremaining: 31m 30s\n",
      "383: learn: 0.2686914\ttotal: 19m 37s\tremaining: 31m 28s\n",
      "384: learn: 0.2686834\ttotal: 19m 39s\tremaining: 31m 24s\n",
      "385: learn: 0.2686717\ttotal: 19m 42s\tremaining: 31m 21s\n",
      "386: learn: 0.2686516\ttotal: 19m 46s\tremaining: 31m 18s\n",
      "387: learn: 0.2686362\ttotal: 19m 49s\tremaining: 31m 15s\n",
      "388: learn: 0.2686322\ttotal: 19m 52s\tremaining: 31m 12s\n",
      "389: learn: 0.2686224\ttotal: 19m 55s\tremaining: 31m 10s\n",
      "390: learn: 0.2686201\ttotal: 19m 59s\tremaining: 31m 8s\n",
      "391: learn: 0.268619\ttotal: 20m 3s\tremaining: 31m 6s\n",
      "392: learn: 0.2686166\ttotal: 20m 6s\tremaining: 31m 3s\n",
      "393: learn: 0.2686123\ttotal: 20m 9s\tremaining: 31m\n",
      "394: learn: 0.2686081\ttotal: 20m 12s\tremaining: 30m 57s\n",
      "395: learn: 0.2686043\ttotal: 20m 15s\tremaining: 30m 54s\n",
      "396: learn: 0.2685966\ttotal: 20m 18s\tremaining: 30m 51s\n",
      "397: learn: 0.2685891\ttotal: 20m 22s\tremaining: 30m 48s\n",
      "398: learn: 0.268582\ttotal: 20m 25s\tremaining: 30m 45s\n",
      "399: learn: 0.2685766\ttotal: 20m 28s\tremaining: 30m 42s\n",
      "400: learn: 0.2685753\ttotal: 20m 31s\tremaining: 30m 39s\n",
      "401: learn: 0.2685718\ttotal: 20m 34s\tremaining: 30m 36s\n",
      "402: learn: 0.2685647\ttotal: 20m 37s\tremaining: 30m 33s\n",
      "403: learn: 0.268559\ttotal: 20m 40s\tremaining: 30m 30s\n",
      "404: learn: 0.2685567\ttotal: 20m 44s\tremaining: 30m 27s\n",
      "405: learn: 0.2685528\ttotal: 20m 48s\tremaining: 30m 25s\n",
      "406: learn: 0.268552\ttotal: 20m 51s\tremaining: 30m 24s\n",
      "407: learn: 0.2685491\ttotal: 20m 55s\tremaining: 30m 21s\n",
      "408: learn: 0.2685445\ttotal: 20m 58s\tremaining: 30m 18s\n",
      "409: learn: 0.2685365\ttotal: 21m 1s\tremaining: 30m 15s\n",
      "410: learn: 0.2685315\ttotal: 21m 5s\tremaining: 30m 13s\n",
      "411: learn: 0.2685293\ttotal: 21m 8s\tremaining: 30m 9s\n",
      "412: learn: 0.2685245\ttotal: 21m 11s\tremaining: 30m 6s\n",
      "413: learn: 0.2685217\ttotal: 21m 14s\tremaining: 30m 3s\n",
      "414: learn: 0.2685123\ttotal: 21m 17s\tremaining: 30m\n",
      "415: learn: 0.2685113\ttotal: 21m 20s\tremaining: 29m 57s\n",
      "416: learn: 0.268506\ttotal: 21m 23s\tremaining: 29m 54s\n",
      "417: learn: 0.2684945\ttotal: 21m 26s\tremaining: 29m 51s\n",
      "418: learn: 0.2684915\ttotal: 21m 30s\tremaining: 29m 48s\n",
      "419: learn: 0.2684846\ttotal: 21m 32s\tremaining: 29m 45s\n",
      "420: learn: 0.268476\ttotal: 21m 36s\tremaining: 29m 42s\n",
      "421: learn: 0.2684668\ttotal: 21m 39s\tremaining: 29m 40s\n",
      "422: learn: 0.2684635\ttotal: 21m 43s\tremaining: 29m 38s\n",
      "423: learn: 0.2684586\ttotal: 21m 47s\tremaining: 29m 36s\n",
      "424: learn: 0.2684525\ttotal: 21m 50s\tremaining: 29m 33s\n",
      "425: learn: 0.2684464\ttotal: 21m 53s\tremaining: 29m 29s\n",
      "426: learn: 0.2684366\ttotal: 21m 56s\tremaining: 29m 26s\n",
      "427: learn: 0.2684343\ttotal: 21m 59s\tremaining: 29m 23s\n",
      "428: learn: 0.2684306\ttotal: 22m 2s\tremaining: 29m 20s\n",
      "429: learn: 0.2684226\ttotal: 22m 5s\tremaining: 29m 17s\n",
      "430: learn: 0.2684182\ttotal: 22m 8s\tremaining: 29m 14s\n",
      "431: learn: 0.2684161\ttotal: 22m 11s\tremaining: 29m 11s\n",
      "432: learn: 0.2684116\ttotal: 22m 15s\tremaining: 29m 8s\n",
      "433: learn: 0.268407\ttotal: 22m 18s\tremaining: 29m 5s\n",
      "434: learn: 0.2684016\ttotal: 22m 21s\tremaining: 29m 2s\n",
      "435: learn: 0.2683987\ttotal: 22m 24s\tremaining: 28m 59s\n",
      "436: learn: 0.2683941\ttotal: 22m 27s\tremaining: 28m 56s\n",
      "437: learn: 0.2683858\ttotal: 22m 30s\tremaining: 28m 53s\n",
      "438: learn: 0.2683793\ttotal: 22m 33s\tremaining: 28m 49s\n",
      "439: learn: 0.2683754\ttotal: 22m 37s\tremaining: 28m 47s\n",
      "440: learn: 0.2683666\ttotal: 22m 39s\tremaining: 28m 43s\n",
      "441: learn: 0.2683628\ttotal: 22m 42s\tremaining: 28m 40s\n",
      "442: learn: 0.2683579\ttotal: 22m 46s\tremaining: 28m 38s\n",
      "443: learn: 0.2683517\ttotal: 22m 50s\tremaining: 28m 36s\n",
      "444: learn: 0.268348\ttotal: 22m 54s\tremaining: 28m 34s\n",
      "445: learn: 0.2683471\ttotal: 22m 57s\tremaining: 28m 31s\n",
      "446: learn: 0.2683411\ttotal: 23m\tremaining: 28m 27s\n",
      "447: learn: 0.2683368\ttotal: 23m 3s\tremaining: 28m 24s\n",
      "448: learn: 0.2683298\ttotal: 23m 7s\tremaining: 28m 22s\n",
      "449: learn: 0.2683232\ttotal: 23m 11s\tremaining: 28m 20s\n"
     ]
    },
    {
     "name": "stdout",
     "output_type": "stream",
     "text": [
      "450: learn: 0.268319\ttotal: 23m 14s\tremaining: 28m 17s\n",
      "451: learn: 0.268319\ttotal: 23m 16s\tremaining: 28m 13s\n",
      "452: learn: 0.268316\ttotal: 23m 20s\tremaining: 28m 11s\n",
      "453: learn: 0.2683101\ttotal: 23m 24s\tremaining: 28m 8s\n",
      "454: learn: 0.2683089\ttotal: 23m 27s\tremaining: 28m 5s\n",
      "455: learn: 0.2683014\ttotal: 23m 30s\tremaining: 28m 2s\n",
      "456: learn: 0.2682964\ttotal: 23m 33s\tremaining: 27m 59s\n",
      "457: learn: 0.2682958\ttotal: 23m 37s\tremaining: 27m 57s\n",
      "458: learn: 0.2682944\ttotal: 23m 40s\tremaining: 27m 54s\n",
      "459: learn: 0.2682884\ttotal: 23m 44s\tremaining: 27m 52s\n",
      "460: learn: 0.268282\ttotal: 23m 47s\tremaining: 27m 48s\n",
      "461: learn: 0.268281\ttotal: 23m 50s\tremaining: 27m 45s\n",
      "462: learn: 0.268279\ttotal: 23m 53s\tremaining: 27m 42s\n",
      "463: learn: 0.268278\ttotal: 23m 56s\tremaining: 27m 39s\n",
      "464: learn: 0.268274\ttotal: 23m 59s\tremaining: 27m 36s\n",
      "465: learn: 0.2682703\ttotal: 24m 2s\tremaining: 27m 33s\n",
      "466: learn: 0.2682668\ttotal: 24m 5s\tremaining: 27m 29s\n",
      "467: learn: 0.2682635\ttotal: 24m 9s\tremaining: 27m 27s\n",
      "468: learn: 0.2682605\ttotal: 24m 11s\tremaining: 27m 23s\n",
      "469: learn: 0.2682519\ttotal: 24m 14s\tremaining: 27m 20s\n",
      "470: learn: 0.2682502\ttotal: 24m 18s\tremaining: 27m 17s\n",
      "471: learn: 0.2682436\ttotal: 24m 21s\tremaining: 27m 14s\n",
      "472: learn: 0.2682409\ttotal: 24m 24s\tremaining: 27m 11s\n",
      "473: learn: 0.2682383\ttotal: 24m 28s\tremaining: 27m 9s\n",
      "474: learn: 0.2682349\ttotal: 24m 31s\tremaining: 27m 6s\n",
      "475: learn: 0.2682303\ttotal: 24m 35s\tremaining: 27m 4s\n",
      "476: learn: 0.2682266\ttotal: 24m 38s\tremaining: 27m 1s\n",
      "477: learn: 0.2682243\ttotal: 24m 41s\tremaining: 26m 57s\n",
      "478: learn: 0.2682225\ttotal: 24m 44s\tremaining: 26m 55s\n",
      "479: learn: 0.2682174\ttotal: 24m 48s\tremaining: 26m 52s\n",
      "480: learn: 0.2682121\ttotal: 24m 52s\tremaining: 26m 50s\n",
      "481: learn: 0.2682106\ttotal: 24m 56s\tremaining: 26m 48s\n",
      "482: learn: 0.2682024\ttotal: 25m\tremaining: 26m 45s\n",
      "483: learn: 0.2682004\ttotal: 25m 3s\tremaining: 26m 43s\n",
      "484: learn: 0.2681967\ttotal: 25m 7s\tremaining: 26m 40s\n",
      "485: learn: 0.268189\ttotal: 25m 11s\tremaining: 26m 38s\n",
      "486: learn: 0.2681868\ttotal: 25m 14s\tremaining: 26m 35s\n",
      "487: learn: 0.2681825\ttotal: 25m 17s\tremaining: 26m 31s\n",
      "488: learn: 0.2681735\ttotal: 25m 20s\tremaining: 26m 29s\n",
      "489: learn: 0.2681687\ttotal: 25m 24s\tremaining: 26m 26s\n",
      "490: learn: 0.268163\ttotal: 25m 28s\tremaining: 26m 24s\n",
      "491: learn: 0.2681591\ttotal: 25m 31s\tremaining: 26m 21s\n",
      "492: learn: 0.2681506\ttotal: 25m 35s\tremaining: 26m 18s\n",
      "493: learn: 0.2681473\ttotal: 25m 37s\tremaining: 26m 15s\n",
      "494: learn: 0.2681411\ttotal: 25m 40s\tremaining: 26m 11s\n",
      "495: learn: 0.268132\ttotal: 25m 43s\tremaining: 26m 8s\n",
      "496: learn: 0.2681212\ttotal: 25m 45s\tremaining: 26m 4s\n",
      "497: learn: 0.2681133\ttotal: 25m 50s\tremaining: 26m 2s\n",
      "498: learn: 0.2681065\ttotal: 25m 54s\tremaining: 26m\n",
      "499: learn: 0.2680996\ttotal: 25m 58s\tremaining: 25m 58s\n",
      "500: learn: 0.2680985\ttotal: 26m 1s\tremaining: 25m 55s\n",
      "501: learn: 0.2680932\ttotal: 26m 4s\tremaining: 25m 52s\n",
      "502: learn: 0.2680829\ttotal: 26m 7s\tremaining: 25m 49s\n",
      "503: learn: 0.268077\ttotal: 26m 11s\tremaining: 25m 46s\n",
      "504: learn: 0.2680691\ttotal: 26m 14s\tremaining: 25m 43s\n",
      "505: learn: 0.268063\ttotal: 26m 18s\tremaining: 25m 41s\n",
      "506: learn: 0.26806\ttotal: 26m 21s\tremaining: 25m 38s\n",
      "507: learn: 0.2680552\ttotal: 26m 25s\tremaining: 25m 35s\n",
      "508: learn: 0.2680543\ttotal: 26m 29s\tremaining: 25m 33s\n",
      "509: learn: 0.2680435\ttotal: 26m 32s\tremaining: 25m 30s\n",
      "510: learn: 0.2680372\ttotal: 26m 36s\tremaining: 25m 27s\n",
      "511: learn: 0.26803\ttotal: 26m 40s\tremaining: 25m 25s\n",
      "512: learn: 0.2680285\ttotal: 26m 43s\tremaining: 25m 22s\n",
      "513: learn: 0.2680216\ttotal: 26m 47s\tremaining: 25m 19s\n",
      "514: learn: 0.2680105\ttotal: 26m 51s\tremaining: 25m 17s\n",
      "515: learn: 0.2680069\ttotal: 26m 54s\tremaining: 25m 14s\n",
      "516: learn: 0.2680028\ttotal: 26m 58s\tremaining: 25m 12s\n",
      "517: learn: 0.2679963\ttotal: 27m 1s\tremaining: 25m 9s\n",
      "518: learn: 0.267995\ttotal: 27m 4s\tremaining: 25m 5s\n",
      "519: learn: 0.2679848\ttotal: 27m 7s\tremaining: 25m 2s\n",
      "520: learn: 0.2679805\ttotal: 27m 11s\tremaining: 24m 59s\n",
      "521: learn: 0.2679777\ttotal: 27m 13s\tremaining: 24m 56s\n",
      "522: learn: 0.2679747\ttotal: 27m 17s\tremaining: 24m 53s\n",
      "523: learn: 0.2679691\ttotal: 27m 20s\tremaining: 24m 50s\n",
      "524: learn: 0.2679562\ttotal: 27m 23s\tremaining: 24m 46s\n",
      "525: learn: 0.2679562\ttotal: 27m 25s\tremaining: 24m 43s\n",
      "526: learn: 0.2679543\ttotal: 27m 29s\tremaining: 24m 40s\n",
      "527: learn: 0.2679533\ttotal: 27m 33s\tremaining: 24m 38s\n",
      "528: learn: 0.267948\ttotal: 27m 37s\tremaining: 24m 35s\n",
      "529: learn: 0.2679406\ttotal: 27m 40s\tremaining: 24m 32s\n",
      "530: learn: 0.2679372\ttotal: 27m 43s\tremaining: 24m 28s\n",
      "531: learn: 0.2679356\ttotal: 27m 46s\tremaining: 24m 25s\n",
      "532: learn: 0.2679328\ttotal: 27m 49s\tremaining: 24m 22s\n",
      "533: learn: 0.2679258\ttotal: 27m 52s\tremaining: 24m 19s\n",
      "534: learn: 0.2679242\ttotal: 27m 55s\tremaining: 24m 16s\n",
      "535: learn: 0.267911\ttotal: 27m 58s\tremaining: 24m 13s\n",
      "536: learn: 0.2679068\ttotal: 28m 2s\tremaining: 24m 10s\n",
      "537: learn: 0.2678941\ttotal: 28m 4s\tremaining: 24m 6s\n",
      "538: learn: 0.2678934\ttotal: 28m 8s\tremaining: 24m 3s\n",
      "539: learn: 0.2678905\ttotal: 28m 11s\tremaining: 24m\n",
      "540: learn: 0.2678851\ttotal: 28m 15s\tremaining: 23m 58s\n",
      "541: learn: 0.2678796\ttotal: 28m 19s\tremaining: 23m 55s\n",
      "542: learn: 0.2678713\ttotal: 28m 22s\tremaining: 23m 52s\n",
      "543: learn: 0.2678673\ttotal: 28m 25s\tremaining: 23m 49s\n",
      "544: learn: 0.2678648\ttotal: 28m 28s\tremaining: 23m 46s\n",
      "545: learn: 0.2678602\ttotal: 28m 32s\tremaining: 23m 43s\n",
      "546: learn: 0.2678562\ttotal: 28m 36s\tremaining: 23m 41s\n",
      "547: learn: 0.2678538\ttotal: 28m 39s\tremaining: 23m 38s\n",
      "548: learn: 0.2678532\ttotal: 28m 43s\tremaining: 23m 35s\n",
      "549: learn: 0.267851\ttotal: 28m 46s\tremaining: 23m 32s\n",
      "550: learn: 0.2678349\ttotal: 28m 49s\tremaining: 23m 29s\n",
      "551: learn: 0.267829\ttotal: 28m 52s\tremaining: 23m 26s\n",
      "552: learn: 0.2678259\ttotal: 28m 55s\tremaining: 23m 23s\n",
      "553: learn: 0.2678187\ttotal: 28m 59s\tremaining: 23m 20s\n",
      "554: learn: 0.2678166\ttotal: 29m 2s\tremaining: 23m 16s\n",
      "555: learn: 0.2678126\ttotal: 29m 4s\tremaining: 23m 13s\n",
      "556: learn: 0.2678103\ttotal: 29m 7s\tremaining: 23m 9s\n",
      "557: learn: 0.2678064\ttotal: 29m 10s\tremaining: 23m 6s\n",
      "558: learn: 0.267802\ttotal: 29m 12s\tremaining: 23m 2s\n",
      "559: learn: 0.2678003\ttotal: 29m 15s\tremaining: 22m 59s\n",
      "560: learn: 0.2677976\ttotal: 29m 18s\tremaining: 22m 55s\n",
      "561: learn: 0.2677976\ttotal: 29m 20s\tremaining: 22m 51s\n",
      "562: learn: 0.2677929\ttotal: 29m 23s\tremaining: 22m 49s\n",
      "563: learn: 0.267787\ttotal: 29m 27s\tremaining: 22m 46s\n",
      "564: learn: 0.2677851\ttotal: 29m 31s\tremaining: 22m 43s\n",
      "565: learn: 0.2677842\ttotal: 29m 34s\tremaining: 22m 40s\n",
      "566: learn: 0.2677803\ttotal: 29m 37s\tremaining: 22m 37s\n",
      "567: learn: 0.2677776\ttotal: 29m 40s\tremaining: 22m 34s\n",
      "568: learn: 0.2677723\ttotal: 29m 44s\tremaining: 22m 31s\n",
      "569: learn: 0.2677648\ttotal: 29m 48s\tremaining: 22m 28s\n",
      "570: learn: 0.2677643\ttotal: 29m 51s\tremaining: 22m 26s\n",
      "571: learn: 0.2677533\ttotal: 29m 55s\tremaining: 22m 23s\n",
      "572: learn: 0.2677502\ttotal: 29m 59s\tremaining: 22m 21s\n",
      "573: learn: 0.2677428\ttotal: 30m 3s\tremaining: 22m 18s\n",
      "574: learn: 0.2677403\ttotal: 30m 7s\tremaining: 22m 15s\n",
      "575: learn: 0.2677359\ttotal: 30m 10s\tremaining: 22m 12s\n",
      "576: learn: 0.2677278\ttotal: 30m 14s\tremaining: 22m 10s\n",
      "577: learn: 0.2677261\ttotal: 30m 16s\tremaining: 22m 6s\n",
      "578: learn: 0.2677204\ttotal: 30m 20s\tremaining: 22m 3s\n",
      "579: learn: 0.2677092\ttotal: 30m 23s\tremaining: 22m\n",
      "580: learn: 0.2677071\ttotal: 30m 26s\tremaining: 21m 57s\n",
      "581: learn: 0.2677017\ttotal: 30m 29s\tremaining: 21m 54s\n",
      "582: learn: 0.2676992\ttotal: 30m 32s\tremaining: 21m 50s\n",
      "583: learn: 0.2676928\ttotal: 30m 35s\tremaining: 21m 47s\n",
      "584: learn: 0.2676891\ttotal: 30m 39s\tremaining: 21m 44s\n",
      "585: learn: 0.2676808\ttotal: 30m 42s\tremaining: 21m 42s\n",
      "586: learn: 0.2676808\ttotal: 30m 45s\tremaining: 21m 38s\n",
      "587: learn: 0.2676752\ttotal: 30m 48s\tremaining: 21m 35s\n",
      "588: learn: 0.2676692\ttotal: 30m 52s\tremaining: 21m 32s\n",
      "589: learn: 0.267668\ttotal: 30m 56s\tremaining: 21m 29s\n",
      "590: learn: 0.2676651\ttotal: 30m 59s\tremaining: 21m 26s\n",
      "591: learn: 0.2676585\ttotal: 31m 2s\tremaining: 21m 23s\n",
      "592: learn: 0.2676507\ttotal: 31m 4s\tremaining: 21m 19s\n",
      "593: learn: 0.2676463\ttotal: 31m 7s\tremaining: 21m 16s\n",
      "594: learn: 0.2676371\ttotal: 31m 10s\tremaining: 21m 13s\n",
      "595: learn: 0.2676361\ttotal: 31m 14s\tremaining: 21m 10s\n",
      "596: learn: 0.2676331\ttotal: 31m 17s\tremaining: 21m 7s\n",
      "597: learn: 0.267629\ttotal: 31m 20s\tremaining: 21m 4s\n"
     ]
    },
    {
     "name": "stdout",
     "output_type": "stream",
     "text": [
      "598: learn: 0.2676233\ttotal: 31m 23s\tremaining: 21m 1s\n",
      "599: learn: 0.2676207\ttotal: 31m 27s\tremaining: 20m 58s\n",
      "600: learn: 0.2676126\ttotal: 31m 30s\tremaining: 20m 54s\n",
      "601: learn: 0.2676041\ttotal: 31m 33s\tremaining: 20m 51s\n",
      "602: learn: 0.2676014\ttotal: 31m 37s\tremaining: 20m 49s\n",
      "603: learn: 0.2675886\ttotal: 31m 41s\tremaining: 20m 46s\n",
      "604: learn: 0.2675877\ttotal: 31m 44s\tremaining: 20m 43s\n",
      "605: learn: 0.2675875\ttotal: 31m 47s\tremaining: 20m 40s\n",
      "606: learn: 0.2675807\ttotal: 31m 50s\tremaining: 20m 36s\n",
      "607: learn: 0.2675804\ttotal: 31m 53s\tremaining: 20m 33s\n",
      "608: learn: 0.2675792\ttotal: 31m 56s\tremaining: 20m 30s\n",
      "609: learn: 0.2675788\ttotal: 31m 59s\tremaining: 20m 27s\n",
      "610: learn: 0.2675785\ttotal: 32m 3s\tremaining: 20m 24s\n",
      "611: learn: 0.2675727\ttotal: 32m 6s\tremaining: 20m 21s\n",
      "612: learn: 0.2675715\ttotal: 32m 9s\tremaining: 20m 18s\n",
      "613: learn: 0.267567\ttotal: 32m 13s\tremaining: 20m 15s\n",
      "614: learn: 0.2675622\ttotal: 32m 17s\tremaining: 20m 12s\n",
      "615: learn: 0.2675607\ttotal: 32m 20s\tremaining: 20m 9s\n",
      "616: learn: 0.2675607\ttotal: 32m 22s\tremaining: 20m 5s\n",
      "617: learn: 0.2675606\ttotal: 32m 25s\tremaining: 20m 2s\n",
      "618: learn: 0.2675572\ttotal: 32m 28s\tremaining: 19m 59s\n",
      "619: learn: 0.2675504\ttotal: 32m 31s\tremaining: 19m 56s\n",
      "620: learn: 0.2675498\ttotal: 32m 34s\tremaining: 19m 52s\n",
      "621: learn: 0.2675406\ttotal: 32m 38s\tremaining: 19m 50s\n",
      "622: learn: 0.2675369\ttotal: 32m 41s\tremaining: 19m 46s\n",
      "623: learn: 0.26753\ttotal: 32m 44s\tremaining: 19m 43s\n",
      "624: learn: 0.2675265\ttotal: 32m 47s\tremaining: 19m 40s\n",
      "625: learn: 0.2675263\ttotal: 32m 50s\tremaining: 19m 37s\n",
      "626: learn: 0.2675246\ttotal: 32m 54s\tremaining: 19m 34s\n",
      "627: learn: 0.267522\ttotal: 32m 58s\tremaining: 19m 31s\n",
      "628: learn: 0.2675159\ttotal: 33m 2s\tremaining: 19m 29s\n",
      "629: learn: 0.2675105\ttotal: 33m 5s\tremaining: 19m 26s\n",
      "630: learn: 0.2675092\ttotal: 33m 8s\tremaining: 19m 22s\n",
      "631: learn: 0.2675048\ttotal: 33m 11s\tremaining: 19m 19s\n",
      "632: learn: 0.2675037\ttotal: 33m 15s\tremaining: 19m 16s\n",
      "633: learn: 0.2675033\ttotal: 33m 18s\tremaining: 19m 13s\n",
      "634: learn: 0.2675023\ttotal: 33m 21s\tremaining: 19m 10s\n",
      "635: learn: 0.2674983\ttotal: 33m 24s\tremaining: 19m 7s\n",
      "636: learn: 0.2674967\ttotal: 33m 27s\tremaining: 19m 3s\n",
      "637: learn: 0.2674933\ttotal: 33m 30s\tremaining: 19m\n",
      "638: learn: 0.2674921\ttotal: 33m 33s\tremaining: 18m 57s\n",
      "639: learn: 0.2674909\ttotal: 33m 36s\tremaining: 18m 54s\n",
      "640: learn: 0.2674863\ttotal: 33m 40s\tremaining: 18m 51s\n",
      "641: learn: 0.2674824\ttotal: 33m 43s\tremaining: 18m 48s\n",
      "642: learn: 0.2674818\ttotal: 33m 46s\tremaining: 18m 45s\n",
      "643: learn: 0.2674778\ttotal: 33m 49s\tremaining: 18m 41s\n",
      "644: learn: 0.2674777\ttotal: 33m 52s\tremaining: 18m 38s\n",
      "645: learn: 0.2674777\ttotal: 33m 55s\tremaining: 18m 35s\n",
      "646: learn: 0.2674695\ttotal: 33m 58s\tremaining: 18m 32s\n",
      "647: learn: 0.267462\ttotal: 34m 1s\tremaining: 18m 28s\n",
      "648: learn: 0.2674618\ttotal: 34m 3s\tremaining: 18m 25s\n",
      "649: learn: 0.2674533\ttotal: 34m 6s\tremaining: 18m 22s\n",
      "650: learn: 0.2674526\ttotal: 34m 9s\tremaining: 18m 18s\n",
      "651: learn: 0.2674516\ttotal: 34m 11s\tremaining: 18m 15s\n",
      "652: learn: 0.2674458\ttotal: 34m 14s\tremaining: 18m 11s\n",
      "653: learn: 0.2674422\ttotal: 34m 18s\tremaining: 18m 9s\n",
      "654: learn: 0.2674328\ttotal: 34m 21s\tremaining: 18m 6s\n",
      "655: learn: 0.2674221\ttotal: 34m 25s\tremaining: 18m 3s\n",
      "656: learn: 0.2674198\ttotal: 34m 29s\tremaining: 18m\n",
      "657: learn: 0.2674175\ttotal: 34m 33s\tremaining: 17m 57s\n",
      "658: learn: 0.267417\ttotal: 34m 37s\tremaining: 17m 55s\n",
      "659: learn: 0.2674166\ttotal: 34m 41s\tremaining: 17m 52s\n",
      "660: learn: 0.267411\ttotal: 34m 44s\tremaining: 17m 48s\n",
      "661: learn: 0.267406\ttotal: 34m 47s\tremaining: 17m 45s\n",
      "662: learn: 0.2674028\ttotal: 34m 50s\tremaining: 17m 42s\n",
      "663: learn: 0.2674003\ttotal: 34m 53s\tremaining: 17m 39s\n",
      "664: learn: 0.267396\ttotal: 34m 56s\tremaining: 17m 36s\n",
      "665: learn: 0.2673918\ttotal: 35m\tremaining: 17m 33s\n",
      "666: learn: 0.2673844\ttotal: 35m 4s\tremaining: 17m 30s\n",
      "667: learn: 0.2673839\ttotal: 35m 7s\tremaining: 17m 27s\n",
      "668: learn: 0.2673749\ttotal: 35m 11s\tremaining: 17m 24s\n",
      "669: learn: 0.2673746\ttotal: 35m 14s\tremaining: 17m 21s\n",
      "670: learn: 0.267371\ttotal: 35m 17s\tremaining: 17m 18s\n",
      "671: learn: 0.2673632\ttotal: 35m 20s\tremaining: 17m 15s\n",
      "672: learn: 0.2673576\ttotal: 35m 23s\tremaining: 17m 11s\n",
      "673: learn: 0.2673498\ttotal: 35m 26s\tremaining: 17m 8s\n",
      "674: learn: 0.2673427\ttotal: 35m 29s\tremaining: 17m 5s\n",
      "675: learn: 0.2673421\ttotal: 35m 32s\tremaining: 17m 2s\n",
      "676: learn: 0.2673367\ttotal: 35m 36s\tremaining: 16m 59s\n",
      "677: learn: 0.2673316\ttotal: 35m 39s\tremaining: 16m 55s\n",
      "678: learn: 0.2673244\ttotal: 35m 42s\tremaining: 16m 52s\n",
      "679: learn: 0.2673215\ttotal: 35m 45s\tremaining: 16m 49s\n",
      "680: learn: 0.2673173\ttotal: 35m 48s\tremaining: 16m 46s\n",
      "681: learn: 0.2673113\ttotal: 35m 52s\tremaining: 16m 43s\n",
      "682: learn: 0.267311\ttotal: 35m 56s\tremaining: 16m 40s\n",
      "683: learn: 0.2672992\ttotal: 35m 59s\tremaining: 16m 37s\n",
      "684: learn: 0.2672973\ttotal: 36m 3s\tremaining: 16m 34s\n",
      "685: learn: 0.2672878\ttotal: 36m 5s\tremaining: 16m 31s\n",
      "686: learn: 0.2672868\ttotal: 36m 8s\tremaining: 16m 28s\n",
      "687: learn: 0.267281\ttotal: 36m 12s\tremaining: 16m 25s\n",
      "688: learn: 0.2672795\ttotal: 36m 14s\tremaining: 16m 21s\n",
      "689: learn: 0.2672746\ttotal: 36m 18s\tremaining: 16m 18s\n",
      "690: learn: 0.2672645\ttotal: 36m 21s\tremaining: 16m 15s\n",
      "691: learn: 0.2672641\ttotal: 36m 24s\tremaining: 16m 12s\n",
      "692: learn: 0.2672588\ttotal: 36m 27s\tremaining: 16m 9s\n",
      "693: learn: 0.2672587\ttotal: 36m 30s\tremaining: 16m 5s\n",
      "694: learn: 0.267258\ttotal: 36m 33s\tremaining: 16m 2s\n",
      "695: learn: 0.2672576\ttotal: 36m 36s\tremaining: 15m 59s\n",
      "696: learn: 0.2672573\ttotal: 36m 39s\tremaining: 15m 56s\n",
      "697: learn: 0.2672573\ttotal: 36m 41s\tremaining: 15m 52s\n",
      "698: learn: 0.2672528\ttotal: 36m 44s\tremaining: 15m 49s\n",
      "699: learn: 0.2672528\ttotal: 36m 46s\tremaining: 15m 45s\n",
      "700: learn: 0.2672528\ttotal: 36m 50s\tremaining: 15m 42s\n",
      "701: learn: 0.2672486\ttotal: 36m 53s\tremaining: 15m 39s\n",
      "702: learn: 0.2672444\ttotal: 36m 56s\tremaining: 15m 36s\n",
      "703: learn: 0.2672432\ttotal: 36m 59s\tremaining: 15m 33s\n",
      "704: learn: 0.2672411\ttotal: 37m 2s\tremaining: 15m 30s\n",
      "705: learn: 0.2672372\ttotal: 37m 5s\tremaining: 15m 26s\n",
      "706: learn: 0.2672369\ttotal: 37m 8s\tremaining: 15m 23s\n",
      "707: learn: 0.2672304\ttotal: 37m 12s\tremaining: 15m 20s\n",
      "708: learn: 0.2672298\ttotal: 37m 14s\tremaining: 15m 17s\n",
      "709: learn: 0.2672277\ttotal: 37m 18s\tremaining: 15m 14s\n",
      "710: learn: 0.2672277\ttotal: 37m 20s\tremaining: 15m 10s\n",
      "711: learn: 0.2672277\ttotal: 37m 22s\tremaining: 15m 7s\n",
      "712: learn: 0.2672259\ttotal: 37m 25s\tremaining: 15m 3s\n",
      "713: learn: 0.267219\ttotal: 37m 27s\tremaining: 15m\n",
      "714: learn: 0.2672189\ttotal: 37m 30s\tremaining: 14m 57s\n",
      "715: learn: 0.2672168\ttotal: 37m 33s\tremaining: 14m 53s\n",
      "716: learn: 0.2672133\ttotal: 37m 35s\tremaining: 14m 50s\n",
      "717: learn: 0.2672092\ttotal: 37m 38s\tremaining: 14m 47s\n",
      "718: learn: 0.2672048\ttotal: 37m 42s\tremaining: 14m 44s\n",
      "719: learn: 0.2671929\ttotal: 37m 45s\tremaining: 14m 41s\n",
      "720: learn: 0.2671894\ttotal: 37m 48s\tremaining: 14m 37s\n",
      "721: learn: 0.2671859\ttotal: 37m 51s\tremaining: 14m 34s\n",
      "722: learn: 0.2671811\ttotal: 37m 54s\tremaining: 14m 31s\n",
      "723: learn: 0.267177\ttotal: 37m 58s\tremaining: 14m 28s\n",
      "724: learn: 0.2671762\ttotal: 38m 1s\tremaining: 14m 25s\n",
      "725: learn: 0.2671741\ttotal: 38m 6s\tremaining: 14m 22s\n",
      "726: learn: 0.2671739\ttotal: 38m 10s\tremaining: 14m 20s\n",
      "727: learn: 0.2671692\ttotal: 38m 14s\tremaining: 14m 17s\n",
      "728: learn: 0.2671587\ttotal: 38m 17s\tremaining: 14m 14s\n",
      "729: learn: 0.2671572\ttotal: 38m 21s\tremaining: 14m 11s\n",
      "730: learn: 0.2671516\ttotal: 38m 25s\tremaining: 14m 8s\n",
      "731: learn: 0.2671448\ttotal: 38m 28s\tremaining: 14m 5s\n",
      "732: learn: 0.2671357\ttotal: 38m 32s\tremaining: 14m 2s\n",
      "733: learn: 0.2671294\ttotal: 38m 35s\tremaining: 13m 59s\n",
      "734: learn: 0.2671275\ttotal: 38m 39s\tremaining: 13m 56s\n",
      "735: learn: 0.2671254\ttotal: 38m 44s\tremaining: 13m 53s\n",
      "736: learn: 0.2671192\ttotal: 38m 49s\tremaining: 13m 51s\n",
      "737: learn: 0.2671177\ttotal: 38m 53s\tremaining: 13m 48s\n",
      "738: learn: 0.2671175\ttotal: 38m 56s\tremaining: 13m 45s\n",
      "739: learn: 0.2671169\ttotal: 39m\tremaining: 13m 42s\n",
      "740: learn: 0.2671144\ttotal: 39m 5s\tremaining: 13m 39s\n",
      "741: learn: 0.2671118\ttotal: 39m 8s\tremaining: 13m 36s\n",
      "742: learn: 0.2671098\ttotal: 39m 11s\tremaining: 13m 33s\n",
      "743: learn: 0.2671043\ttotal: 39m 14s\tremaining: 13m 30s\n",
      "744: learn: 0.2671014\ttotal: 39m 17s\tremaining: 13m 26s\n",
      "745: learn: 0.2670934\ttotal: 39m 20s\tremaining: 13m 23s\n"
     ]
    },
    {
     "name": "stdout",
     "output_type": "stream",
     "text": [
      "746: learn: 0.2670934\ttotal: 39m 22s\tremaining: 13m 20s\n",
      "747: learn: 0.267092\ttotal: 39m 26s\tremaining: 13m 17s\n",
      "748: learn: 0.2670876\ttotal: 39m 30s\tremaining: 13m 14s\n",
      "749: learn: 0.2670836\ttotal: 39m 34s\tremaining: 13m 11s\n",
      "750: learn: 0.2670833\ttotal: 39m 38s\tremaining: 13m 8s\n",
      "751: learn: 0.2670815\ttotal: 39m 42s\tremaining: 13m 5s\n",
      "752: learn: 0.2670742\ttotal: 39m 47s\tremaining: 13m 3s\n",
      "753: learn: 0.2670716\ttotal: 39m 53s\tremaining: 13m\n",
      "754: learn: 0.2670649\ttotal: 39m 57s\tremaining: 12m 57s\n",
      "755: learn: 0.2670603\ttotal: 40m 1s\tremaining: 12m 55s\n",
      "756: learn: 0.267059\ttotal: 40m 6s\tremaining: 12m 52s\n",
      "757: learn: 0.2670589\ttotal: 40m 10s\tremaining: 12m 49s\n",
      "758: learn: 0.2670573\ttotal: 40m 14s\tremaining: 12m 46s\n",
      "759: learn: 0.2670566\ttotal: 40m 19s\tremaining: 12m 44s\n",
      "760: learn: 0.2670555\ttotal: 40m 24s\tremaining: 12m 41s\n",
      "761: learn: 0.2670535\ttotal: 40m 29s\tremaining: 12m 38s\n",
      "762: learn: 0.2670533\ttotal: 40m 33s\tremaining: 12m 35s\n",
      "763: learn: 0.2670522\ttotal: 40m 36s\tremaining: 12m 32s\n",
      "764: learn: 0.267052\ttotal: 40m 40s\tremaining: 12m 29s\n",
      "765: learn: 0.2670462\ttotal: 40m 45s\tremaining: 12m 26s\n",
      "766: learn: 0.2670462\ttotal: 40m 49s\tremaining: 12m 24s\n",
      "767: learn: 0.2670457\ttotal: 40m 53s\tremaining: 12m 21s\n",
      "768: learn: 0.2670449\ttotal: 40m 57s\tremaining: 12m 18s\n",
      "769: learn: 0.2670446\ttotal: 41m 2s\tremaining: 12m 15s\n",
      "770: learn: 0.2670434\ttotal: 41m 6s\tremaining: 12m 12s\n",
      "771: learn: 0.2670383\ttotal: 41m 10s\tremaining: 12m 9s\n",
      "772: learn: 0.2670373\ttotal: 41m 15s\tremaining: 12m 6s\n",
      "773: learn: 0.2670346\ttotal: 41m 21s\tremaining: 12m 4s\n",
      "774: learn: 0.2670311\ttotal: 41m 25s\tremaining: 12m 1s\n",
      "775: learn: 0.2670296\ttotal: 41m 30s\tremaining: 11m 58s\n",
      "776: learn: 0.2670294\ttotal: 41m 33s\tremaining: 11m 55s\n",
      "777: learn: 0.2670224\ttotal: 41m 37s\tremaining: 11m 52s\n",
      "778: learn: 0.2670188\ttotal: 41m 42s\tremaining: 11m 49s\n",
      "779: learn: 0.2670158\ttotal: 41m 45s\tremaining: 11m 46s\n",
      "780: learn: 0.2670151\ttotal: 41m 48s\tremaining: 11m 43s\n",
      "781: learn: 0.2670148\ttotal: 41m 52s\tremaining: 11m 40s\n",
      "782: learn: 0.2670116\ttotal: 41m 55s\tremaining: 11m 37s\n",
      "783: learn: 0.2670081\ttotal: 42m 1s\tremaining: 11m 34s\n",
      "784: learn: 0.2670076\ttotal: 42m 5s\tremaining: 11m 31s\n",
      "785: learn: 0.2670048\ttotal: 42m 9s\tremaining: 11m 28s\n",
      "786: learn: 0.2670035\ttotal: 42m 13s\tremaining: 11m 25s\n",
      "787: learn: 0.2670019\ttotal: 42m 17s\tremaining: 11m 22s\n",
      "788: learn: 0.2669989\ttotal: 42m 21s\tremaining: 11m 19s\n",
      "789: learn: 0.2669987\ttotal: 42m 24s\tremaining: 11m 16s\n",
      "790: learn: 0.266997\ttotal: 42m 28s\tremaining: 11m 13s\n",
      "791: learn: 0.266997\ttotal: 42m 32s\tremaining: 11m 10s\n",
      "792: learn: 0.2669913\ttotal: 42m 36s\tremaining: 11m 7s\n",
      "793: learn: 0.2669888\ttotal: 42m 40s\tremaining: 11m 4s\n",
      "794: learn: 0.2669826\ttotal: 42m 45s\tremaining: 11m 1s\n",
      "795: learn: 0.2669812\ttotal: 42m 49s\tremaining: 10m 58s\n",
      "796: learn: 0.2669812\ttotal: 42m 52s\tremaining: 10m 55s\n",
      "797: learn: 0.2669713\ttotal: 42m 56s\tremaining: 10m 52s\n",
      "798: learn: 0.2669672\ttotal: 42m 59s\tremaining: 10m 48s\n",
      "799: learn: 0.2669668\ttotal: 43m 2s\tremaining: 10m 45s\n",
      "800: learn: 0.2669633\ttotal: 43m 6s\tremaining: 10m 42s\n",
      "801: learn: 0.2669623\ttotal: 43m 13s\tremaining: 10m 40s\n",
      "802: learn: 0.2669604\ttotal: 43m 19s\tremaining: 10m 37s\n",
      "803: learn: 0.2669585\ttotal: 43m 23s\tremaining: 10m 34s\n",
      "804: learn: 0.266942\ttotal: 43m 28s\tremaining: 10m 31s\n",
      "805: learn: 0.2669408\ttotal: 43m 32s\tremaining: 10m 28s\n",
      "806: learn: 0.2669384\ttotal: 43m 37s\tremaining: 10m 25s\n",
      "807: learn: 0.2669382\ttotal: 43m 41s\tremaining: 10m 22s\n",
      "808: learn: 0.2669312\ttotal: 43m 44s\tremaining: 10m 19s\n",
      "809: learn: 0.2669226\ttotal: 43m 47s\tremaining: 10m 16s\n",
      "810: learn: 0.2669173\ttotal: 43m 50s\tremaining: 10m 12s\n",
      "811: learn: 0.266917\ttotal: 43m 53s\tremaining: 10m 9s\n",
      "812: learn: 0.2669118\ttotal: 43m 57s\tremaining: 10m 6s\n",
      "813: learn: 0.2669106\ttotal: 44m 2s\tremaining: 10m 3s\n",
      "814: learn: 0.2669049\ttotal: 44m 8s\tremaining: 10m 1s\n",
      "815: learn: 0.2668989\ttotal: 44m 13s\tremaining: 9m 58s\n",
      "816: learn: 0.2668961\ttotal: 44m 16s\tremaining: 9m 55s\n",
      "817: learn: 0.266893\ttotal: 44m 21s\tremaining: 9m 52s\n",
      "818: learn: 0.2668822\ttotal: 44m 25s\tremaining: 9m 49s\n",
      "819: learn: 0.2668821\ttotal: 44m 29s\tremaining: 9m 45s\n",
      "820: learn: 0.2668794\ttotal: 44m 32s\tremaining: 9m 42s\n",
      "821: learn: 0.2668774\ttotal: 44m 36s\tremaining: 9m 39s\n",
      "822: learn: 0.2668767\ttotal: 44m 41s\tremaining: 9m 36s\n",
      "823: learn: 0.2668753\ttotal: 44m 45s\tremaining: 9m 33s\n",
      "824: learn: 0.2668727\ttotal: 44m 50s\tremaining: 9m 30s\n",
      "825: learn: 0.2668717\ttotal: 44m 54s\tremaining: 9m 27s\n",
      "826: learn: 0.2668704\ttotal: 44m 58s\tremaining: 9m 24s\n",
      "827: learn: 0.2668576\ttotal: 45m 2s\tremaining: 9m 21s\n",
      "828: learn: 0.2668576\ttotal: 45m 6s\tremaining: 9m 18s\n",
      "829: learn: 0.2668559\ttotal: 45m 10s\tremaining: 9m 15s\n",
      "830: learn: 0.2668543\ttotal: 45m 13s\tremaining: 9m 11s\n",
      "831: learn: 0.266849\ttotal: 45m 17s\tremaining: 9m 8s\n",
      "832: learn: 0.2668479\ttotal: 45m 21s\tremaining: 9m 5s\n",
      "833: learn: 0.2668452\ttotal: 45m 25s\tremaining: 9m 2s\n",
      "834: learn: 0.2668451\ttotal: 45m 29s\tremaining: 8m 59s\n",
      "835: learn: 0.2668374\ttotal: 45m 32s\tremaining: 8m 56s\n",
      "836: learn: 0.2668312\ttotal: 45m 35s\tremaining: 8m 52s\n",
      "837: learn: 0.2668294\ttotal: 45m 39s\tremaining: 8m 49s\n",
      "838: learn: 0.2668233\ttotal: 45m 44s\tremaining: 8m 46s\n",
      "839: learn: 0.2668192\ttotal: 45m 49s\tremaining: 8m 43s\n",
      "840: learn: 0.2668167\ttotal: 45m 53s\tremaining: 8m 40s\n",
      "841: learn: 0.2668165\ttotal: 45m 57s\tremaining: 8m 37s\n",
      "842: learn: 0.2668164\ttotal: 46m 1s\tremaining: 8m 34s\n",
      "843: learn: 0.2668087\ttotal: 46m 5s\tremaining: 8m 31s\n",
      "844: learn: 0.2668068\ttotal: 46m 8s\tremaining: 8m 27s\n",
      "845: learn: 0.266806\ttotal: 46m 12s\tremaining: 8m 24s\n",
      "846: learn: 0.266805\ttotal: 46m 15s\tremaining: 8m 21s\n",
      "847: learn: 0.2667985\ttotal: 46m 19s\tremaining: 8m 18s\n",
      "848: learn: 0.2667956\ttotal: 46m 22s\tremaining: 8m 14s\n",
      "849: learn: 0.266794\ttotal: 46m 25s\tremaining: 8m 11s\n",
      "850: learn: 0.2667911\ttotal: 46m 29s\tremaining: 8m 8s\n",
      "851: learn: 0.2667909\ttotal: 46m 33s\tremaining: 8m 5s\n",
      "852: learn: 0.2667865\ttotal: 46m 37s\tremaining: 8m 2s\n",
      "853: learn: 0.2667828\ttotal: 46m 41s\tremaining: 7m 58s\n",
      "854: learn: 0.2667803\ttotal: 46m 45s\tremaining: 7m 55s\n",
      "855: learn: 0.2667736\ttotal: 46m 48s\tremaining: 7m 52s\n",
      "856: learn: 0.2667693\ttotal: 46m 51s\tremaining: 7m 49s\n",
      "857: learn: 0.2667665\ttotal: 46m 55s\tremaining: 7m 45s\n",
      "858: learn: 0.2667622\ttotal: 46m 59s\tremaining: 7m 42s\n",
      "859: learn: 0.2667586\ttotal: 47m 3s\tremaining: 7m 39s\n",
      "860: learn: 0.2667573\ttotal: 47m 7s\tremaining: 7m 36s\n",
      "861: learn: 0.2667568\ttotal: 47m 12s\tremaining: 7m 33s\n",
      "862: learn: 0.2667567\ttotal: 47m 18s\tremaining: 7m 30s\n",
      "863: learn: 0.2667521\ttotal: 47m 25s\tremaining: 7m 27s\n",
      "864: learn: 0.2667516\ttotal: 47m 31s\tremaining: 7m 25s\n",
      "865: learn: 0.2667478\ttotal: 47m 37s\tremaining: 7m 22s\n",
      "866: learn: 0.2667455\ttotal: 47m 41s\tremaining: 7m 18s\n",
      "867: learn: 0.2667439\ttotal: 47m 44s\tremaining: 7m 15s\n",
      "868: learn: 0.2667438\ttotal: 47m 51s\tremaining: 7m 12s\n",
      "869: learn: 0.2667437\ttotal: 47m 57s\tremaining: 7m 9s\n",
      "870: learn: 0.2667401\ttotal: 48m 4s\tremaining: 7m 7s\n",
      "871: learn: 0.2667393\ttotal: 48m 15s\tremaining: 7m 4s\n",
      "872: learn: 0.2667387\ttotal: 48m 23s\tremaining: 7m 2s\n",
      "873: learn: 0.2667365\ttotal: 48m 28s\tremaining: 6m 59s\n",
      "874: learn: 0.2667344\ttotal: 48m 33s\tremaining: 6m 56s\n",
      "875: learn: 0.266734\ttotal: 48m 38s\tremaining: 6m 53s\n",
      "876: learn: 0.2667307\ttotal: 48m 47s\tremaining: 6m 50s\n",
      "877: learn: 0.2667199\ttotal: 48m 54s\tremaining: 6m 47s\n",
      "878: learn: 0.2667187\ttotal: 48m 58s\tremaining: 6m 44s\n",
      "879: learn: 0.2667156\ttotal: 49m 4s\tremaining: 6m 41s\n",
      "880: learn: 0.2667138\ttotal: 49m 9s\tremaining: 6m 38s\n",
      "881: learn: 0.2667105\ttotal: 49m 12s\tremaining: 6m 34s\n",
      "882: learn: 0.2667097\ttotal: 49m 16s\tremaining: 6m 31s\n",
      "883: learn: 0.2667086\ttotal: 49m 19s\tremaining: 6m 28s\n",
      "884: learn: 0.2667085\ttotal: 49m 22s\tremaining: 6m 24s\n",
      "885: learn: 0.2667047\ttotal: 49m 27s\tremaining: 6m 21s\n",
      "886: learn: 0.2667031\ttotal: 49m 33s\tremaining: 6m 18s\n",
      "887: learn: 0.2666985\ttotal: 49m 37s\tremaining: 6m 15s\n",
      "888: learn: 0.2666936\ttotal: 49m 41s\tremaining: 6m 12s\n",
      "889: learn: 0.2666926\ttotal: 49m 45s\tremaining: 6m 9s\n",
      "890: learn: 0.2666926\ttotal: 49m 49s\tremaining: 6m 5s\n",
      "891: learn: 0.2666917\ttotal: 49m 53s\tremaining: 6m 2s\n",
      "892: learn: 0.266686\ttotal: 49m 58s\tremaining: 5m 59s\n",
      "893: learn: 0.266686\ttotal: 50m 1s\tremaining: 5m 55s\n",
      "894: learn: 0.2666849\ttotal: 50m 5s\tremaining: 5m 52s\n"
     ]
    },
    {
     "name": "stdout",
     "output_type": "stream",
     "text": [
      "895: learn: 0.2666833\ttotal: 50m 8s\tremaining: 5m 49s\n",
      "896: learn: 0.2666806\ttotal: 50m 11s\tremaining: 5m 45s\n",
      "897: learn: 0.2666796\ttotal: 50m 15s\tremaining: 5m 42s\n",
      "898: learn: 0.2666796\ttotal: 50m 16s\tremaining: 5m 38s\n",
      "899: learn: 0.2666795\ttotal: 50m 19s\tremaining: 5m 35s\n",
      "900: learn: 0.2666793\ttotal: 50m 23s\tremaining: 5m 32s\n",
      "901: learn: 0.2666739\ttotal: 50m 26s\tremaining: 5m 28s\n",
      "902: learn: 0.266673\ttotal: 50m 30s\tremaining: 5m 25s\n",
      "903: learn: 0.2666716\ttotal: 50m 34s\tremaining: 5m 22s\n",
      "904: learn: 0.2666676\ttotal: 50m 37s\tremaining: 5m 18s\n",
      "905: learn: 0.2666623\ttotal: 50m 41s\tremaining: 5m 15s\n",
      "906: learn: 0.2666586\ttotal: 50m 45s\tremaining: 5m 12s\n",
      "907: learn: 0.2666571\ttotal: 50m 49s\tremaining: 5m 8s\n",
      "908: learn: 0.2666571\ttotal: 50m 52s\tremaining: 5m 5s\n",
      "909: learn: 0.2666558\ttotal: 50m 55s\tremaining: 5m 2s\n",
      "910: learn: 0.2666488\ttotal: 50m 58s\tremaining: 4m 58s\n",
      "911: learn: 0.2666481\ttotal: 51m 1s\tremaining: 4m 55s\n",
      "912: learn: 0.266647\ttotal: 51m 4s\tremaining: 4m 52s\n",
      "913: learn: 0.2666443\ttotal: 51m 8s\tremaining: 4m 48s\n",
      "914: learn: 0.2666442\ttotal: 51m 11s\tremaining: 4m 45s\n",
      "915: learn: 0.2666427\ttotal: 51m 15s\tremaining: 4m 42s\n",
      "916: learn: 0.2666419\ttotal: 51m 21s\tremaining: 4m 38s\n",
      "917: learn: 0.2666419\ttotal: 51m 26s\tremaining: 4m 35s\n",
      "918: learn: 0.2666419\ttotal: 51m 30s\tremaining: 4m 32s\n",
      "919: learn: 0.2666409\ttotal: 51m 34s\tremaining: 4m 29s\n",
      "920: learn: 0.2666379\ttotal: 51m 38s\tremaining: 4m 25s\n",
      "921: learn: 0.2666372\ttotal: 51m 42s\tremaining: 4m 22s\n",
      "922: learn: 0.2666369\ttotal: 51m 48s\tremaining: 4m 19s\n",
      "923: learn: 0.266636\ttotal: 51m 52s\tremaining: 4m 16s\n",
      "924: learn: 0.2666356\ttotal: 51m 56s\tremaining: 4m 12s\n",
      "925: learn: 0.2666339\ttotal: 52m\tremaining: 4m 9s\n",
      "926: learn: 0.2666333\ttotal: 52m 3s\tremaining: 4m 6s\n",
      "927: learn: 0.2666304\ttotal: 52m 8s\tremaining: 4m 2s\n",
      "928: learn: 0.2666298\ttotal: 52m 13s\tremaining: 3m 59s\n",
      "929: learn: 0.2666298\ttotal: 52m 19s\tremaining: 3m 56s\n",
      "930: learn: 0.2666271\ttotal: 52m 25s\tremaining: 3m 53s\n",
      "931: learn: 0.2666142\ttotal: 52m 29s\tremaining: 3m 49s\n",
      "932: learn: 0.2666092\ttotal: 52m 34s\tremaining: 3m 46s\n",
      "933: learn: 0.2666089\ttotal: 52m 37s\tremaining: 3m 43s\n",
      "934: learn: 0.2666083\ttotal: 52m 41s\tremaining: 3m 39s\n",
      "935: learn: 0.2666083\ttotal: 52m 45s\tremaining: 3m 36s\n",
      "936: learn: 0.2666041\ttotal: 52m 48s\tremaining: 3m 33s\n",
      "937: learn: 0.2666037\ttotal: 52m 52s\tremaining: 3m 29s\n",
      "938: learn: 0.2666032\ttotal: 52m 55s\tremaining: 3m 26s\n",
      "939: learn: 0.2666006\ttotal: 53m\tremaining: 3m 22s\n",
      "940: learn: 0.2666003\ttotal: 53m 3s\tremaining: 3m 19s\n",
      "941: learn: 0.2665993\ttotal: 53m 7s\tremaining: 3m 16s\n",
      "942: learn: 0.266599\ttotal: 53m 11s\tremaining: 3m 12s\n",
      "943: learn: 0.2665984\ttotal: 53m 15s\tremaining: 3m 9s\n",
      "944: learn: 0.2665951\ttotal: 53m 20s\tremaining: 3m 6s\n",
      "945: learn: 0.2665938\ttotal: 53m 26s\tremaining: 3m 3s\n",
      "946: learn: 0.2665917\ttotal: 53m 31s\tremaining: 2m 59s\n",
      "947: learn: 0.2665875\ttotal: 53m 38s\tremaining: 2m 56s\n",
      "948: learn: 0.2665869\ttotal: 53m 43s\tremaining: 2m 53s\n",
      "949: learn: 0.2665868\ttotal: 53m 49s\tremaining: 2m 49s\n",
      "950: learn: 0.2665863\ttotal: 53m 55s\tremaining: 2m 46s\n",
      "951: learn: 0.266586\ttotal: 54m 3s\tremaining: 2m 43s\n",
      "952: learn: 0.2665858\ttotal: 54m 9s\tremaining: 2m 40s\n",
      "953: learn: 0.2665857\ttotal: 54m 15s\tremaining: 2m 36s\n",
      "954: learn: 0.2665845\ttotal: 54m 20s\tremaining: 2m 33s\n",
      "955: learn: 0.2665833\ttotal: 54m 24s\tremaining: 2m 30s\n",
      "956: learn: 0.2665832\ttotal: 54m 28s\tremaining: 2m 26s\n",
      "957: learn: 0.2665832\ttotal: 54m 31s\tremaining: 2m 23s\n",
      "958: learn: 0.2665832\ttotal: 54m 35s\tremaining: 2m 20s\n",
      "959: learn: 0.2665814\ttotal: 54m 39s\tremaining: 2m 16s\n",
      "960: learn: 0.2665813\ttotal: 54m 44s\tremaining: 2m 13s\n",
      "961: learn: 0.2665801\ttotal: 54m 48s\tremaining: 2m 9s\n",
      "962: learn: 0.2665762\ttotal: 54m 52s\tremaining: 2m 6s\n",
      "963: learn: 0.2665759\ttotal: 54m 57s\tremaining: 2m 3s\n",
      "964: learn: 0.2665758\ttotal: 55m 4s\tremaining: 1m 59s\n",
      "965: learn: 0.2665758\ttotal: 55m 9s\tremaining: 1m 56s\n",
      "966: learn: 0.2665758\ttotal: 55m 14s\tremaining: 1m 53s\n",
      "967: learn: 0.2665758\ttotal: 55m 20s\tremaining: 1m 49s\n",
      "968: learn: 0.2665744\ttotal: 55m 27s\tremaining: 1m 46s\n",
      "969: learn: 0.2665744\ttotal: 55m 33s\tremaining: 1m 43s\n",
      "970: learn: 0.2665744\ttotal: 55m 41s\tremaining: 1m 39s\n",
      "971: learn: 0.2665744\ttotal: 55m 50s\tremaining: 1m 36s\n",
      "972: learn: 0.2665735\ttotal: 56m 2s\tremaining: 1m 33s\n",
      "973: learn: 0.2665681\ttotal: 56m 12s\tremaining: 1m 30s\n",
      "974: learn: 0.266568\ttotal: 56m 17s\tremaining: 1m 26s\n",
      "975: learn: 0.2665658\ttotal: 56m 23s\tremaining: 1m 23s\n",
      "976: learn: 0.2665645\ttotal: 56m 29s\tremaining: 1m 19s\n",
      "977: learn: 0.2665642\ttotal: 56m 35s\tremaining: 1m 16s\n",
      "978: learn: 0.2665612\ttotal: 56m 39s\tremaining: 1m 12s\n",
      "979: learn: 0.266561\ttotal: 56m 44s\tremaining: 1m 9s\n",
      "980: learn: 0.266559\ttotal: 56m 48s\tremaining: 1m 6s\n",
      "981: learn: 0.2665588\ttotal: 56m 52s\tremaining: 1m 2s\n",
      "982: learn: 0.2665588\ttotal: 56m 54s\tremaining: 59.1s\n",
      "983: learn: 0.2665574\ttotal: 56m 58s\tremaining: 55.6s\n",
      "984: learn: 0.2665574\ttotal: 57m 1s\tremaining: 52.1s\n",
      "985: learn: 0.2665574\ttotal: 57m 5s\tremaining: 48.6s\n",
      "986: learn: 0.2665537\ttotal: 57m 10s\tremaining: 45.2s\n",
      "987: learn: 0.2665529\ttotal: 57m 15s\tremaining: 41.7s\n",
      "988: learn: 0.2665529\ttotal: 57m 18s\tremaining: 38.2s\n",
      "989: learn: 0.2665524\ttotal: 57m 24s\tremaining: 34.8s\n",
      "990: learn: 0.2665524\ttotal: 57m 30s\tremaining: 31.3s\n",
      "991: learn: 0.2665522\ttotal: 57m 34s\tremaining: 27.9s\n",
      "992: learn: 0.266546\ttotal: 57m 39s\tremaining: 24.4s\n",
      "993: learn: 0.2665438\ttotal: 57m 43s\tremaining: 20.9s\n",
      "994: learn: 0.2665435\ttotal: 57m 48s\tremaining: 17.4s\n",
      "995: learn: 0.2665385\ttotal: 57m 51s\tremaining: 13.9s\n",
      "996: learn: 0.2665382\ttotal: 57m 55s\tremaining: 10.5s\n",
      "997: learn: 0.2665379\ttotal: 58m\tremaining: 6.97s\n",
      "998: learn: 0.2665363\ttotal: 58m 7s\tremaining: 3.49s\n",
      "999: learn: 0.2665362\ttotal: 58m 12s\tremaining: 0us\n"
     ]
    },
    {
     "data": {
      "text/plain": [
       "<catboost.core.CatBoostClassifier at 0x7f6e5f7d8b38>"
      ]
     },
     "execution_count": 87,
     "metadata": {},
     "output_type": "execute_result"
    }
   ],
   "source": [
    "cat_model.fit(X,y)"
   ]
  },
  {
   "cell_type": "code",
   "execution_count": 89,
   "metadata": {},
   "outputs": [
    {
     "data": {
      "text/plain": [
       "array([ 0.02739503,  0.06041059,  0.07254662, ...,  0.0110864 ,\n",
       "        0.07284732,  0.05235349])"
      ]
     },
     "execution_count": 89,
     "metadata": {},
     "output_type": "execute_result"
    }
   ],
   "source": [
    "y_pred = cat_model.predict_proba(x_test)[:,1]\n",
    "y_pred"
   ]
  },
  {
   "cell_type": "markdown",
   "metadata": {},
   "source": [
    "# Model validation"
   ]
  },
  {
   "cell_type": "code",
   "execution_count": 28,
   "metadata": {},
   "outputs": [
    {
     "name": "stdout",
     "output_type": "stream",
     "text": [
      "[0.5, 0.49999717076151784, 0.5, 0.5, 0.5]\n",
      "\n",
      "Mean accuracy 0.499999434152\n"
     ]
    },
    {
     "data": {
      "text/plain": [
       "array([[176726,      0],\n",
       "       [ 17466,      0]])"
      ]
     },
     "execution_count": 28,
     "metadata": {},
     "output_type": "execute_result"
    }
   ],
   "source": [
    "print(cv_score)\n",
    "print('\\nMean accuracy',np.mean(cv_score))\n",
    "confusion_matrix(yvl,lr.predict(xvl))"
   ]
  },
  {
   "cell_type": "markdown",
   "metadata": {},
   "source": [
    "# Predict for unseen data set"
   ]
  },
  {
   "cell_type": "code",
   "execution_count": 90,
   "metadata": {},
   "outputs": [],
   "source": [
    "#y_pred = pred_test_full/5\n",
    "submit = pd.DataFrame({'msno':test['msno'],'is_churn':y_pred})\n",
    "#submit.to_csv('kk_pred.csv',index=False)\n",
    "submit.to_csv('kk_pred.csv.gz',index=False,compression='gzip')"
   ]
  },
  {
   "cell_type": "code",
   "execution_count": null,
   "metadata": {
    "collapsed": true
   },
   "outputs": [],
   "source": [
    "params = {'learning_rate':[0.01,0.03,0.1,0.3,1,],''}\n",
    "xg_rscv = xgb.XGBClassifier()\n",
    "\n",
    "clf = RandomizedSearchCV()"
   ]
  },
  {
   "cell_type": "code",
   "execution_count": 64,
   "metadata": {},
   "outputs": [
    {
     "data": {
      "text/plain": [
       "<matplotlib.axes._subplots.AxesSubplot at 0x7f726907f748>"
      ]
     },
     "execution_count": 64,
     "metadata": {},
     "output_type": "execute_result"
    },
    {
     "data": {
      "image/png": "[encoded data removed]",
      "text/plain": [
       "<matplotlib.figure.Figure at 0x7f7288f381d0>"
      ]
     },
     "metadata": {},
     "output_type": "display_data"
    }
   ],
   "source": [
    "cor = train.corr()\n",
    "fig,ax = plt.subplots(figsize=(14,10))\n",
    "sns.heatmap(cor,cmap='viridis',ax=ax)"
   ]
  },
  {
   "cell_type": "markdown",
   "metadata": {},
   "source": [
    "# XGBoost"
   ]
  },
  {
   "cell_type": "code",
   "execution_count": 110,
   "metadata": {},
   "outputs": [],
   "source": [
    "def runXGB(xtrain,xvalid,ytrain,yvalid,xtest,eta=0.1,num_rounds=100):\n",
    "    params = {\n",
    "        'objective':'binary:logistic',        \n",
    "        'max_depth':7,\n",
    "        'learning_rate':eta,\n",
    "        'eval_metric':'logloss',\n",
    "        'min_child_weight':10,\n",
    "        'subsample':0.8,\n",
    "        'colsample_bytree':0.8,\n",
    "        'seed':seed,\n",
    "        #'reg_lambda':2,\n",
    "        #'reg_alpha':2,\n",
    "        #'gamma':1,\n",
    "        #'scale_pos_weight':5,\n",
    "        'n_thread':-1\n",
    "    }\n",
    "    \n",
    "    dtrain = xgb.DMatrix(xtrain,label=ytrain)\n",
    "    dvalid = xgb.DMatrix(xvalid,label=yvalid)\n",
    "    dtest = xgb.DMatrix(xtest)\n",
    "    watchlist = [(dtrain,'train'),(dvalid,'test')]\n",
    "    \n",
    "    model = xgb.train(params,dtrain,num_rounds,watchlist,early_stopping_rounds=20,verbose_eval=30)\n",
    "    pred = model.predict(dvalid,ntree_limit=model.best_ntree_limit)\n",
    "    pred_test = model.predict(dtest,ntree_limit=model.best_ntree_limit)\n",
    "    return pred_test,model"
   ]
  },
  {
   "cell_type": "code",
   "execution_count": 98,
   "metadata": {},
   "outputs": [],
   "source": [
    "unwanted = ['msno','is_churn','registration_init_time','transaction_date','membership_expire_date','date']\n",
    "X = train.drop(unwanted,axis=1)\n",
    "y = train['is_churn'].astype('category')\n",
    "x_test = test.drop(unwanted,axis=1)"
   ]
  },
  {
   "cell_type": "code",
   "execution_count": 112,
   "metadata": {
    "scrolled": false
   },
   "outputs": [
    {
     "name": "stdout",
     "output_type": "stream",
     "text": [
      "1 of KFold 3\n",
      "[0]\ttrain-logloss:0.646267\ttest-logloss:0.646309\n",
      "Multiple eval metrics have been passed: 'test-logloss' will be used for early stopping.\n",
      "\n",
      "Will train until test-logloss hasn't improved in 20 rounds.\n",
      "[30]\ttrain-logloss:0.287896\ttest-logloss:0.289204\n",
      "[60]\ttrain-logloss:0.269695\ttest-logloss:0.272655\n",
      "[90]\ttrain-logloss:0.267227\ttest-logloss:0.271696\n",
      "[120]\ttrain-logloss:0.266194\ttest-logloss:0.271647\n",
      "Stopping. Best iteration:\n",
      "[101]\ttrain-logloss:0.266797\ttest-logloss:0.271625\n",
      "\n",
      "2 of KFold 3\n",
      "[0]\ttrain-logloss:0.646249\ttest-logloss:0.646292\n",
      "Multiple eval metrics have been passed: 'test-logloss' will be used for early stopping.\n",
      "\n",
      "Will train until test-logloss hasn't improved in 20 rounds.\n"
     ]
    },
    {
     "ename": "KeyboardInterrupt",
     "evalue": "",
     "output_type": "error",
     "traceback": [
      "\u001b[0;31m---------------------------------------------------------------------------\u001b[0m",
      "\u001b[0;31mKeyboardInterrupt\u001b[0m                         Traceback (most recent call last)",
      "\u001b[0;32m<ipython-input-112-3c12cd38c184>\u001b[0m in \u001b[0;36m<module>\u001b[0;34m()\u001b[0m\n\u001b[1;32m      8\u001b[0m     \u001b[0mytr\u001b[0m\u001b[0;34m,\u001b[0m\u001b[0myvl\u001b[0m \u001b[0;34m=\u001b[0m \u001b[0my\u001b[0m\u001b[0;34m.\u001b[0m\u001b[0mloc\u001b[0m\u001b[0;34m[\u001b[0m\u001b[0mtrain_index\u001b[0m\u001b[0;34m]\u001b[0m\u001b[0;34m,\u001b[0m\u001b[0my\u001b[0m\u001b[0;34m.\u001b[0m\u001b[0mloc\u001b[0m\u001b[0;34m[\u001b[0m\u001b[0mtest_index\u001b[0m\u001b[0;34m]\u001b[0m\u001b[0;34m\u001b[0m\u001b[0m\n\u001b[1;32m      9\u001b[0m \u001b[0;34m\u001b[0m\u001b[0m\n\u001b[0;32m---> 10\u001b[0;31m     \u001b[0mpred_test\u001b[0m\u001b[0;34m,\u001b[0m\u001b[0mxg_model\u001b[0m \u001b[0;34m=\u001b[0m \u001b[0mrunXGB\u001b[0m\u001b[0;34m(\u001b[0m\u001b[0mxtr\u001b[0m\u001b[0;34m,\u001b[0m\u001b[0mxvl\u001b[0m\u001b[0;34m,\u001b[0m\u001b[0mytr\u001b[0m\u001b[0;34m,\u001b[0m\u001b[0myvl\u001b[0m\u001b[0;34m,\u001b[0m\u001b[0mx_test\u001b[0m\u001b[0;34m,\u001b[0m\u001b[0mnum_rounds\u001b[0m\u001b[0;34m=\u001b[0m\u001b[0;36m1000\u001b[0m\u001b[0;34m,\u001b[0m\u001b[0meta\u001b[0m\u001b[0;34m=\u001b[0m\u001b[0;36m0.07\u001b[0m\u001b[0;34m)\u001b[0m\u001b[0;34m\u001b[0m\u001b[0m\n\u001b[0m\u001b[1;32m     11\u001b[0m     \u001b[0mpred_test_full\u001b[0m \u001b[0;34m+=\u001b[0m \u001b[0mpred_test\u001b[0m\u001b[0;34m\u001b[0m\u001b[0m\n\u001b[1;32m     12\u001b[0m     \u001b[0mcv_score\u001b[0m\u001b[0;34m.\u001b[0m\u001b[0mappend\u001b[0m\u001b[0;34m(\u001b[0m\u001b[0mxg_model\u001b[0m\u001b[0;34m.\u001b[0m\u001b[0mbest_score\u001b[0m\u001b[0;34m)\u001b[0m\u001b[0;34m\u001b[0m\u001b[0m\n",
      "\u001b[0;32m<ipython-input-110-4d547993524e>\u001b[0m in \u001b[0;36mrunXGB\u001b[0;34m(xtrain, xvalid, ytrain, yvalid, xtest, eta, num_rounds)\u001b[0m\n\u001b[1;32m     21\u001b[0m     \u001b[0mwatchlist\u001b[0m \u001b[0;34m=\u001b[0m \u001b[0;34m[\u001b[0m\u001b[0;34m(\u001b[0m\u001b[0mdtrain\u001b[0m\u001b[0;34m,\u001b[0m\u001b[0;34m'train'\u001b[0m\u001b[0;34m)\u001b[0m\u001b[0;34m,\u001b[0m\u001b[0;34m(\u001b[0m\u001b[0mdvalid\u001b[0m\u001b[0;34m,\u001b[0m\u001b[0;34m'test'\u001b[0m\u001b[0;34m)\u001b[0m\u001b[0;34m]\u001b[0m\u001b[0;34m\u001b[0m\u001b[0m\n\u001b[1;32m     22\u001b[0m \u001b[0;34m\u001b[0m\u001b[0m\n\u001b[0;32m---> 23\u001b[0;31m     \u001b[0mmodel\u001b[0m \u001b[0;34m=\u001b[0m \u001b[0mxgb\u001b[0m\u001b[0;34m.\u001b[0m\u001b[0mtrain\u001b[0m\u001b[0;34m(\u001b[0m\u001b[0mparams\u001b[0m\u001b[0;34m,\u001b[0m\u001b[0mdtrain\u001b[0m\u001b[0;34m,\u001b[0m\u001b[0mnum_rounds\u001b[0m\u001b[0;34m,\u001b[0m\u001b[0mwatchlist\u001b[0m\u001b[0;34m,\u001b[0m\u001b[0mearly_stopping_rounds\u001b[0m\u001b[0;34m=\u001b[0m\u001b[0;36m20\u001b[0m\u001b[0;34m,\u001b[0m\u001b[0mverbose_eval\u001b[0m\u001b[0;34m=\u001b[0m\u001b[0;36m30\u001b[0m\u001b[0;34m)\u001b[0m\u001b[0;34m\u001b[0m\u001b[0m\n\u001b[0m\u001b[1;32m     24\u001b[0m     \u001b[0mpred\u001b[0m \u001b[0;34m=\u001b[0m \u001b[0mmodel\u001b[0m\u001b[0;34m.\u001b[0m\u001b[0mpredict\u001b[0m\u001b[0;34m(\u001b[0m\u001b[0mdvalid\u001b[0m\u001b[0;34m,\u001b[0m\u001b[0mntree_limit\u001b[0m\u001b[0;34m=\u001b[0m\u001b[0mmodel\u001b[0m\u001b[0;34m.\u001b[0m\u001b[0mbest_ntree_limit\u001b[0m\u001b[0;34m)\u001b[0m\u001b[0;34m\u001b[0m\u001b[0m\n\u001b[1;32m     25\u001b[0m     \u001b[0mpred_test\u001b[0m \u001b[0;34m=\u001b[0m \u001b[0mmodel\u001b[0m\u001b[0;34m.\u001b[0m\u001b[0mpredict\u001b[0m\u001b[0;34m(\u001b[0m\u001b[0mdtest\u001b[0m\u001b[0;34m,\u001b[0m\u001b[0mntree_limit\u001b[0m\u001b[0;34m=\u001b[0m\u001b[0mmodel\u001b[0m\u001b[0;34m.\u001b[0m\u001b[0mbest_ntree_limit\u001b[0m\u001b[0;34m)\u001b[0m\u001b[0;34m\u001b[0m\u001b[0m\n",
      "\u001b[0;32m/home/sudhir/anaconda3/lib/python3.6/site-packages/xgboost/training.py\u001b[0m in \u001b[0;36mtrain\u001b[0;34m(params, dtrain, num_boost_round, evals, obj, feval, maximize, early_stopping_rounds, evals_result, verbose_eval, learning_rates, xgb_model, callbacks)\u001b[0m\n\u001b[1;32m    203\u001b[0m                            \u001b[0mevals\u001b[0m\u001b[0;34m=\u001b[0m\u001b[0mevals\u001b[0m\u001b[0;34m,\u001b[0m\u001b[0;34m\u001b[0m\u001b[0m\n\u001b[1;32m    204\u001b[0m                            \u001b[0mobj\u001b[0m\u001b[0;34m=\u001b[0m\u001b[0mobj\u001b[0m\u001b[0;34m,\u001b[0m \u001b[0mfeval\u001b[0m\u001b[0;34m=\u001b[0m\u001b[0mfeval\u001b[0m\u001b[0;34m,\u001b[0m\u001b[0;34m\u001b[0m\u001b[0m\n\u001b[0;32m--> 205\u001b[0;31m                            xgb_model=xgb_model, callbacks=callbacks)\n\u001b[0m\u001b[1;32m    206\u001b[0m \u001b[0;34m\u001b[0m\u001b[0m\n\u001b[1;32m    207\u001b[0m \u001b[0;34m\u001b[0m\u001b[0m\n",
      "\u001b[0;32m/home/sudhir/anaconda3/lib/python3.6/site-packages/xgboost/training.py\u001b[0m in \u001b[0;36m_train_internal\u001b[0;34m(params, dtrain, num_boost_round, evals, obj, feval, xgb_model, callbacks)\u001b[0m\n\u001b[1;32m     74\u001b[0m         \u001b[0;31m# Skip the first update if it is a recovery step.\u001b[0m\u001b[0;34m\u001b[0m\u001b[0;34m\u001b[0m\u001b[0m\n\u001b[1;32m     75\u001b[0m         \u001b[0;32mif\u001b[0m \u001b[0mversion\u001b[0m \u001b[0;34m%\u001b[0m \u001b[0;36m2\u001b[0m \u001b[0;34m==\u001b[0m \u001b[0;36m0\u001b[0m\u001b[0;34m:\u001b[0m\u001b[0;34m\u001b[0m\u001b[0m\n\u001b[0;32m---> 76\u001b[0;31m             \u001b[0mbst\u001b[0m\u001b[0;34m.\u001b[0m\u001b[0mupdate\u001b[0m\u001b[0;34m(\u001b[0m\u001b[0mdtrain\u001b[0m\u001b[0;34m,\u001b[0m \u001b[0mi\u001b[0m\u001b[0;34m,\u001b[0m \u001b[0mobj\u001b[0m\u001b[0;34m)\u001b[0m\u001b[0;34m\u001b[0m\u001b[0m\n\u001b[0m\u001b[1;32m     77\u001b[0m             \u001b[0mbst\u001b[0m\u001b[0;34m.\u001b[0m\u001b[0msave_rabit_checkpoint\u001b[0m\u001b[0;34m(\u001b[0m\u001b[0;34m)\u001b[0m\u001b[0;34m\u001b[0m\u001b[0m\n\u001b[1;32m     78\u001b[0m             \u001b[0mversion\u001b[0m \u001b[0;34m+=\u001b[0m \u001b[0;36m1\u001b[0m\u001b[0;34m\u001b[0m\u001b[0m\n",
      "\u001b[0;32m/home/sudhir/anaconda3/lib/python3.6/site-packages/xgboost/core.py\u001b[0m in \u001b[0;36mupdate\u001b[0;34m(self, dtrain, iteration, fobj)\u001b[0m\n\u001b[1;32m    804\u001b[0m \u001b[0;34m\u001b[0m\u001b[0m\n\u001b[1;32m    805\u001b[0m         \u001b[0;32mif\u001b[0m \u001b[0mfobj\u001b[0m \u001b[0;32mis\u001b[0m \u001b[0;32mNone\u001b[0m\u001b[0;34m:\u001b[0m\u001b[0;34m\u001b[0m\u001b[0m\n\u001b[0;32m--> 806\u001b[0;31m             \u001b[0m_check_call\u001b[0m\u001b[0;34m(\u001b[0m\u001b[0m_LIB\u001b[0m\u001b[0;34m.\u001b[0m\u001b[0mXGBoosterUpdateOneIter\u001b[0m\u001b[0;34m(\u001b[0m\u001b[0mself\u001b[0m\u001b[0;34m.\u001b[0m\u001b[0mhandle\u001b[0m\u001b[0;34m,\u001b[0m \u001b[0miteration\u001b[0m\u001b[0;34m,\u001b[0m \u001b[0mdtrain\u001b[0m\u001b[0;34m.\u001b[0m\u001b[0mhandle\u001b[0m\u001b[0;34m)\u001b[0m\u001b[0;34m)\u001b[0m\u001b[0;34m\u001b[0m\u001b[0m\n\u001b[0m\u001b[1;32m    807\u001b[0m         \u001b[0;32melse\u001b[0m\u001b[0;34m:\u001b[0m\u001b[0;34m\u001b[0m\u001b[0m\n\u001b[1;32m    808\u001b[0m             \u001b[0mpred\u001b[0m \u001b[0;34m=\u001b[0m \u001b[0mself\u001b[0m\u001b[0;34m.\u001b[0m\u001b[0mpredict\u001b[0m\u001b[0;34m(\u001b[0m\u001b[0mdtrain\u001b[0m\u001b[0;34m)\u001b[0m\u001b[0;34m\u001b[0m\u001b[0m\n",
      "\u001b[0;31mKeyboardInterrupt\u001b[0m: "
     ]
    }
   ],
   "source": [
    "kf = StratifiedKFold(n_splits=3,random_state=seed)\n",
    "pred_test_full =0\n",
    "cv_score = []\n",
    "i=1\n",
    "for train_index,test_index in kf.split(X,y):\n",
    "    print('{} of KFold {}'.format(i,kf.n_splits))\n",
    "    xtr,xvl = X.loc[train_index],X.loc[test_index]\n",
    "    ytr,yvl = y.loc[train_index],y.loc[test_index]\n",
    "        \n",
    "    pred_test,xg_model = runXGB(xtr,xvl,ytr,yvl,x_test,num_rounds=1000,eta=0.07)    \n",
    "    pred_test_full += pred_test\n",
    "    cv_score.append(xg_model.best_score)\n",
    "    i+=1\n"
   ]
  },
  {
   "cell_type": "code",
   "execution_count": 101,
   "metadata": {},
   "outputs": [
    {
     "name": "stdout",
     "output_type": "stream",
     "text": [
      "[0.272294, 0.272141, 0.272393]\n",
      "Mean cv score 0.272276\n"
     ]
    }
   ],
   "source": [
    "print(cv_score)\n",
    "print('Mean cv score',np.mean(cv_score))"
   ]
  },
  {
   "cell_type": "code",
   "execution_count": 102,
   "metadata": {},
   "outputs": [
    {
     "data": {
      "image/png": "[encoded data removed]",
      "text/plain": [
       "<matplotlib.figure.Figure at 0x7f6e6019cfd0>"
      ]
     },
     "metadata": {},
     "output_type": "display_data"
    }
   ],
   "source": [
    "fig,ax = plt.subplots(figsize=(14,6))\n",
    "xgb.plot_importance(xg_model,ax=ax,height=0.8,color='r')\n",
    "#plt.tight_layout()\n",
    "plt.show()"
   ]
  },
  {
   "cell_type": "markdown",
   "metadata": {},
   "source": [
    "# Predict for unseen data set"
   ]
  },
  {
   "cell_type": "code",
   "execution_count": 103,
   "metadata": {},
   "outputs": [],
   "source": [
    "y_pred = pred_test_full/3\n",
    "submit = pd.DataFrame({'msno':test['msno'],'is_churn':y_pred})\n",
    "#submit.to_csv('kk_pred.csv',index=False)\n",
    "submit.to_csv('kk_pred.csv.gz',index=False,compression='gzip')\n"
   ]
  },
  {
   "cell_type": "markdown",
   "metadata": {},
   "source": [
    "# Thank you for visiting"
   ]
  }
 ],
 "metadata": {
  "kernelspec": {
   "display_name": "Python 3",
   "language": "python",
   "name": "python3"
  },
  "language_info": {
   "codemirror_mode": {
    "name": "ipython",
    "version": 3
   },
   "file_extension": ".py",
   "mimetype": "text/x-python",
   "name": "python",
   "nbconvert_exporter": "python",
   "pygments_lexer": "ipython3",
   "version": "3.6.1"
  }
 },
 "nbformat": 4,
 "nbformat_minor": 2
}
