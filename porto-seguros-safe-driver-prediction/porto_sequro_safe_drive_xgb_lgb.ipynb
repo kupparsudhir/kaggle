{
 "cells": [
  {
   "cell_type": "markdown",
   "metadata": {},
   "source": [
    "# Porto Seguro’s Safe Driver Prediction\n",
    "\n",
    "\n",
    "<br><font color=blue>The aim of this compitation is to predict probability that a driver will intiate an auto insurance claim next year.A more accurate prediction will allow them to further tailor their prices, and hopefully make auto insurance coverage more accessible to more drivers. </font>\n"
   ]
  },
  {
   "cell_type": "markdown",
   "metadata": {},
   "source": [
    "# Import library"
   ]
  },
  {
   "cell_type": "code",
   "execution_count": 22,
   "metadata": {},
   "outputs": [],
   "source": [
    "#Import library\n",
    "import numpy as np\n",
    "import pandas as pd\n",
    "import seaborn as sns\n",
    "import matplotlib.pyplot as plt\n",
    "\n",
    "from sklearn.model_selection import StratifiedKFold,RandomizedSearchCV,GridSearchCV\n",
    "from sklearn.metrics import roc_curve,auc\n",
    "import xgboost as xgb\n",
    "import lightgbm as lgb\n",
    "seed =45\n",
    "% matplotlib inline"
   ]
  },
  {
   "cell_type": "markdown",
   "metadata": {},
   "source": [
    "## Read data set"
   ]
  },
  {
   "cell_type": "code",
   "execution_count": 23,
   "metadata": {},
   "outputs": [
    {
     "name": "stdout",
     "output_type": "stream",
     "text": [
      "Number rows and columns: (10000, 59)\n",
      "Number rows and columns: (10000, 58)\n"
     ]
    }
   ],
   "source": [
    "#path = '../input/'\n",
    "path = 'dataset/'\n",
    "nrows = 10000\n",
    "#nrwos =None\n",
    "train = pd.read_csv(path+'train.csv',na_values=-1, nrows=nrows)\n",
    "test = pd.read_csv(path+'test.csv',na_values=-1, nrows=nrows)\n",
    "print('Number rows and columns:',train.shape)\n",
    "print('Number rows and columns:',test.shape)"
   ]
  },
  {
   "cell_type": "markdown",
   "metadata": {},
   "source": [
    "## Explore data set"
   ]
  },
  {
   "cell_type": "code",
   "execution_count": 24,
   "metadata": {},
   "outputs": [
    {
     "data": {
      "text/html": [
       "<div>\n",
       "<style scoped>\n",
       "    .dataframe tbody tr th:only-of-type {\n",
       "        vertical-align: middle;\n",
       "    }\n",
       "\n",
       "    .dataframe tbody tr th {\n",
       "        vertical-align: top;\n",
       "    }\n",
       "\n",
       "    .dataframe thead th {\n",
       "        text-align: right;\n",
       "    }\n",
       "</style>\n",
       "<table border=\"1\" class=\"dataframe\">\n",
       "  <thead>\n",
       "    <tr style=\"text-align: right;\">\n",
       "      <th></th>\n",
       "      <th>id</th>\n",
       "      <th>target</th>\n",
       "      <th>ps_ind_01</th>\n",
       "      <th>ps_ind_02_cat</th>\n",
       "      <th>ps_ind_03</th>\n",
       "      <th>ps_ind_04_cat</th>\n",
       "      <th>ps_ind_05_cat</th>\n",
       "      <th>ps_ind_06_bin</th>\n",
       "      <th>ps_ind_07_bin</th>\n",
       "      <th>ps_ind_08_bin</th>\n",
       "      <th>...</th>\n",
       "      <th>ps_calc_11</th>\n",
       "      <th>ps_calc_12</th>\n",
       "      <th>ps_calc_13</th>\n",
       "      <th>ps_calc_14</th>\n",
       "      <th>ps_calc_15_bin</th>\n",
       "      <th>ps_calc_16_bin</th>\n",
       "      <th>ps_calc_17_bin</th>\n",
       "      <th>ps_calc_18_bin</th>\n",
       "      <th>ps_calc_19_bin</th>\n",
       "      <th>ps_calc_20_bin</th>\n",
       "    </tr>\n",
       "  </thead>\n",
       "  <tbody>\n",
       "    <tr>\n",
       "      <th>0</th>\n",
       "      <td>7</td>\n",
       "      <td>0</td>\n",
       "      <td>2</td>\n",
       "      <td>2.0</td>\n",
       "      <td>5</td>\n",
       "      <td>1.0</td>\n",
       "      <td>0.0</td>\n",
       "      <td>0</td>\n",
       "      <td>1</td>\n",
       "      <td>0</td>\n",
       "      <td>...</td>\n",
       "      <td>9</td>\n",
       "      <td>1</td>\n",
       "      <td>5</td>\n",
       "      <td>8</td>\n",
       "      <td>0</td>\n",
       "      <td>1</td>\n",
       "      <td>1</td>\n",
       "      <td>0</td>\n",
       "      <td>0</td>\n",
       "      <td>1</td>\n",
       "    </tr>\n",
       "    <tr>\n",
       "      <th>1</th>\n",
       "      <td>9</td>\n",
       "      <td>0</td>\n",
       "      <td>1</td>\n",
       "      <td>1.0</td>\n",
       "      <td>7</td>\n",
       "      <td>0.0</td>\n",
       "      <td>0.0</td>\n",
       "      <td>0</td>\n",
       "      <td>0</td>\n",
       "      <td>1</td>\n",
       "      <td>...</td>\n",
       "      <td>3</td>\n",
       "      <td>1</td>\n",
       "      <td>1</td>\n",
       "      <td>9</td>\n",
       "      <td>0</td>\n",
       "      <td>1</td>\n",
       "      <td>1</td>\n",
       "      <td>0</td>\n",
       "      <td>1</td>\n",
       "      <td>0</td>\n",
       "    </tr>\n",
       "    <tr>\n",
       "      <th>2</th>\n",
       "      <td>13</td>\n",
       "      <td>0</td>\n",
       "      <td>5</td>\n",
       "      <td>4.0</td>\n",
       "      <td>9</td>\n",
       "      <td>1.0</td>\n",
       "      <td>0.0</td>\n",
       "      <td>0</td>\n",
       "      <td>0</td>\n",
       "      <td>1</td>\n",
       "      <td>...</td>\n",
       "      <td>4</td>\n",
       "      <td>2</td>\n",
       "      <td>7</td>\n",
       "      <td>7</td>\n",
       "      <td>0</td>\n",
       "      <td>1</td>\n",
       "      <td>1</td>\n",
       "      <td>0</td>\n",
       "      <td>1</td>\n",
       "      <td>0</td>\n",
       "    </tr>\n",
       "    <tr>\n",
       "      <th>3</th>\n",
       "      <td>16</td>\n",
       "      <td>0</td>\n",
       "      <td>0</td>\n",
       "      <td>1.0</td>\n",
       "      <td>2</td>\n",
       "      <td>0.0</td>\n",
       "      <td>0.0</td>\n",
       "      <td>1</td>\n",
       "      <td>0</td>\n",
       "      <td>0</td>\n",
       "      <td>...</td>\n",
       "      <td>2</td>\n",
       "      <td>2</td>\n",
       "      <td>4</td>\n",
       "      <td>9</td>\n",
       "      <td>0</td>\n",
       "      <td>0</td>\n",
       "      <td>0</td>\n",
       "      <td>0</td>\n",
       "      <td>0</td>\n",
       "      <td>0</td>\n",
       "    </tr>\n",
       "    <tr>\n",
       "      <th>4</th>\n",
       "      <td>17</td>\n",
       "      <td>0</td>\n",
       "      <td>0</td>\n",
       "      <td>2.0</td>\n",
       "      <td>0</td>\n",
       "      <td>1.0</td>\n",
       "      <td>0.0</td>\n",
       "      <td>1</td>\n",
       "      <td>0</td>\n",
       "      <td>0</td>\n",
       "      <td>...</td>\n",
       "      <td>3</td>\n",
       "      <td>1</td>\n",
       "      <td>1</td>\n",
       "      <td>3</td>\n",
       "      <td>0</td>\n",
       "      <td>0</td>\n",
       "      <td>0</td>\n",
       "      <td>1</td>\n",
       "      <td>1</td>\n",
       "      <td>0</td>\n",
       "    </tr>\n",
       "  </tbody>\n",
       "</table>\n",
       "<p>5 rows × 59 columns</p>\n",
       "</div>"
      ],
      "text/plain": [
       "   id  target  ps_ind_01  ps_ind_02_cat  ps_ind_03  ps_ind_04_cat  \\\n",
       "0   7       0          2            2.0          5            1.0   \n",
       "1   9       0          1            1.0          7            0.0   \n",
       "2  13       0          5            4.0          9            1.0   \n",
       "3  16       0          0            1.0          2            0.0   \n",
       "4  17       0          0            2.0          0            1.0   \n",
       "\n",
       "   ps_ind_05_cat  ps_ind_06_bin  ps_ind_07_bin  ps_ind_08_bin       ...        \\\n",
       "0            0.0              0              1              0       ...         \n",
       "1            0.0              0              0              1       ...         \n",
       "2            0.0              0              0              1       ...         \n",
       "3            0.0              1              0              0       ...         \n",
       "4            0.0              1              0              0       ...         \n",
       "\n",
       "   ps_calc_11  ps_calc_12  ps_calc_13  ps_calc_14  ps_calc_15_bin  \\\n",
       "0           9           1           5           8               0   \n",
       "1           3           1           1           9               0   \n",
       "2           4           2           7           7               0   \n",
       "3           2           2           4           9               0   \n",
       "4           3           1           1           3               0   \n",
       "\n",
       "   ps_calc_16_bin  ps_calc_17_bin  ps_calc_18_bin  ps_calc_19_bin  \\\n",
       "0               1               1               0               0   \n",
       "1               1               1               0               1   \n",
       "2               1               1               0               1   \n",
       "3               0               0               0               0   \n",
       "4               0               0               1               1   \n",
       "\n",
       "   ps_calc_20_bin  \n",
       "0               1  \n",
       "1               0  \n",
       "2               0  \n",
       "3               0  \n",
       "4               0  \n",
       "\n",
       "[5 rows x 59 columns]"
      ]
     },
     "execution_count": 24,
     "metadata": {},
     "output_type": "execute_result"
    }
   ],
   "source": [
    "train.head()"
   ]
  },
  {
   "cell_type": "markdown",
   "metadata": {},
   "source": [
    "## Target varaiable"
   ]
  },
  {
   "cell_type": "code",
   "execution_count": 25,
   "metadata": {},
   "outputs": [
    {
     "data": {
      "text/plain": [
       "0    9621\n",
       "1     379\n",
       "Name: target, dtype: int64"
      ]
     },
     "execution_count": 25,
     "metadata": {},
     "output_type": "execute_result"
    },
    {
     "data": {
      "image/png": "[encoded data removed]",
      "text/plain": [
       "<Figure size 720x216 with 1 Axes>"
      ]
     },
     "metadata": {},
     "output_type": "display_data"
    }
   ],
   "source": [
    "plt.figure(figsize=(10,3))\n",
    "sns.countplot(train['target'],palette='rainbow')\n",
    "plt.xlabel('Target')\n",
    "\n",
    "train['target'].value_counts()"
   ]
  },
  {
   "cell_type": "markdown",
   "metadata": {},
   "source": [
    "The 'target' variable in imbalanced "
   ]
  },
  {
   "cell_type": "markdown",
   "metadata": {},
   "source": [
    "## CORELATION PLOT"
   ]
  },
  {
   "cell_type": "code",
   "execution_count": 26,
   "metadata": {},
   "outputs": [
    {
     "data": {
      "image/png": "[encoded data removed]",
      "text/plain": [
       "<Figure size 1152x720 with 2 Axes>"
      ]
     },
     "metadata": {},
     "output_type": "display_data"
    }
   ],
   "source": [
    "cor = train.corr()\n",
    "plt.figure(figsize=(16,10))\n",
    "sns.heatmap(cor,cmap='Set1');"
   ]
  },
  {
   "cell_type": "markdown",
   "metadata": {},
   "source": [
    "###  ps calc  *  value as 0 relation with remaining varialble"
   ]
  },
  {
   "cell_type": "code",
   "execution_count": 27,
   "metadata": {},
   "outputs": [
    {
     "data": {
      "text/plain": [
       "(10000, 39)"
      ]
     },
     "execution_count": 27,
     "metadata": {},
     "output_type": "execute_result"
    }
   ],
   "source": [
    "ps_cal = train.columns[train.columns.str.startswith('ps_calc')] \n",
    "train = train.drop(ps_cal,axis =1)\n",
    "test = test.drop(ps_cal,axis=1)\n",
    "train.shape"
   ]
  },
  {
   "cell_type": "code",
   "execution_count": 28,
   "metadata": {},
   "outputs": [],
   "source": [
    "train['target'] = train['target'].astype('category')"
   ]
  },
  {
   "cell_type": "markdown",
   "metadata": {},
   "source": [
    "# Missing value is data set"
   ]
  },
  {
   "cell_type": "markdown",
   "metadata": {},
   "source": [
    "\"\"\"Values of -1 indicate that the feature was missing from the observation. \n",
    "The target columns signifies whether or not a claim was filed for that policy holder.\"\""
   ]
  },
  {
   "cell_type": "code",
   "execution_count": 29,
   "metadata": {},
   "outputs": [
    {
     "data": {
      "text/plain": [
       "<matplotlib.axes._subplots.AxesSubplot at 0x7faa1b20c1d0>"
      ]
     },
     "execution_count": 29,
     "metadata": {},
     "output_type": "execute_result"
    },
    {
     "data": {
      "image/png": "[encoded data removed]",
      "text/plain": [
       "<Figure size 432x288 with 1 Axes>"
      ]
     },
     "metadata": {},
     "output_type": "display_data"
    }
   ],
   "source": [
    "sns.heatmap(train.isnull(),cbar=False)"
   ]
  },
  {
   "cell_type": "code",
   "execution_count": 30,
   "metadata": {},
   "outputs": [
    {
     "data": {
      "text/html": [
       "<div>\n",
       "<style scoped>\n",
       "    .dataframe tbody tr th:only-of-type {\n",
       "        vertical-align: middle;\n",
       "    }\n",
       "\n",
       "    .dataframe tbody tr th {\n",
       "        vertical-align: top;\n",
       "    }\n",
       "\n",
       "    .dataframe thead th {\n",
       "        text-align: right;\n",
       "    }\n",
       "</style>\n",
       "<table border=\"1\" class=\"dataframe\">\n",
       "  <thead>\n",
       "    <tr style=\"text-align: right;\">\n",
       "      <th></th>\n",
       "      <th>train</th>\n",
       "      <th>test</th>\n",
       "    </tr>\n",
       "  </thead>\n",
       "  <tbody>\n",
       "    <tr>\n",
       "      <th>id</th>\n",
       "      <td>0</td>\n",
       "      <td>0.0</td>\n",
       "    </tr>\n",
       "    <tr>\n",
       "      <th>target</th>\n",
       "      <td>0</td>\n",
       "      <td>NaN</td>\n",
       "    </tr>\n",
       "    <tr>\n",
       "      <th>ps_ind_01</th>\n",
       "      <td>0</td>\n",
       "      <td>0.0</td>\n",
       "    </tr>\n",
       "    <tr>\n",
       "      <th>ps_ind_02_cat</th>\n",
       "      <td>1</td>\n",
       "      <td>2.0</td>\n",
       "    </tr>\n",
       "    <tr>\n",
       "      <th>ps_ind_03</th>\n",
       "      <td>0</td>\n",
       "      <td>0.0</td>\n",
       "    </tr>\n",
       "    <tr>\n",
       "      <th>ps_ind_04_cat</th>\n",
       "      <td>1</td>\n",
       "      <td>0.0</td>\n",
       "    </tr>\n",
       "    <tr>\n",
       "      <th>ps_ind_05_cat</th>\n",
       "      <td>99</td>\n",
       "      <td>104.0</td>\n",
       "    </tr>\n",
       "    <tr>\n",
       "      <th>ps_ind_06_bin</th>\n",
       "      <td>0</td>\n",
       "      <td>0.0</td>\n",
       "    </tr>\n",
       "    <tr>\n",
       "      <th>ps_ind_07_bin</th>\n",
       "      <td>0</td>\n",
       "      <td>0.0</td>\n",
       "    </tr>\n",
       "    <tr>\n",
       "      <th>ps_ind_08_bin</th>\n",
       "      <td>0</td>\n",
       "      <td>0.0</td>\n",
       "    </tr>\n",
       "    <tr>\n",
       "      <th>ps_ind_09_bin</th>\n",
       "      <td>0</td>\n",
       "      <td>0.0</td>\n",
       "    </tr>\n",
       "    <tr>\n",
       "      <th>ps_ind_10_bin</th>\n",
       "      <td>0</td>\n",
       "      <td>0.0</td>\n",
       "    </tr>\n",
       "    <tr>\n",
       "      <th>ps_ind_11_bin</th>\n",
       "      <td>0</td>\n",
       "      <td>0.0</td>\n",
       "    </tr>\n",
       "    <tr>\n",
       "      <th>ps_ind_12_bin</th>\n",
       "      <td>0</td>\n",
       "      <td>0.0</td>\n",
       "    </tr>\n",
       "    <tr>\n",
       "      <th>ps_ind_13_bin</th>\n",
       "      <td>0</td>\n",
       "      <td>0.0</td>\n",
       "    </tr>\n",
       "    <tr>\n",
       "      <th>ps_ind_14</th>\n",
       "      <td>0</td>\n",
       "      <td>0.0</td>\n",
       "    </tr>\n",
       "    <tr>\n",
       "      <th>ps_ind_15</th>\n",
       "      <td>0</td>\n",
       "      <td>0.0</td>\n",
       "    </tr>\n",
       "    <tr>\n",
       "      <th>ps_ind_16_bin</th>\n",
       "      <td>0</td>\n",
       "      <td>0.0</td>\n",
       "    </tr>\n",
       "    <tr>\n",
       "      <th>ps_ind_17_bin</th>\n",
       "      <td>0</td>\n",
       "      <td>0.0</td>\n",
       "    </tr>\n",
       "    <tr>\n",
       "      <th>ps_ind_18_bin</th>\n",
       "      <td>0</td>\n",
       "      <td>0.0</td>\n",
       "    </tr>\n",
       "    <tr>\n",
       "      <th>ps_reg_01</th>\n",
       "      <td>0</td>\n",
       "      <td>0.0</td>\n",
       "    </tr>\n",
       "    <tr>\n",
       "      <th>ps_reg_02</th>\n",
       "      <td>0</td>\n",
       "      <td>0.0</td>\n",
       "    </tr>\n",
       "    <tr>\n",
       "      <th>ps_reg_03</th>\n",
       "      <td>1790</td>\n",
       "      <td>1791.0</td>\n",
       "    </tr>\n",
       "    <tr>\n",
       "      <th>ps_car_01_cat</th>\n",
       "      <td>1</td>\n",
       "      <td>0.0</td>\n",
       "    </tr>\n",
       "    <tr>\n",
       "      <th>ps_car_02_cat</th>\n",
       "      <td>0</td>\n",
       "      <td>0.0</td>\n",
       "    </tr>\n",
       "    <tr>\n",
       "      <th>ps_car_03_cat</th>\n",
       "      <td>6904</td>\n",
       "      <td>6858.0</td>\n",
       "    </tr>\n",
       "    <tr>\n",
       "      <th>ps_car_04_cat</th>\n",
       "      <td>0</td>\n",
       "      <td>0.0</td>\n",
       "    </tr>\n",
       "    <tr>\n",
       "      <th>ps_car_05_cat</th>\n",
       "      <td>4439</td>\n",
       "      <td>4476.0</td>\n",
       "    </tr>\n",
       "    <tr>\n",
       "      <th>ps_car_06_cat</th>\n",
       "      <td>0</td>\n",
       "      <td>0.0</td>\n",
       "    </tr>\n",
       "    <tr>\n",
       "      <th>ps_car_07_cat</th>\n",
       "      <td>194</td>\n",
       "      <td>207.0</td>\n",
       "    </tr>\n",
       "    <tr>\n",
       "      <th>ps_car_08_cat</th>\n",
       "      <td>0</td>\n",
       "      <td>0.0</td>\n",
       "    </tr>\n",
       "    <tr>\n",
       "      <th>ps_car_09_cat</th>\n",
       "      <td>16</td>\n",
       "      <td>10.0</td>\n",
       "    </tr>\n",
       "    <tr>\n",
       "      <th>ps_car_10_cat</th>\n",
       "      <td>0</td>\n",
       "      <td>0.0</td>\n",
       "    </tr>\n",
       "    <tr>\n",
       "      <th>ps_car_11_cat</th>\n",
       "      <td>0</td>\n",
       "      <td>0.0</td>\n",
       "    </tr>\n",
       "    <tr>\n",
       "      <th>ps_car_11</th>\n",
       "      <td>0</td>\n",
       "      <td>0.0</td>\n",
       "    </tr>\n",
       "    <tr>\n",
       "      <th>ps_car_12</th>\n",
       "      <td>0</td>\n",
       "      <td>0.0</td>\n",
       "    </tr>\n",
       "    <tr>\n",
       "      <th>ps_car_13</th>\n",
       "      <td>0</td>\n",
       "      <td>0.0</td>\n",
       "    </tr>\n",
       "    <tr>\n",
       "      <th>ps_car_14</th>\n",
       "      <td>710</td>\n",
       "      <td>713.0</td>\n",
       "    </tr>\n",
       "    <tr>\n",
       "      <th>ps_car_15</th>\n",
       "      <td>0</td>\n",
       "      <td>0.0</td>\n",
       "    </tr>\n",
       "  </tbody>\n",
       "</table>\n",
       "</div>"
      ],
      "text/plain": [
       "               train    test\n",
       "id                 0     0.0\n",
       "target             0     NaN\n",
       "ps_ind_01          0     0.0\n",
       "ps_ind_02_cat      1     2.0\n",
       "ps_ind_03          0     0.0\n",
       "ps_ind_04_cat      1     0.0\n",
       "ps_ind_05_cat     99   104.0\n",
       "ps_ind_06_bin      0     0.0\n",
       "ps_ind_07_bin      0     0.0\n",
       "ps_ind_08_bin      0     0.0\n",
       "ps_ind_09_bin      0     0.0\n",
       "ps_ind_10_bin      0     0.0\n",
       "ps_ind_11_bin      0     0.0\n",
       "ps_ind_12_bin      0     0.0\n",
       "ps_ind_13_bin      0     0.0\n",
       "ps_ind_14          0     0.0\n",
       "ps_ind_15          0     0.0\n",
       "ps_ind_16_bin      0     0.0\n",
       "ps_ind_17_bin      0     0.0\n",
       "ps_ind_18_bin      0     0.0\n",
       "ps_reg_01          0     0.0\n",
       "ps_reg_02          0     0.0\n",
       "ps_reg_03       1790  1791.0\n",
       "ps_car_01_cat      1     0.0\n",
       "ps_car_02_cat      0     0.0\n",
       "ps_car_03_cat   6904  6858.0\n",
       "ps_car_04_cat      0     0.0\n",
       "ps_car_05_cat   4439  4476.0\n",
       "ps_car_06_cat      0     0.0\n",
       "ps_car_07_cat    194   207.0\n",
       "ps_car_08_cat      0     0.0\n",
       "ps_car_09_cat     16    10.0\n",
       "ps_car_10_cat      0     0.0\n",
       "ps_car_11_cat      0     0.0\n",
       "ps_car_11          0     0.0\n",
       "ps_car_12          0     0.0\n",
       "ps_car_13          0     0.0\n",
       "ps_car_14        710   713.0\n",
       "ps_car_15          0     0.0"
      ]
     },
     "execution_count": 30,
     "metadata": {},
     "output_type": "execute_result"
    }
   ],
   "source": [
    "k= pd.DataFrame()\n",
    "k['train']= train.isnull().sum()\n",
    "k['test'] = test.isnull().sum()\n",
    "k"
   ]
  },
  {
   "cell_type": "markdown",
   "metadata": {},
   "source": [
    "Missing value in test train data set are in same propotion and same column"
   ]
  },
  {
   "cell_type": "code",
   "execution_count": 31,
   "metadata": {},
   "outputs": [],
   "source": [
    "def transform_df(df):\n",
    "    df = pd.DataFrame(df)\n",
    "    dcol= [c for c in train.columns if train[c].nunique()>2]\n",
    "    dcol.remove('id')   \n",
    "    d_median = df[dcol].median(axis=0)\n",
    "    d_mean = df[dcol].mean(axis=0)\n",
    "    \n",
    "    #Add mean and median column to data set having more then 2 categories\n",
    "    for c in dcol:\n",
    "        df[c+str('_median_range')] = (df[c].values > d_median[c]).astype(np.int8)\n",
    "        df[c+str('_mean_range')] = (df[c].values > d_mean[c]).astype(np.int8)            \n",
    "    return df"
   ]
  },
  {
   "cell_type": "code",
   "execution_count": 32,
   "metadata": {},
   "outputs": [
    {
     "name": "stderr",
     "output_type": "stream",
     "text": [
      "/home/sudhir/anaconda3/lib/python3.6/site-packages/ipykernel_launcher.py:10: RuntimeWarning: invalid value encountered in greater\n",
      "  # Remove the CWD from sys.path while we load stuff.\n",
      "/home/sudhir/anaconda3/lib/python3.6/site-packages/ipykernel_launcher.py:11: RuntimeWarning: invalid value encountered in greater\n",
      "  # This is added back by InteractiveShellApp.init_path()\n"
     ]
    }
   ],
   "source": [
    "train = transform_df(train)\n",
    "test = transform_df(test)"
   ]
  },
  {
   "cell_type": "code",
   "execution_count": 33,
   "metadata": {},
   "outputs": [],
   "source": [
    "def missing_value(df):\n",
    "    col = df.columns\n",
    "    for i in col:\n",
    "        if df[i].isnull().sum()>0:\n",
    "            df[i].fillna(df[i].mode()[0],inplace=True)"
   ]
  },
  {
   "cell_type": "code",
   "execution_count": 34,
   "metadata": {},
   "outputs": [],
   "source": [
    "missing_value(train)\n",
    "missing_value(test)"
   ]
  },
  {
   "cell_type": "markdown",
   "metadata": {},
   "source": [
    "## Reduce memory "
   ]
  },
  {
   "cell_type": "code",
   "execution_count": 35,
   "metadata": {},
   "outputs": [],
   "source": [
    "def change_datatype(df):\n",
    "    float_cols = list(df.select_dtypes(include=['int']).columns)\n",
    "    for col in float_cols:\n",
    "        if ((np.max(df[col]) <= 127) and(np.min(df[col] >= -128))):\n",
    "            df[col] = df[col].astype(np.int8)\n",
    "        elif ((np.max(df[col]) <= 32767) and(np.min(df[col] >= -32768))):\n",
    "            df[col] = df[col].astype(np.int16)\n",
    "        elif ((np.max(df[col]) <= 2147483647) and(np.min(df[col] >= -2147483648))):\n",
    "            df[col] = df[col].astype(np.int32)\n",
    "        else:\n",
    "            df[col] = df[col].astype(np.int64)"
   ]
  },
  {
   "cell_type": "code",
   "execution_count": 36,
   "metadata": {},
   "outputs": [],
   "source": [
    "def change_datatype_float(df):\n",
    "    float_cols = list(df.select_dtypes(include=['float']).columns)\n",
    "    for col in float_cols:\n",
    "        df[col] = df[col].astype(np.float32)"
   ]
  },
  {
   "cell_type": "code",
   "execution_count": 37,
   "metadata": {},
   "outputs": [],
   "source": [
    "change_datatype(train)\n",
    "change_datatype(test)\n",
    "change_datatype_float(train)\n",
    "change_datatype_float(test)"
   ]
  },
  {
   "cell_type": "markdown",
   "metadata": {},
   "source": [
    "# Univariate analysis"
   ]
  },
  {
   "cell_type": "code",
   "execution_count": 38,
   "metadata": {},
   "outputs": [
    {
     "data": {
      "text/html": [
       "<div>\n",
       "<style scoped>\n",
       "    .dataframe tbody tr th:only-of-type {\n",
       "        vertical-align: middle;\n",
       "    }\n",
       "\n",
       "    .dataframe tbody tr th {\n",
       "        vertical-align: top;\n",
       "    }\n",
       "\n",
       "    .dataframe thead th {\n",
       "        text-align: right;\n",
       "    }\n",
       "</style>\n",
       "<table border=\"1\" class=\"dataframe\">\n",
       "  <thead>\n",
       "    <tr style=\"text-align: right;\">\n",
       "      <th></th>\n",
       "      <th>N unique value</th>\n",
       "      <th>Missing value</th>\n",
       "      <th>dtype</th>\n",
       "    </tr>\n",
       "  </thead>\n",
       "  <tbody>\n",
       "    <tr>\n",
       "      <th>id</th>\n",
       "      <td>10000</td>\n",
       "      <td>0</td>\n",
       "      <td>int16</td>\n",
       "    </tr>\n",
       "    <tr>\n",
       "      <th>target</th>\n",
       "      <td>2</td>\n",
       "      <td>0</td>\n",
       "      <td>category</td>\n",
       "    </tr>\n",
       "    <tr>\n",
       "      <th>ps_ind_01</th>\n",
       "      <td>8</td>\n",
       "      <td>0</td>\n",
       "      <td>int8</td>\n",
       "    </tr>\n",
       "    <tr>\n",
       "      <th>ps_ind_02_cat</th>\n",
       "      <td>4</td>\n",
       "      <td>0</td>\n",
       "      <td>float32</td>\n",
       "    </tr>\n",
       "    <tr>\n",
       "      <th>ps_ind_03</th>\n",
       "      <td>12</td>\n",
       "      <td>0</td>\n",
       "      <td>int8</td>\n",
       "    </tr>\n",
       "    <tr>\n",
       "      <th>ps_ind_04_cat</th>\n",
       "      <td>2</td>\n",
       "      <td>0</td>\n",
       "      <td>float32</td>\n",
       "    </tr>\n",
       "    <tr>\n",
       "      <th>ps_ind_05_cat</th>\n",
       "      <td>7</td>\n",
       "      <td>0</td>\n",
       "      <td>float32</td>\n",
       "    </tr>\n",
       "    <tr>\n",
       "      <th>ps_ind_06_bin</th>\n",
       "      <td>2</td>\n",
       "      <td>0</td>\n",
       "      <td>int8</td>\n",
       "    </tr>\n",
       "    <tr>\n",
       "      <th>ps_ind_07_bin</th>\n",
       "      <td>2</td>\n",
       "      <td>0</td>\n",
       "      <td>int8</td>\n",
       "    </tr>\n",
       "    <tr>\n",
       "      <th>ps_ind_08_bin</th>\n",
       "      <td>2</td>\n",
       "      <td>0</td>\n",
       "      <td>int8</td>\n",
       "    </tr>\n",
       "    <tr>\n",
       "      <th>ps_ind_09_bin</th>\n",
       "      <td>2</td>\n",
       "      <td>0</td>\n",
       "      <td>int8</td>\n",
       "    </tr>\n",
       "    <tr>\n",
       "      <th>ps_ind_10_bin</th>\n",
       "      <td>2</td>\n",
       "      <td>0</td>\n",
       "      <td>int8</td>\n",
       "    </tr>\n",
       "    <tr>\n",
       "      <th>ps_ind_11_bin</th>\n",
       "      <td>2</td>\n",
       "      <td>0</td>\n",
       "      <td>int8</td>\n",
       "    </tr>\n",
       "    <tr>\n",
       "      <th>ps_ind_12_bin</th>\n",
       "      <td>2</td>\n",
       "      <td>0</td>\n",
       "      <td>int8</td>\n",
       "    </tr>\n",
       "    <tr>\n",
       "      <th>ps_ind_13_bin</th>\n",
       "      <td>2</td>\n",
       "      <td>0</td>\n",
       "      <td>int8</td>\n",
       "    </tr>\n",
       "    <tr>\n",
       "      <th>ps_ind_14</th>\n",
       "      <td>4</td>\n",
       "      <td>0</td>\n",
       "      <td>int8</td>\n",
       "    </tr>\n",
       "    <tr>\n",
       "      <th>ps_ind_15</th>\n",
       "      <td>14</td>\n",
       "      <td>0</td>\n",
       "      <td>int8</td>\n",
       "    </tr>\n",
       "    <tr>\n",
       "      <th>ps_ind_16_bin</th>\n",
       "      <td>2</td>\n",
       "      <td>0</td>\n",
       "      <td>int8</td>\n",
       "    </tr>\n",
       "    <tr>\n",
       "      <th>ps_ind_17_bin</th>\n",
       "      <td>2</td>\n",
       "      <td>0</td>\n",
       "      <td>int8</td>\n",
       "    </tr>\n",
       "    <tr>\n",
       "      <th>ps_ind_18_bin</th>\n",
       "      <td>2</td>\n",
       "      <td>0</td>\n",
       "      <td>int8</td>\n",
       "    </tr>\n",
       "    <tr>\n",
       "      <th>ps_reg_01</th>\n",
       "      <td>10</td>\n",
       "      <td>0</td>\n",
       "      <td>float32</td>\n",
       "    </tr>\n",
       "    <tr>\n",
       "      <th>ps_reg_02</th>\n",
       "      <td>19</td>\n",
       "      <td>0</td>\n",
       "      <td>float32</td>\n",
       "    </tr>\n",
       "    <tr>\n",
       "      <th>ps_reg_03</th>\n",
       "      <td>2768</td>\n",
       "      <td>0</td>\n",
       "      <td>float32</td>\n",
       "    </tr>\n",
       "    <tr>\n",
       "      <th>ps_car_01_cat</th>\n",
       "      <td>12</td>\n",
       "      <td>0</td>\n",
       "      <td>float32</td>\n",
       "    </tr>\n",
       "    <tr>\n",
       "      <th>ps_car_02_cat</th>\n",
       "      <td>2</td>\n",
       "      <td>0</td>\n",
       "      <td>int8</td>\n",
       "    </tr>\n",
       "    <tr>\n",
       "      <th>ps_car_03_cat</th>\n",
       "      <td>2</td>\n",
       "      <td>0</td>\n",
       "      <td>float32</td>\n",
       "    </tr>\n",
       "    <tr>\n",
       "      <th>ps_car_04_cat</th>\n",
       "      <td>10</td>\n",
       "      <td>0</td>\n",
       "      <td>int8</td>\n",
       "    </tr>\n",
       "    <tr>\n",
       "      <th>ps_car_05_cat</th>\n",
       "      <td>2</td>\n",
       "      <td>0</td>\n",
       "      <td>float32</td>\n",
       "    </tr>\n",
       "    <tr>\n",
       "      <th>ps_car_06_cat</th>\n",
       "      <td>18</td>\n",
       "      <td>0</td>\n",
       "      <td>int8</td>\n",
       "    </tr>\n",
       "    <tr>\n",
       "      <th>ps_car_07_cat</th>\n",
       "      <td>2</td>\n",
       "      <td>0</td>\n",
       "      <td>float32</td>\n",
       "    </tr>\n",
       "    <tr>\n",
       "      <th>...</th>\n",
       "      <td>...</td>\n",
       "      <td>...</td>\n",
       "      <td>...</td>\n",
       "    </tr>\n",
       "    <tr>\n",
       "      <th>ps_ind_15_median_range</th>\n",
       "      <td>2</td>\n",
       "      <td>0</td>\n",
       "      <td>int8</td>\n",
       "    </tr>\n",
       "    <tr>\n",
       "      <th>ps_ind_15_mean_range</th>\n",
       "      <td>2</td>\n",
       "      <td>0</td>\n",
       "      <td>int8</td>\n",
       "    </tr>\n",
       "    <tr>\n",
       "      <th>ps_reg_01_median_range</th>\n",
       "      <td>2</td>\n",
       "      <td>0</td>\n",
       "      <td>int8</td>\n",
       "    </tr>\n",
       "    <tr>\n",
       "      <th>ps_reg_01_mean_range</th>\n",
       "      <td>2</td>\n",
       "      <td>0</td>\n",
       "      <td>int8</td>\n",
       "    </tr>\n",
       "    <tr>\n",
       "      <th>ps_reg_02_median_range</th>\n",
       "      <td>2</td>\n",
       "      <td>0</td>\n",
       "      <td>int8</td>\n",
       "    </tr>\n",
       "    <tr>\n",
       "      <th>ps_reg_02_mean_range</th>\n",
       "      <td>2</td>\n",
       "      <td>0</td>\n",
       "      <td>int8</td>\n",
       "    </tr>\n",
       "    <tr>\n",
       "      <th>ps_reg_03_median_range</th>\n",
       "      <td>2</td>\n",
       "      <td>0</td>\n",
       "      <td>int8</td>\n",
       "    </tr>\n",
       "    <tr>\n",
       "      <th>ps_reg_03_mean_range</th>\n",
       "      <td>2</td>\n",
       "      <td>0</td>\n",
       "      <td>int8</td>\n",
       "    </tr>\n",
       "    <tr>\n",
       "      <th>ps_car_01_cat_median_range</th>\n",
       "      <td>2</td>\n",
       "      <td>0</td>\n",
       "      <td>int8</td>\n",
       "    </tr>\n",
       "    <tr>\n",
       "      <th>ps_car_01_cat_mean_range</th>\n",
       "      <td>2</td>\n",
       "      <td>0</td>\n",
       "      <td>int8</td>\n",
       "    </tr>\n",
       "    <tr>\n",
       "      <th>ps_car_04_cat_median_range</th>\n",
       "      <td>2</td>\n",
       "      <td>0</td>\n",
       "      <td>int8</td>\n",
       "    </tr>\n",
       "    <tr>\n",
       "      <th>ps_car_04_cat_mean_range</th>\n",
       "      <td>2</td>\n",
       "      <td>0</td>\n",
       "      <td>int8</td>\n",
       "    </tr>\n",
       "    <tr>\n",
       "      <th>ps_car_06_cat_median_range</th>\n",
       "      <td>2</td>\n",
       "      <td>0</td>\n",
       "      <td>int8</td>\n",
       "    </tr>\n",
       "    <tr>\n",
       "      <th>ps_car_06_cat_mean_range</th>\n",
       "      <td>2</td>\n",
       "      <td>0</td>\n",
       "      <td>int8</td>\n",
       "    </tr>\n",
       "    <tr>\n",
       "      <th>ps_car_09_cat_median_range</th>\n",
       "      <td>2</td>\n",
       "      <td>0</td>\n",
       "      <td>int8</td>\n",
       "    </tr>\n",
       "    <tr>\n",
       "      <th>ps_car_09_cat_mean_range</th>\n",
       "      <td>2</td>\n",
       "      <td>0</td>\n",
       "      <td>int8</td>\n",
       "    </tr>\n",
       "    <tr>\n",
       "      <th>ps_car_10_cat_median_range</th>\n",
       "      <td>2</td>\n",
       "      <td>0</td>\n",
       "      <td>int8</td>\n",
       "    </tr>\n",
       "    <tr>\n",
       "      <th>ps_car_10_cat_mean_range</th>\n",
       "      <td>2</td>\n",
       "      <td>0</td>\n",
       "      <td>int8</td>\n",
       "    </tr>\n",
       "    <tr>\n",
       "      <th>ps_car_11_cat_median_range</th>\n",
       "      <td>2</td>\n",
       "      <td>0</td>\n",
       "      <td>int8</td>\n",
       "    </tr>\n",
       "    <tr>\n",
       "      <th>ps_car_11_cat_mean_range</th>\n",
       "      <td>2</td>\n",
       "      <td>0</td>\n",
       "      <td>int8</td>\n",
       "    </tr>\n",
       "    <tr>\n",
       "      <th>ps_car_11_median_range</th>\n",
       "      <td>1</td>\n",
       "      <td>0</td>\n",
       "      <td>int8</td>\n",
       "    </tr>\n",
       "    <tr>\n",
       "      <th>ps_car_11_mean_range</th>\n",
       "      <td>2</td>\n",
       "      <td>0</td>\n",
       "      <td>int8</td>\n",
       "    </tr>\n",
       "    <tr>\n",
       "      <th>ps_car_12_median_range</th>\n",
       "      <td>2</td>\n",
       "      <td>0</td>\n",
       "      <td>int8</td>\n",
       "    </tr>\n",
       "    <tr>\n",
       "      <th>ps_car_12_mean_range</th>\n",
       "      <td>2</td>\n",
       "      <td>0</td>\n",
       "      <td>int8</td>\n",
       "    </tr>\n",
       "    <tr>\n",
       "      <th>ps_car_13_median_range</th>\n",
       "      <td>2</td>\n",
       "      <td>0</td>\n",
       "      <td>int8</td>\n",
       "    </tr>\n",
       "    <tr>\n",
       "      <th>ps_car_13_mean_range</th>\n",
       "      <td>2</td>\n",
       "      <td>0</td>\n",
       "      <td>int8</td>\n",
       "    </tr>\n",
       "    <tr>\n",
       "      <th>ps_car_14_median_range</th>\n",
       "      <td>2</td>\n",
       "      <td>0</td>\n",
       "      <td>int8</td>\n",
       "    </tr>\n",
       "    <tr>\n",
       "      <th>ps_car_14_mean_range</th>\n",
       "      <td>2</td>\n",
       "      <td>0</td>\n",
       "      <td>int8</td>\n",
       "    </tr>\n",
       "    <tr>\n",
       "      <th>ps_car_15_median_range</th>\n",
       "      <td>2</td>\n",
       "      <td>0</td>\n",
       "      <td>int8</td>\n",
       "    </tr>\n",
       "    <tr>\n",
       "      <th>ps_car_15_mean_range</th>\n",
       "      <td>2</td>\n",
       "      <td>0</td>\n",
       "      <td>int8</td>\n",
       "    </tr>\n",
       "  </tbody>\n",
       "</table>\n",
       "<p>79 rows × 3 columns</p>\n",
       "</div>"
      ],
      "text/plain": [
       "                            N unique value  Missing value     dtype\n",
       "id                                   10000              0     int16\n",
       "target                                   2              0  category\n",
       "ps_ind_01                                8              0      int8\n",
       "ps_ind_02_cat                            4              0   float32\n",
       "ps_ind_03                               12              0      int8\n",
       "ps_ind_04_cat                            2              0   float32\n",
       "ps_ind_05_cat                            7              0   float32\n",
       "ps_ind_06_bin                            2              0      int8\n",
       "ps_ind_07_bin                            2              0      int8\n",
       "ps_ind_08_bin                            2              0      int8\n",
       "ps_ind_09_bin                            2              0      int8\n",
       "ps_ind_10_bin                            2              0      int8\n",
       "ps_ind_11_bin                            2              0      int8\n",
       "ps_ind_12_bin                            2              0      int8\n",
       "ps_ind_13_bin                            2              0      int8\n",
       "ps_ind_14                                4              0      int8\n",
       "ps_ind_15                               14              0      int8\n",
       "ps_ind_16_bin                            2              0      int8\n",
       "ps_ind_17_bin                            2              0      int8\n",
       "ps_ind_18_bin                            2              0      int8\n",
       "ps_reg_01                               10              0   float32\n",
       "ps_reg_02                               19              0   float32\n",
       "ps_reg_03                             2768              0   float32\n",
       "ps_car_01_cat                           12              0   float32\n",
       "ps_car_02_cat                            2              0      int8\n",
       "ps_car_03_cat                            2              0   float32\n",
       "ps_car_04_cat                           10              0      int8\n",
       "ps_car_05_cat                            2              0   float32\n",
       "ps_car_06_cat                           18              0      int8\n",
       "ps_car_07_cat                            2              0   float32\n",
       "...                                    ...            ...       ...\n",
       "ps_ind_15_median_range                   2              0      int8\n",
       "ps_ind_15_mean_range                     2              0      int8\n",
       "ps_reg_01_median_range                   2              0      int8\n",
       "ps_reg_01_mean_range                     2              0      int8\n",
       "ps_reg_02_median_range                   2              0      int8\n",
       "ps_reg_02_mean_range                     2              0      int8\n",
       "ps_reg_03_median_range                   2              0      int8\n",
       "ps_reg_03_mean_range                     2              0      int8\n",
       "ps_car_01_cat_median_range               2              0      int8\n",
       "ps_car_01_cat_mean_range                 2              0      int8\n",
       "ps_car_04_cat_median_range               2              0      int8\n",
       "ps_car_04_cat_mean_range                 2              0      int8\n",
       "ps_car_06_cat_median_range               2              0      int8\n",
       "ps_car_06_cat_mean_range                 2              0      int8\n",
       "ps_car_09_cat_median_range               2              0      int8\n",
       "ps_car_09_cat_mean_range                 2              0      int8\n",
       "ps_car_10_cat_median_range               2              0      int8\n",
       "ps_car_10_cat_mean_range                 2              0      int8\n",
       "ps_car_11_cat_median_range               2              0      int8\n",
       "ps_car_11_cat_mean_range                 2              0      int8\n",
       "ps_car_11_median_range                   1              0      int8\n",
       "ps_car_11_mean_range                     2              0      int8\n",
       "ps_car_12_median_range                   2              0      int8\n",
       "ps_car_12_mean_range                     2              0      int8\n",
       "ps_car_13_median_range                   2              0      int8\n",
       "ps_car_13_mean_range                     2              0      int8\n",
       "ps_car_14_median_range                   2              0      int8\n",
       "ps_car_14_mean_range                     2              0      int8\n",
       "ps_car_15_median_range                   2              0      int8\n",
       "ps_car_15_mean_range                     2              0      int8\n",
       "\n",
       "[79 rows x 3 columns]"
      ]
     },
     "execution_count": 38,
     "metadata": {},
     "output_type": "execute_result"
    }
   ],
   "source": [
    "def basic_details(df): \n",
    "    k = pd.DataFrame()\n",
    "    k['N unique value'] = df.nunique()\n",
    "    k['Missing value'] = df.isnull().sum()\n",
    "    k['dtype'] = df.dtypes\n",
    "    return k\n",
    "basic_details(train)"
   ]
  },
  {
   "cell_type": "code",
   "execution_count": 39,
   "metadata": {},
   "outputs": [],
   "source": [
    "def category_col(df):\n",
    "    c_col = df.columns\n",
    "    to_cat_col =[]\n",
    "    for i in c_col:\n",
    "        if df[i].nunique()<=104:\n",
    "            to_cat_col.append(i)\n",
    "    return to_cat_col\n",
    "\n",
    "\n",
    "tot_cat_col = category_col(train)"
   ]
  },
  {
   "cell_type": "code",
   "execution_count": 41,
   "metadata": {},
   "outputs": [
    {
     "data": {
      "text/plain": [
       "['ps_reg_03', 'ps_car_13', 'ps_car_14']"
      ]
     },
     "execution_count": 41,
     "metadata": {},
     "output_type": "execute_result"
    }
   ],
   "source": [
    "num_col = [c for c in train.columns if c not in tot_cat_col]\n",
    "#num_col.append('ps_car_15')\n",
    "#train['ps_car_15'] = train['ps_car_15'].astype('float32')\n",
    "#test['ps_car_15'] = test['ps_car_15'].astype('float32')\n",
    "num_col.remove('id')\n",
    "num_col"
   ]
  },
  {
   "cell_type": "markdown",
   "metadata": {},
   "source": [
    "# Determine outliers in dataset"
   ]
  },
  {
   "cell_type": "code",
   "execution_count": 42,
   "metadata": {
    "scrolled": false
   },
   "outputs": [
    {
     "name": "stdout",
     "output_type": "stream",
     "text": [
      "ps_reg_03 0.132419899106 1.53175874054 0.415331184864 1.85219804049\n"
     ]
    },
    {
     "name": "stderr",
     "output_type": "stream",
     "text": [
      "/home/sudhir/anaconda3/lib/python3.6/site-packages/pandas/core/indexing.py:189: SettingWithCopyWarning: \n",
      "A value is trying to be set on a copy of a slice from a DataFrame\n",
      "\n",
      "See the caveats in the documentation: http://pandas.pydata.org/pandas-docs/stable/indexing.html#indexing-view-versus-copy\n",
      "  self._setitem_with_indexer(indexer, value)\n"
     ]
    },
    {
     "name": "stdout",
     "output_type": "stream",
     "text": [
      "ps_car_13 0.317481383681 1.25459860265 0.440648952425 1.61412685871\n",
      "ps_car_14 0.290922641754 0.45982170105 0.288790583611 0.520481533408\n",
      "ps_reg_03 0.159167729318 1.52326419204 0.419813931286 1.85256068468\n",
      "ps_car_13 0.320049203932 1.26199767739 0.452032839358 1.62408677697\n",
      "ps_car_14 0.289156630635 0.460881307721 0.288790583611 0.521360701919\n"
     ]
    }
   ],
   "source": [
    "def outlier(df,columns):\n",
    "    for i in columns:\n",
    "        quartile_1,quartile_3 = np.percentile(df[i],[25,75])\n",
    "        quartile_f,quartile_l = np.percentile(df[i],[1,99])\n",
    "        IQR = quartile_3-quartile_1\n",
    "        lower_bound = quartile_1 - (1.5*IQR)\n",
    "        upper_bound = quartile_3 + (1.5*IQR)\n",
    "        print(i,lower_bound,upper_bound,quartile_f,quartile_l)\n",
    "        \n",
    "        df[i].loc[df[i] < lower_bound] = quartile_f\n",
    "        df[i].loc[df[i] > upper_bound] = quartile_l\n",
    "        \n",
    "num_col = ['ps_reg_03', 'ps_car_13', 'ps_car_14']\n",
    "outlier(train,num_col)\n",
    "outlier(test,num_col)"
   ]
  },
  {
   "cell_type": "markdown",
   "metadata": {},
   "source": [
    "# Split data set"
   ]
  },
  {
   "cell_type": "code",
   "execution_count": 43,
   "metadata": {},
   "outputs": [],
   "source": [
    "X = train.drop(['target','id'],axis=1)\n",
    "y = train['target'].astype('category')\n",
    "x_test = test.drop('id',axis=1)"
   ]
  },
  {
   "cell_type": "markdown",
   "metadata": {},
   "source": [
    "# Hyper parameter tuning"
   ]
  },
  {
   "cell_type": "code",
   "execution_count": 46,
   "metadata": {},
   "outputs": [
    {
     "data": {
      "text/plain": [
       "\"xg_cl = xgb.XGBClassifier(max_depth=4,learning_rate=0.1,n_estimators=5300,objective='binary:logistic',\\n                          min_child_weight=1,scale_pos_weight=1)\\nparam = {'max_depth':[3,4,5,7,10],\\n         'learning_rate':[0.01,0.03,0.07,0.1,0.3,0.5],\\n         'min_child_weight':[1,3,5,7,10],\\n         'reg_lambda':[0.1,0.5,1,1.3,1.7,2.5],\\n         'reg_alpha':[1,1.5,3,8,10,12,15],\\n         'gamma':[0.1,0.5,1,2,5,10],\\n         'subsample':[0.4,0.5,0.6,0.7,0.8,0.9,1],\\n        'colsample_bytree':[0.4,0.5,0.6,0.7,0.8,0.9,1],\\n         'scale_pos_weight':[0.5,1,2,3,5,10]}\\nclf = GridSearchCV(xg_cl,param,scoring='roc_auc',refit=True,cv=10)\\n\\nclf.fit(X,y)\\nprint('Best roc_auc: {:.4}, with best params: {}'.format(clf.best_score_, clf.best_params_))\\n\""
      ]
     },
     "execution_count": 46,
     "metadata": {},
     "output_type": "execute_result"
    }
   ],
   "source": [
    "\"\"\"xg_cl = xgb.XGBClassifier(max_depth=4,learning_rate=0.1,n_estimators=5300,objective='binary:logistic',\n",
    "                          min_child_weight=1,scale_pos_weight=1)\n",
    "param = {'max_depth':[3,4,5,7,10],\n",
    "         'learning_rate':[0.01,0.03,0.07,0.1,0.3,0.5],\n",
    "         'min_child_weight':[1,3,5,7,10],\n",
    "         'reg_lambda':[0.1,0.5,1,1.3,1.7,2.5],\n",
    "         'reg_alpha':[1,1.5,3,8,10,12,15],\n",
    "         'gamma':[0.1,0.5,1,2,5,10],\n",
    "         'subsample':[0.4,0.5,0.6,0.7,0.8,0.9,1],\n",
    "        'colsample_bytree':[0.4,0.5,0.6,0.7,0.8,0.9,1],\n",
    "         'scale_pos_weight':[0.5,1,2,3,5,10]}\n",
    "clf = GridSearchCV(xg_cl,param,scoring='roc_auc',refit=True,cv=10)\n",
    "\n",
    "clf.fit(X,y)\n",
    "print('Best roc_auc: {:.4}, with best params: {}'.format(clf.best_score_, clf.best_params_))\n",
    "\"\"\""
   ]
  },
  {
   "cell_type": "markdown",
   "metadata": {},
   "source": [
    "# Gini metric"
   ]
  },
  {
   "cell_type": "code",
   "execution_count": 44,
   "metadata": {},
   "outputs": [],
   "source": [
    "def gini(y, pred):\n",
    "    fpr, tpr, thr = roc_curve(y, pred, pos_label=1)\n",
    "    g = 2 * auc(fpr, tpr) -1\n",
    "    return g\n",
    "\n",
    "def gini_xgb(pred, y):\n",
    "    y = y.get_label()\n",
    "    return 'gini', gini(y, pred)"
   ]
  },
  {
   "cell_type": "markdown",
   "metadata": {},
   "source": [
    "# XGBoost"
   ]
  },
  {
   "cell_type": "code",
   "execution_count": 45,
   "metadata": {},
   "outputs": [],
   "source": [
    "def runXGB(xtrain,xvalid,ytrain,yvalid,xtest,eta=0.07,num_rounds=100):\n",
    "    params = {\n",
    "        'objective':'binary:logistic',        \n",
    "        'max_depth':4,\n",
    "        'learning_rate':eta,\n",
    "        'eval_metric':'auc',\n",
    "        'min_child_weight':6,\n",
    "        'subsample':0.8,\n",
    "        'colsample_bytree':0.8,\n",
    "        'seed':seed,\n",
    "        'reg_lambda':1.3,\n",
    "        'reg_alpha':8,\n",
    "        'gamma':10,\n",
    "        'scale_pos_weight':1.6\n",
    "        #'n_thread':-1\n",
    "    }\n",
    "    \n",
    "    dtrain = xgb.DMatrix(xtrain,label=ytrain)\n",
    "    dvalid = xgb.DMatrix(xvalid,label=yvalid)\n",
    "    dtest = xgb.DMatrix(xtest)\n",
    "    watchlist = [(dtrain,'train'),(dvalid,'test')]\n",
    "    \n",
    "    model = xgb.train(params,dtrain,num_rounds,watchlist,early_stopping_rounds=50,verbose_eval=50)\n",
    "    pred = model.predict(dvalid,ntree_limit=model.best_ntree_limit)\n",
    "    pred_test = model.predict(dtest,ntree_limit=model.best_ntree_limit)\n",
    "    return pred_test,model\n",
    "    "
   ]
  },
  {
   "cell_type": "code",
   "execution_count": 47,
   "metadata": {
    "scrolled": false
   },
   "outputs": [
    {
     "name": "stdout",
     "output_type": "stream",
     "text": [
      "1 of KFold 10\n",
      "[0]\ttrain-auc:0.5\ttest-auc:0.5\n",
      "Multiple eval metrics have been passed: 'test-auc' will be used for early stopping.\n",
      "\n",
      "Will train until test-auc hasn't improved in 50 rounds.\n",
      "[50]\ttrain-auc:0.661438\ttest-auc:0.634353\n",
      "[100]\ttrain-auc:0.679339\ttest-auc:0.647688\n",
      "Stopping. Best iteration:\n",
      "[95]\ttrain-auc:0.674081\ttest-auc:0.650858\n",
      "\n",
      "2 of KFold 10\n",
      "[0]\ttrain-auc:0.5\ttest-auc:0.5\n",
      "Multiple eval metrics have been passed: 'test-auc' will be used for early stopping.\n",
      "\n",
      "Will train until test-auc hasn't improved in 50 rounds.\n",
      "[50]\ttrain-auc:0.661648\ttest-auc:0.641058\n",
      "[100]\ttrain-auc:0.672427\ttest-auc:0.635368\n",
      "Stopping. Best iteration:\n",
      "[61]\ttrain-auc:0.666444\ttest-auc:0.642206\n",
      "\n",
      "3 of KFold 10\n",
      "[0]\ttrain-auc:0.5\ttest-auc:0.5\n",
      "Multiple eval metrics have been passed: 'test-auc' will be used for early stopping.\n",
      "\n",
      "Will train until test-auc hasn't improved in 50 rounds.\n",
      "[50]\ttrain-auc:0.668331\ttest-auc:0.614427\n",
      "[100]\ttrain-auc:0.681651\ttest-auc:0.619556\n",
      "[150]\ttrain-auc:0.68631\ttest-auc:0.617464\n",
      "[200]\ttrain-auc:0.696937\ttest-auc:0.633029\n",
      "[250]\ttrain-auc:0.700462\ttest-auc:0.633959\n",
      "[300]\ttrain-auc:0.711553\ttest-auc:0.635121\n",
      "Stopping. Best iteration:\n",
      "[267]\ttrain-auc:0.708048\ttest-auc:0.635915\n",
      "\n",
      "4 of KFold 10\n",
      "[0]\ttrain-auc:0.5\ttest-auc:0.5\n",
      "Multiple eval metrics have been passed: 'test-auc' will be used for early stopping.\n",
      "\n",
      "Will train until test-auc hasn't improved in 50 rounds.\n",
      "[50]\ttrain-auc:0.665351\ttest-auc:0.629349\n",
      "Stopping. Best iteration:\n",
      "[38]\ttrain-auc:0.658382\ttest-auc:0.642658\n",
      "\n",
      "5 of KFold 10\n",
      "[0]\ttrain-auc:0.5\ttest-auc:0.5\n",
      "Multiple eval metrics have been passed: 'test-auc' will be used for early stopping.\n",
      "\n",
      "Will train until test-auc hasn't improved in 50 rounds.\n",
      "[50]\ttrain-auc:0.672596\ttest-auc:0.590956\n",
      "[100]\ttrain-auc:0.68636\ttest-auc:0.595101\n",
      "Stopping. Best iteration:\n",
      "[59]\ttrain-auc:0.678109\ttest-auc:0.598151\n",
      "\n",
      "6 of KFold 10\n",
      "[0]\ttrain-auc:0.5\ttest-auc:0.5\n",
      "Multiple eval metrics have been passed: 'test-auc' will be used for early stopping.\n",
      "\n",
      "Will train until test-auc hasn't improved in 50 rounds.\n",
      "[50]\ttrain-auc:0.667931\ttest-auc:0.635395\n",
      "[100]\ttrain-auc:0.675022\ttest-auc:0.638336\n",
      "Stopping. Best iteration:\n",
      "[97]\ttrain-auc:0.675022\ttest-auc:0.638336\n",
      "\n",
      "7 of KFold 10\n",
      "[0]\ttrain-auc:0.5\ttest-auc:0.5\n",
      "Multiple eval metrics have been passed: 'test-auc' will be used for early stopping.\n",
      "\n",
      "Will train until test-auc hasn't improved in 50 rounds.\n",
      "[50]\ttrain-auc:0.665297\ttest-auc:0.604401\n",
      "[100]\ttrain-auc:0.675339\ttest-auc:0.602035\n",
      "Stopping. Best iteration:\n",
      "[54]\ttrain-auc:0.665306\ttest-auc:0.611541\n",
      "\n",
      "8 of KFold 10\n",
      "[0]\ttrain-auc:0.5\ttest-auc:0.5\n",
      "Multiple eval metrics have been passed: 'test-auc' will be used for early stopping.\n",
      "\n",
      "Will train until test-auc hasn't improved in 50 rounds.\n",
      "[50]\ttrain-auc:0.668196\ttest-auc:0.64988\n",
      "Stopping. Best iteration:\n",
      "[29]\ttrain-auc:0.644506\ttest-auc:0.681981\n",
      "\n",
      "9 of KFold 10\n",
      "[0]\ttrain-auc:0.5\ttest-auc:0.5\n",
      "Multiple eval metrics have been passed: 'test-auc' will be used for early stopping.\n",
      "\n",
      "Will train until test-auc hasn't improved in 50 rounds.\n",
      "[50]\ttrain-auc:0.676032\ttest-auc:0.570248\n",
      "Stopping. Best iteration:\n",
      "[38]\ttrain-auc:0.657871\ttest-auc:0.588604\n",
      "\n",
      "10 of KFold 10\n",
      "[0]\ttrain-auc:0.5\ttest-auc:0.5\n",
      "Multiple eval metrics have been passed: 'test-auc' will be used for early stopping.\n",
      "\n",
      "Will train until test-auc hasn't improved in 50 rounds.\n",
      "[50]\ttrain-auc:0.671375\ttest-auc:0.62113\n",
      "Stopping. Best iteration:\n",
      "[34]\ttrain-auc:0.659529\ttest-auc:0.629376\n",
      "\n"
     ]
    }
   ],
   "source": [
    "kf = StratifiedKFold(n_splits=10,random_state=seed,shuffle=True)\n",
    "pred_test_full =0\n",
    "cv_score = []\n",
    "i=1\n",
    "for train_index,test_index in kf.split(X,y):\n",
    "    print('{} of KFold {}'.format(i,kf.n_splits))\n",
    "    xtr,xvl = X.loc[train_index],X.loc[test_index]\n",
    "    ytr,yvl = y[train_index],y[test_index]\n",
    "    \n",
    "    pred_test,xg_model = runXGB(xtr,xvl,ytr,yvl,x_test,num_rounds=1000,eta=0.1)    \n",
    "    pred_test_full += pred_test\n",
    "    cv_score.append(xg_model.best_score)\n",
    "    i+=1"
   ]
  },
  {
   "cell_type": "markdown",
   "metadata": {},
   "source": [
    "# Model accuracy"
   ]
  },
  {
   "cell_type": "code",
   "execution_count": 48,
   "metadata": {},
   "outputs": [
    {
     "name": "stdout",
     "output_type": "stream",
     "text": [
      "[0.650858, 0.642206, 0.635915, 0.642658, 0.598151, 0.638336, 0.611541, 0.681981, 0.588604, 0.629376]\n",
      "Mean cv_score 0.6319626\n"
     ]
    }
   ],
   "source": [
    "print(cv_score)\n",
    "print('Mean cv_score',np.mean(cv_score))"
   ]
  },
  {
   "cell_type": "code",
   "execution_count": 57,
   "metadata": {},
   "outputs": [
    {
     "data": {
      "text/plain": [
       "array([ 0.06403705,  0.07313596,  0.07797827,  0.06124066,  0.08642397])"
      ]
     },
     "execution_count": 57,
     "metadata": {},
     "output_type": "execute_result"
    }
   ],
   "source": [
    "pred_xgb = pred_test_full/kf.n_splits\n",
    "pred_xgb[:5]"
   ]
  },
  {
   "cell_type": "markdown",
   "metadata": {},
   "source": [
    "# Important Features"
   ]
  },
  {
   "cell_type": "code",
   "execution_count": 50,
   "metadata": {},
   "outputs": [
    {
     "data": {
      "image/png": "[encoded data removed]",
      "text/plain": [
       "<Figure size 1008x720 with 1 Axes>"
      ]
     },
     "metadata": {},
     "output_type": "display_data"
    }
   ],
   "source": [
    "fig,ax = plt.subplots(figsize=(14,10))\n",
    "xgb.plot_importance(xg_model,ax=ax,height=0.8,color='r')\n",
    "#plt.tight_layout()\n",
    "plt.show()"
   ]
  },
  {
   "cell_type": "markdown",
   "metadata": {},
   "source": [
    "# Predict for unsen data set"
   ]
  },
  {
   "cell_type": "code",
   "execution_count": 51,
   "metadata": {},
   "outputs": [],
   "source": [
    "y_pred = pred_xgb\n",
    "submit = pd.DataFrame({'id':test['id'],'target':y_pred})\n",
    "#submit.to_csv('xgb_porto.csv',index=False)\n",
    "submit.to_csv('xgb_porto.csv.gz',index=False,compression='gzip') "
   ]
  },
  {
   "cell_type": "markdown",
   "metadata": {},
   "source": [
    "# Light GBM"
   ]
  },
  {
   "cell_type": "code",
   "execution_count": 52,
   "metadata": {},
   "outputs": [],
   "source": [
    "def runLGB(train,valid,y_train,y_valid,test,eta=0.5,num_rounds=10,early_stop=50,max_depth=10):\n",
    "    \n",
    "    param = {\n",
    "            'objective':'binary',\n",
    "            'boosting':'gbdt',\n",
    "            'learning_rate':eta,            \n",
    "            'metric':'auc',\n",
    "            'bagging_fraction':0.8,\n",
    "            #'bagging_freq':5,\n",
    "            'bagging_seed':seed,\n",
    "            'num_leaves':100,\n",
    "            'feature_fraction':0.8,\n",
    "            #'verbose':10,            \n",
    "            'min_child_weight':10,\n",
    "            'max_depth':max_depth,\n",
    "            'reg_alpha':1.5, \n",
    "            'reg_lambda':5,\n",
    "            'scale_pos_weight':5       \n",
    "            #'nthread':-1           \n",
    "            }\n",
    "   \n",
    "    lgtrain = lgb.Dataset(train,label=y_train)\n",
    "    lgvalid = lgb.Dataset(valid,label=y_valid)\n",
    "    \n",
    "    model=lgb.train(param,lgtrain,num_rounds,valid_sets=lgvalid,\n",
    "              early_stopping_rounds=early_stop,verbose_eval=50 )\n",
    "    #lg_pred = model.predict(xvl,num_iteration=model.best_iteration)\n",
    "    pred = model.predict(test,num_iteration=model.best_iteration)    \n",
    "    return pred,model"
   ]
  },
  {
   "cell_type": "code",
   "execution_count": 53,
   "metadata": {},
   "outputs": [
    {
     "name": "stdout",
     "output_type": "stream",
     "text": [
      "1 of KFold 5\n",
      "Training until validation scores don't improve for 50 rounds.\n",
      "[50]\tvalid_0's auc: 0.599802\n",
      "Early stopping, best iteration is:\n",
      "[18]\tvalid_0's auc: 0.627621\n",
      "2 of KFold 5\n",
      "Training until validation scores don't improve for 50 rounds.\n",
      "[50]\tvalid_0's auc: 0.566343\n",
      "Early stopping, best iteration is:\n",
      "[5]\tvalid_0's auc: 0.629486\n",
      "3 of KFold 5\n",
      "Training until validation scores don't improve for 50 rounds.\n",
      "[50]\tvalid_0's auc: 0.603601\n",
      "Early stopping, best iteration is:\n",
      "[9]\tvalid_0's auc: 0.620637\n",
      "4 of KFold 5\n",
      "Training until validation scores don't improve for 50 rounds.\n",
      "[50]\tvalid_0's auc: 0.594485\n",
      "Early stopping, best iteration is:\n",
      "[2]\tvalid_0's auc: 0.621023\n",
      "5 of KFold 5\n",
      "Training until validation scores don't improve for 50 rounds.\n",
      "[50]\tvalid_0's auc: 0.557526\n",
      "Early stopping, best iteration is:\n",
      "[8]\tvalid_0's auc: 0.581642\n"
     ]
    }
   ],
   "source": [
    "#Kfold\n",
    "kf = StratifiedKFold(n_splits =5,random_state=seed,shuffle=True)\n",
    "pred_test_full=0\n",
    "cv_score =[]\n",
    "i=1\n",
    "for train_index,test_index in kf.split(X,y):\n",
    "    print('{} of KFold {}'.format(i,kf.n_splits))\n",
    "    xtr,xvl = X.loc[train_index], X.loc[test_index]    \n",
    "    ytr,yvl = y[train_index], y[test_index]\n",
    "    \n",
    "    pred_test,lg_model = runLGB(xtr,xvl,ytr,yvl,x_test,eta=0.1,num_rounds=1000,max_depth=7)\n",
    "    pred_test_full +=pred_test\n",
    "    cv_score.append(lg_model.best_score)\n",
    "    i+=1"
   ]
  },
  {
   "cell_type": "code",
   "execution_count": 54,
   "metadata": {},
   "outputs": [],
   "source": [
    "pred_lgb = pred_test_full/kf.n_splits"
   ]
  },
  {
   "cell_type": "markdown",
   "metadata": {},
   "source": [
    "# Important Features"
   ]
  },
  {
   "cell_type": "code",
   "execution_count": 55,
   "metadata": {},
   "outputs": [
    {
     "data": {
      "image/png": "[encoded data removed]",
      "text/plain": [
       "<Figure size 1008x720 with 1 Axes>"
      ]
     },
     "metadata": {},
     "output_type": "display_data"
    }
   ],
   "source": [
    "fig,ax = plt.subplots(figsize=(14,10))\n",
    "lgb.plot_importance(lg_model,ax=ax,height=0.8,color='r')\n",
    "#plt.tight_layout()\n",
    "plt.show()"
   ]
  },
  {
   "cell_type": "code",
   "execution_count": 58,
   "metadata": {},
   "outputs": [
    {
     "data": {
      "text/html": [
       "<div>\n",
       "<style scoped>\n",
       "    .dataframe tbody tr th:only-of-type {\n",
       "        vertical-align: middle;\n",
       "    }\n",
       "\n",
       "    .dataframe tbody tr th {\n",
       "        vertical-align: top;\n",
       "    }\n",
       "\n",
       "    .dataframe thead th {\n",
       "        text-align: right;\n",
       "    }\n",
       "</style>\n",
       "<table border=\"1\" class=\"dataframe\">\n",
       "  <thead>\n",
       "    <tr style=\"text-align: right;\">\n",
       "      <th></th>\n",
       "      <th>id</th>\n",
       "      <th>target</th>\n",
       "    </tr>\n",
       "  </thead>\n",
       "  <tbody>\n",
       "    <tr>\n",
       "      <th>0</th>\n",
       "      <td>0</td>\n",
       "      <td>0.064037</td>\n",
       "    </tr>\n",
       "    <tr>\n",
       "      <th>1</th>\n",
       "      <td>1</td>\n",
       "      <td>0.073136</td>\n",
       "    </tr>\n",
       "    <tr>\n",
       "      <th>2</th>\n",
       "      <td>2</td>\n",
       "      <td>0.077978</td>\n",
       "    </tr>\n",
       "    <tr>\n",
       "      <th>3</th>\n",
       "      <td>3</td>\n",
       "      <td>0.061241</td>\n",
       "    </tr>\n",
       "    <tr>\n",
       "      <th>4</th>\n",
       "      <td>4</td>\n",
       "      <td>0.086424</td>\n",
       "    </tr>\n",
       "  </tbody>\n",
       "</table>\n",
       "</div>"
      ],
      "text/plain": [
       "   id    target\n",
       "0   0  0.064037\n",
       "1   1  0.073136\n",
       "2   2  0.077978\n",
       "3   3  0.061241\n",
       "4   4  0.086424"
      ]
     },
     "execution_count": 58,
     "metadata": {},
     "output_type": "execute_result"
    }
   ],
   "source": [
    "y_pred = pred_lgb*0.7+pred_xgb*0.3\n",
    "submit = pd.DataFrame({'id':test['id'],'target':y_pred})\n",
    "#submit.to_csv('xglg_porto.csv',index=False)\n",
    "submit.to_csv('lr_porto.csv.gz',index=False,compression='gzip') \n",
    "submit.head()"
   ]
  },
  {
   "cell_type": "markdown",
   "metadata": {},
   "source": [
    "# Thank you for visiting"
   ]
  }
 ],
 "metadata": {
  "kernelspec": {
   "display_name": "Python 3",
   "language": "python",
   "name": "python3"
  },
  "language_info": {
   "codemirror_mode": {
    "name": "ipython",
    "version": 3
   },
   "file_extension": ".py",
   "mimetype": "text/x-python",
   "name": "python",
   "nbconvert_exporter": "python",
   "pygments_lexer": "ipython3",
   "version": "3.6.6"
  }
 },
 "nbformat": 4,
 "nbformat_minor": 2
}
