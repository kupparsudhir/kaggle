{
 "cells": [
  {
   "cell_type": "markdown",
   "metadata": {},
   "source": [
    "# Import library"
   ]
  },
  {
   "cell_type": "code",
   "execution_count": 1,
   "metadata": {},
   "outputs": [
    {
     "name": "stderr",
     "output_type": "stream",
     "text": [
      "/home/sudhir/anaconda3/lib/python3.6/site-packages/sklearn/cross_validation.py:44: DeprecationWarning: This module was deprecated in version 0.18 in favor of the model_selection module into which all the refactored classes and functions are moved. Also note that the interface of the new CV iterators are different from that of this module. This module will be removed in 0.20.\n",
      "  \"This module will be removed in 0.20.\", DeprecationWarning)\n"
     ]
    }
   ],
   "source": [
    "import pandas as pd\n",
    "import numpy as np\n",
    "import matplotlib.pyplot as plt\n",
    "import seaborn as sns\n",
    "\n",
    "import re\n",
    "import nltk\n",
    "from nltk.corpus import stopwords \n",
    "from nltk.stem.porter import PorterStemmer\n",
    "from nltk.tokenize import word_tokenize\n",
    "import string\n",
    "\n",
    "from sklearn.model_selection import train_test_split,KFold\n",
    "from sklearn.metrics import confusion_matrix,roc_auc_score,log_loss\n",
    "from sklearn.naive_bayes import MultinomialNB\n",
    "from sklearn.feature_extraction.text import CountVectorizer, TfidfVectorizer\n",
    "import xgboost as xgb \n",
    "seed = 4353"
   ]
  },
  {
   "cell_type": "markdown",
   "metadata": {},
   "source": [
    "# Load data set"
   ]
  },
  {
   "cell_type": "code",
   "execution_count": 89,
   "metadata": {
    "collapsed": true
   },
   "outputs": [],
   "source": [
    "train = pd.read_csv('train.csv')\n",
    "test = pd.read_csv('test.csv')"
   ]
  },
  {
   "cell_type": "markdown",
   "metadata": {},
   "source": [
    "# Explore data set"
   ]
  },
  {
   "cell_type": "code",
   "execution_count": 90,
   "metadata": {},
   "outputs": [
    {
     "name": "stdout",
     "output_type": "stream",
     "text": [
      "Number of rows and columns in data set (19579, 3)\n"
     ]
    },
    {
     "data": {
      "text/html": [
       "<div>\n",
       "<style>\n",
       "    .dataframe thead tr:only-child th {\n",
       "        text-align: right;\n",
       "    }\n",
       "\n",
       "    .dataframe thead th {\n",
       "        text-align: left;\n",
       "    }\n",
       "\n",
       "    .dataframe tbody tr th {\n",
       "        vertical-align: top;\n",
       "    }\n",
       "</style>\n",
       "<table border=\"1\" class=\"dataframe\">\n",
       "  <thead>\n",
       "    <tr style=\"text-align: right;\">\n",
       "      <th></th>\n",
       "      <th>id</th>\n",
       "      <th>text</th>\n",
       "      <th>author</th>\n",
       "    </tr>\n",
       "  </thead>\n",
       "  <tbody>\n",
       "    <tr>\n",
       "      <th>0</th>\n",
       "      <td>id26305</td>\n",
       "      <td>This process, however, afforded me no means of...</td>\n",
       "      <td>EAP</td>\n",
       "    </tr>\n",
       "    <tr>\n",
       "      <th>1</th>\n",
       "      <td>id17569</td>\n",
       "      <td>It never once occurred to me that the fumbling...</td>\n",
       "      <td>HPL</td>\n",
       "    </tr>\n",
       "    <tr>\n",
       "      <th>2</th>\n",
       "      <td>id11008</td>\n",
       "      <td>In his left hand was a gold snuff box, from wh...</td>\n",
       "      <td>EAP</td>\n",
       "    </tr>\n",
       "    <tr>\n",
       "      <th>3</th>\n",
       "      <td>id27763</td>\n",
       "      <td>How lovely is spring As we looked from Windsor...</td>\n",
       "      <td>MWS</td>\n",
       "    </tr>\n",
       "    <tr>\n",
       "      <th>4</th>\n",
       "      <td>id12958</td>\n",
       "      <td>Finding nothing else, not even gold, the Super...</td>\n",
       "      <td>HPL</td>\n",
       "    </tr>\n",
       "  </tbody>\n",
       "</table>\n",
       "</div>"
      ],
      "text/plain": [
       "        id                                               text author\n",
       "0  id26305  This process, however, afforded me no means of...    EAP\n",
       "1  id17569  It never once occurred to me that the fumbling...    HPL\n",
       "2  id11008  In his left hand was a gold snuff box, from wh...    EAP\n",
       "3  id27763  How lovely is spring As we looked from Windsor...    MWS\n",
       "4  id12958  Finding nothing else, not even gold, the Super...    HPL"
      ]
     },
     "execution_count": 90,
     "metadata": {},
     "output_type": "execute_result"
    }
   ],
   "source": [
    "print('Number of rows and columns in data set',train.shape)\n",
    "train.head()"
   ]
  },
  {
   "cell_type": "code",
   "execution_count": 5,
   "metadata": {},
   "outputs": [
    {
     "name": "stdout",
     "output_type": "stream",
     "text": [
      "Number of rows and columns in data set (8392, 2)\n"
     ]
    },
    {
     "data": {
      "text/html": [
       "<div>\n",
       "<style>\n",
       "    .dataframe thead tr:only-child th {\n",
       "        text-align: right;\n",
       "    }\n",
       "\n",
       "    .dataframe thead th {\n",
       "        text-align: left;\n",
       "    }\n",
       "\n",
       "    .dataframe tbody tr th {\n",
       "        vertical-align: top;\n",
       "    }\n",
       "</style>\n",
       "<table border=\"1\" class=\"dataframe\">\n",
       "  <thead>\n",
       "    <tr style=\"text-align: right;\">\n",
       "      <th></th>\n",
       "      <th>id</th>\n",
       "      <th>text</th>\n",
       "    </tr>\n",
       "  </thead>\n",
       "  <tbody>\n",
       "    <tr>\n",
       "      <th>0</th>\n",
       "      <td>id02310</td>\n",
       "      <td>Still, as I urged our leaving Ireland with suc...</td>\n",
       "    </tr>\n",
       "    <tr>\n",
       "      <th>1</th>\n",
       "      <td>id24541</td>\n",
       "      <td>If a fire wanted fanning, it could readily be ...</td>\n",
       "    </tr>\n",
       "    <tr>\n",
       "      <th>2</th>\n",
       "      <td>id00134</td>\n",
       "      <td>And when they had broken down the frail door t...</td>\n",
       "    </tr>\n",
       "    <tr>\n",
       "      <th>3</th>\n",
       "      <td>id27757</td>\n",
       "      <td>While I was thinking how I should possibly man...</td>\n",
       "    </tr>\n",
       "    <tr>\n",
       "      <th>4</th>\n",
       "      <td>id04081</td>\n",
       "      <td>I am not sure to what limit his knowledge may ...</td>\n",
       "    </tr>\n",
       "  </tbody>\n",
       "</table>\n",
       "</div>"
      ],
      "text/plain": [
       "        id                                               text\n",
       "0  id02310  Still, as I urged our leaving Ireland with suc...\n",
       "1  id24541  If a fire wanted fanning, it could readily be ...\n",
       "2  id00134  And when they had broken down the frail door t...\n",
       "3  id27757  While I was thinking how I should possibly man...\n",
       "4  id04081  I am not sure to what limit his knowledge may ..."
      ]
     },
     "execution_count": 5,
     "metadata": {},
     "output_type": "execute_result"
    }
   ],
   "source": [
    "print('Number of rows and columns in data set',test.shape)\n",
    "test.head()"
   ]
  },
  {
   "cell_type": "markdown",
   "metadata": {},
   "source": [
    "# Authors Target variable distribution"
   ]
  },
  {
   "cell_type": "code",
   "execution_count": 91,
   "metadata": {},
   "outputs": [
    {
     "data": {
      "text/plain": [
       "EAP    7900\n",
       "MWS    6044\n",
       "HPL    5635\n",
       "Name: author, dtype: int64"
      ]
     },
     "execution_count": 91,
     "metadata": {},
     "output_type": "execute_result"
    }
   ],
   "source": [
    "train['author'].value_counts()"
   ]
  },
  {
   "cell_type": "code",
   "execution_count": 92,
   "metadata": {},
   "outputs": [
    {
     "data": {
      "image/png": "[encoded data removed]",
      "text/plain": [
       "<matplotlib.figure.Figure at 0x7f9bfbd5c400>"
      ]
     },
     "metadata": {},
     "output_type": "display_data"
    }
   ],
   "source": [
    "plt.figure(figsize=(14,5))\n",
    "sns.countplot(train['author'],)\n",
    "plt.xlabel('Author')\n",
    "plt.title('Target variable distribution')\n",
    "plt.show()"
   ]
  },
  {
   "cell_type": "markdown",
   "metadata": {},
   "source": [
    "# Text cleaning"
   ]
  },
  {
   "cell_type": "markdown",
   "metadata": {},
   "source": [
    "## Remove unwanted punctuation mark"
   ]
  },
  {
   "cell_type": "code",
   "execution_count": 27,
   "metadata": {},
   "outputs": [
    {
     "name": "stdout",
     "output_type": "stream",
     "text": [
      "Original text:\n",
      " This process, however, afforded me no means of ascertaining the dimensions of my dungeon; as I might make its circuit, and return to the point whence I set out, without being aware of the fact; so perfectly uniform seemed the wall.\n",
      "\n",
      "After removal of punctuation:\n",
      " This process  however  afforded me no means of ascertaining the dimensions of my dungeon  as I might make its circuit  and return to the point whence I set out  without being aware of the fact  so perfectly uniform seemed the wall \n"
     ]
    }
   ],
   "source": [
    "print('Original text:\\n',train['text'][0])\n",
    "review = re.sub('[^A-Za-z0-9]',\" \",train['text'][0]) \n",
    "print('\\nAfter removal of punctuation:\\n',review)"
   ]
  },
  {
   "cell_type": "markdown",
   "metadata": {},
   "source": [
    "# Split sentence into word"
   ]
  },
  {
   "cell_type": "code",
   "execution_count": 44,
   "metadata": {},
   "outputs": [
    {
     "name": "stdout",
     "output_type": "stream",
     "text": [
      "Word Tokenize:\n",
      " ['This', 'process', ',', 'however', ',', 'afforded', 'me', 'no', 'means', 'of', 'ascertaining', 'the', 'dimensions', 'of', 'my', 'dungeon', ';', 'as', 'I', 'might', 'make', 'its', 'circuit', ',', 'and', 'return', 'to', 'the', 'point', 'whence', 'I', 'set', 'out', ',', 'without', 'being', 'aware', 'of', 'the', 'fact', ';', 'so', 'perfectly', 'uniform', 'seemed', 'the', 'wall', '.']\n",
      "\n",
      "Removal of Stopwords:\n",
      " ['process,', 'however,', 'afforded', 'means', 'ascertaining', 'dimensions', 'dungeon;', 'might', 'make', 'circuit,', 'return', 'point', 'whence', 'set', 'out,', 'without', 'aware', 'fact;', 'perfectly', 'uniform', 'seemed', 'wall.']\n",
      "\n",
      "Stopwords in the sentence:\n",
      " ['this', 'me', 'no', 'of', 'the', 'of', 'my', 'as', 'i', 'its', 'and', 'to', 'the', 'i', 'being', 'of', 'the', 'so', 'the']\n",
      "\n",
      "Stemming of word:\n",
      " ['thi', 'process,', 'however,', 'afford', 'me', 'no', 'mean', 'of', 'ascertain', 'the', 'dimens', 'of', 'my', 'dungeon;', 'as', 'i', 'might', 'make', 'it', 'circuit,', 'and', 'return', 'to', 'the', 'point', 'whenc', 'i', 'set', 'out,', 'without', 'be', 'awar', 'of', 'the', 'fact;', 'so', 'perfectli', 'uniform', 'seem', 'the', 'wall.']\n"
     ]
    }
   ],
   "source": [
    "review = word_tokenize(train['text'][0]) \n",
    "print('Word Tokenize:\\n',review)\n",
    "\n",
    "review = [word for word in str(train['text'][0]).lower().split() if  word not in set(stopwords.words('english'))]\n",
    "print('\\nRemoval of Stopwords:\\n',review)\n",
    "\n",
    "review = [word for word in str(train['text'][0]).lower().split() if  word in set(stopwords.words('english'))]\n",
    "print('\\nStopwords in the sentence:\\n',review)\n",
    "\n",
    "ps = PorterStemmer()\n",
    "review = [ps.stem(word) for word in str(train['text'][0]).lower().split()]\n",
    "print('\\nStemming of word:\\n',review)"
   ]
  },
  {
   "cell_type": "markdown",
   "metadata": {},
   "source": [
    "# Function for text cleaning"
   ]
  },
  {
   "cell_type": "code",
   "execution_count": 93,
   "metadata": {
    "collapsed": true
   },
   "outputs": [],
   "source": [
    "def clean_text(df):\n",
    "    ps = PorterStemmer()\n",
    "    corpus = []\n",
    "    for i in range(0, df.shape[0]):        \n",
    "        review = re.sub('[^A-Za-z0-9]',\" \",df['text'][i])\n",
    "        review = word_tokenize(review)        \n",
    "        review = [word for word in review if word.lower() not in set(stopwords.words('english'))]\n",
    "        review = [ps.stem(word) for word in review]\n",
    "        review = ' '.join(review)\n",
    "        corpus.append(review)\n",
    "    \n",
    "    return corpus"
   ]
  },
  {
   "cell_type": "code",
   "execution_count": 94,
   "metadata": {},
   "outputs": [
    {
     "ename": "KeyboardInterrupt",
     "evalue": "",
     "output_type": "error",
     "traceback": [
      "\u001b[0;31m---------------------------------------------------------------------------\u001b[0m",
      "\u001b[0;31mKeyboardInterrupt\u001b[0m                         Traceback (most recent call last)",
      "\u001b[0;32m<ipython-input-94-7f28963f931f>\u001b[0m in \u001b[0;36m<module>\u001b[0;34m()\u001b[0m\n\u001b[0;32m----> 1\u001b[0;31m \u001b[0mcorp_train\u001b[0m \u001b[0;34m=\u001b[0m \u001b[0mclean_text\u001b[0m\u001b[0;34m(\u001b[0m\u001b[0mtrain\u001b[0m\u001b[0;34m)\u001b[0m\u001b[0;34m\u001b[0m\u001b[0m\n\u001b[0m\u001b[1;32m      2\u001b[0m \u001b[0mcorp_test\u001b[0m \u001b[0;34m=\u001b[0m \u001b[0mclean_text\u001b[0m\u001b[0;34m(\u001b[0m\u001b[0mtest\u001b[0m\u001b[0;34m)\u001b[0m\u001b[0;34m\u001b[0m\u001b[0m\n\u001b[1;32m      3\u001b[0m \u001b[0mtrain\u001b[0m\u001b[0;34m[\u001b[0m\u001b[0;34m'clean_text'\u001b[0m\u001b[0;34m]\u001b[0m \u001b[0;34m=\u001b[0m \u001b[0mcorp_train\u001b[0m\u001b[0;34m\u001b[0m\u001b[0m\n\u001b[1;32m      4\u001b[0m \u001b[0mtest\u001b[0m\u001b[0;34m[\u001b[0m\u001b[0;34m'clean_text'\u001b[0m\u001b[0;34m]\u001b[0m \u001b[0;34m=\u001b[0m \u001b[0mcorp_test\u001b[0m\u001b[0;34m\u001b[0m\u001b[0m\n\u001b[1;32m      5\u001b[0m \u001b[0;32mdel\u001b[0m \u001b[0mcorp_train\u001b[0m\u001b[0;34m,\u001b[0m\u001b[0mcorp_test\u001b[0m\u001b[0;34m\u001b[0m\u001b[0m\n",
      "\u001b[0;32m<ipython-input-93-4941c4a1843d>\u001b[0m in \u001b[0;36mclean_text\u001b[0;34m(df)\u001b[0m\n\u001b[1;32m      3\u001b[0m     \u001b[0mcorpus\u001b[0m \u001b[0;34m=\u001b[0m \u001b[0;34m[\u001b[0m\u001b[0;34m]\u001b[0m\u001b[0;34m\u001b[0m\u001b[0m\n\u001b[1;32m      4\u001b[0m     \u001b[0;32mfor\u001b[0m \u001b[0mi\u001b[0m \u001b[0;32min\u001b[0m \u001b[0mrange\u001b[0m\u001b[0;34m(\u001b[0m\u001b[0;36m0\u001b[0m\u001b[0;34m,\u001b[0m \u001b[0mdf\u001b[0m\u001b[0;34m.\u001b[0m\u001b[0mshape\u001b[0m\u001b[0;34m[\u001b[0m\u001b[0;36m0\u001b[0m\u001b[0;34m]\u001b[0m\u001b[0;34m)\u001b[0m\u001b[0;34m:\u001b[0m\u001b[0;34m\u001b[0m\u001b[0m\n\u001b[0;32m----> 5\u001b[0;31m         \u001b[0mreview\u001b[0m \u001b[0;34m=\u001b[0m \u001b[0mre\u001b[0m\u001b[0;34m.\u001b[0m\u001b[0msub\u001b[0m\u001b[0;34m(\u001b[0m\u001b[0;34m'[^A-Za-z0-9]'\u001b[0m\u001b[0;34m,\u001b[0m\u001b[0;34m\" \"\u001b[0m\u001b[0;34m,\u001b[0m\u001b[0mdf\u001b[0m\u001b[0;34m[\u001b[0m\u001b[0;34m'text'\u001b[0m\u001b[0;34m]\u001b[0m\u001b[0;34m[\u001b[0m\u001b[0mi\u001b[0m\u001b[0;34m]\u001b[0m\u001b[0;34m)\u001b[0m\u001b[0;34m\u001b[0m\u001b[0m\n\u001b[0m\u001b[1;32m      6\u001b[0m         \u001b[0mreview\u001b[0m \u001b[0;34m=\u001b[0m \u001b[0mword_tokenize\u001b[0m\u001b[0;34m(\u001b[0m\u001b[0mreview\u001b[0m\u001b[0;34m)\u001b[0m\u001b[0;34m\u001b[0m\u001b[0m\n\u001b[1;32m      7\u001b[0m         \u001b[0mreview\u001b[0m \u001b[0;34m=\u001b[0m \u001b[0;34m[\u001b[0m\u001b[0mword\u001b[0m \u001b[0;32mfor\u001b[0m \u001b[0mword\u001b[0m \u001b[0;32min\u001b[0m \u001b[0mreview\u001b[0m \u001b[0;32mif\u001b[0m \u001b[0mword\u001b[0m\u001b[0;34m.\u001b[0m\u001b[0mlower\u001b[0m\u001b[0;34m(\u001b[0m\u001b[0;34m)\u001b[0m \u001b[0;32mnot\u001b[0m \u001b[0;32min\u001b[0m \u001b[0mset\u001b[0m\u001b[0;34m(\u001b[0m\u001b[0mstopwords\u001b[0m\u001b[0;34m.\u001b[0m\u001b[0mwords\u001b[0m\u001b[0;34m(\u001b[0m\u001b[0;34m'english'\u001b[0m\u001b[0;34m)\u001b[0m\u001b[0;34m)\u001b[0m\u001b[0;34m]\u001b[0m\u001b[0;34m\u001b[0m\u001b[0m\n",
      "\u001b[0;32m/home/sudhir/anaconda3/lib/python3.6/site-packages/pandas/core/series.py\u001b[0m in \u001b[0;36m__getitem__\u001b[0;34m(self, key)\u001b[0m\n\u001b[1;32m    599\u001b[0m         \u001b[0mkey\u001b[0m \u001b[0;34m=\u001b[0m \u001b[0mcom\u001b[0m\u001b[0;34m.\u001b[0m\u001b[0m_apply_if_callable\u001b[0m\u001b[0;34m(\u001b[0m\u001b[0mkey\u001b[0m\u001b[0;34m,\u001b[0m \u001b[0mself\u001b[0m\u001b[0;34m)\u001b[0m\u001b[0;34m\u001b[0m\u001b[0m\n\u001b[1;32m    600\u001b[0m         \u001b[0;32mtry\u001b[0m\u001b[0;34m:\u001b[0m\u001b[0;34m\u001b[0m\u001b[0m\n\u001b[0;32m--> 601\u001b[0;31m             \u001b[0mresult\u001b[0m \u001b[0;34m=\u001b[0m \u001b[0mself\u001b[0m\u001b[0;34m.\u001b[0m\u001b[0mindex\u001b[0m\u001b[0;34m.\u001b[0m\u001b[0mget_value\u001b[0m\u001b[0;34m(\u001b[0m\u001b[0mself\u001b[0m\u001b[0;34m,\u001b[0m \u001b[0mkey\u001b[0m\u001b[0;34m)\u001b[0m\u001b[0;34m\u001b[0m\u001b[0m\n\u001b[0m\u001b[1;32m    602\u001b[0m \u001b[0;34m\u001b[0m\u001b[0m\n\u001b[1;32m    603\u001b[0m             \u001b[0;32mif\u001b[0m \u001b[0;32mnot\u001b[0m \u001b[0mis_scalar\u001b[0m\u001b[0;34m(\u001b[0m\u001b[0mresult\u001b[0m\u001b[0;34m)\u001b[0m\u001b[0;34m:\u001b[0m\u001b[0;34m\u001b[0m\u001b[0m\n",
      "\u001b[0;32m/home/sudhir/anaconda3/lib/python3.6/site-packages/pandas/core/indexes/base.py\u001b[0m in \u001b[0;36mget_value\u001b[0;34m(self, series, key)\u001b[0m\n\u001b[1;32m   2426\u001b[0m         \u001b[0;32mtry\u001b[0m\u001b[0;34m:\u001b[0m\u001b[0;34m\u001b[0m\u001b[0m\n\u001b[1;32m   2427\u001b[0m             return self._engine.get_value(s, k,\n\u001b[0;32m-> 2428\u001b[0;31m                                           tz=getattr(series.dtype, 'tz', None))\n\u001b[0m\u001b[1;32m   2429\u001b[0m         \u001b[0;32mexcept\u001b[0m \u001b[0mKeyError\u001b[0m \u001b[0;32mas\u001b[0m \u001b[0me1\u001b[0m\u001b[0;34m:\u001b[0m\u001b[0;34m\u001b[0m\u001b[0m\n\u001b[1;32m   2430\u001b[0m             \u001b[0;32mif\u001b[0m \u001b[0mlen\u001b[0m\u001b[0;34m(\u001b[0m\u001b[0mself\u001b[0m\u001b[0;34m)\u001b[0m \u001b[0;34m>\u001b[0m \u001b[0;36m0\u001b[0m \u001b[0;32mand\u001b[0m \u001b[0mself\u001b[0m\u001b[0;34m.\u001b[0m\u001b[0minferred_type\u001b[0m \u001b[0;32min\u001b[0m \u001b[0;34m[\u001b[0m\u001b[0;34m'integer'\u001b[0m\u001b[0;34m,\u001b[0m \u001b[0;34m'boolean'\u001b[0m\u001b[0;34m]\u001b[0m\u001b[0;34m:\u001b[0m\u001b[0;34m\u001b[0m\u001b[0m\n",
      "\u001b[0;32m/home/sudhir/anaconda3/lib/python3.6/site-packages/pandas/core/series.py\u001b[0m in \u001b[0;36mdtype\u001b[0;34m(self)\u001b[0m\n\u001b[1;32m    332\u001b[0m     \u001b[0;32mdef\u001b[0m \u001b[0mdtype\u001b[0m\u001b[0;34m(\u001b[0m\u001b[0mself\u001b[0m\u001b[0;34m)\u001b[0m\u001b[0;34m:\u001b[0m\u001b[0;34m\u001b[0m\u001b[0m\n\u001b[1;32m    333\u001b[0m         \u001b[0;34m\"\"\" return the dtype object of the underlying data \"\"\"\u001b[0m\u001b[0;34m\u001b[0m\u001b[0m\n\u001b[0;32m--> 334\u001b[0;31m         \u001b[0;32mreturn\u001b[0m \u001b[0mself\u001b[0m\u001b[0;34m.\u001b[0m\u001b[0m_data\u001b[0m\u001b[0;34m.\u001b[0m\u001b[0mdtype\u001b[0m\u001b[0;34m\u001b[0m\u001b[0m\n\u001b[0m\u001b[1;32m    335\u001b[0m \u001b[0;34m\u001b[0m\u001b[0m\n\u001b[1;32m    336\u001b[0m     \u001b[0;34m@\u001b[0m\u001b[0mproperty\u001b[0m\u001b[0;34m\u001b[0m\u001b[0m\n",
      "\u001b[0;32m/home/sudhir/anaconda3/lib/python3.6/site-packages/pandas/core/internals.py\u001b[0m in \u001b[0;36mdtype\u001b[0;34m(self)\u001b[0m\n\u001b[1;32m   4192\u001b[0m         \u001b[0;32mreturn\u001b[0m \u001b[0mself\u001b[0m\u001b[0;34m.\u001b[0m\u001b[0mapply\u001b[0m\u001b[0;34m(\u001b[0m\u001b[0;34m'convert'\u001b[0m\u001b[0;34m,\u001b[0m \u001b[0;34m**\u001b[0m\u001b[0mkwargs\u001b[0m\u001b[0;34m)\u001b[0m\u001b[0;34m\u001b[0m\u001b[0m\n\u001b[1;32m   4193\u001b[0m \u001b[0;34m\u001b[0m\u001b[0m\n\u001b[0;32m-> 4194\u001b[0;31m     \u001b[0;34m@\u001b[0m\u001b[0mproperty\u001b[0m\u001b[0;34m\u001b[0m\u001b[0m\n\u001b[0m\u001b[1;32m   4195\u001b[0m     \u001b[0;32mdef\u001b[0m \u001b[0mdtype\u001b[0m\u001b[0;34m(\u001b[0m\u001b[0mself\u001b[0m\u001b[0;34m)\u001b[0m\u001b[0;34m:\u001b[0m\u001b[0;34m\u001b[0m\u001b[0m\n\u001b[1;32m   4196\u001b[0m         \u001b[0;32mreturn\u001b[0m \u001b[0mself\u001b[0m\u001b[0;34m.\u001b[0m\u001b[0m_block\u001b[0m\u001b[0;34m.\u001b[0m\u001b[0mdtype\u001b[0m\u001b[0;34m\u001b[0m\u001b[0m\n",
      "\u001b[0;31mKeyboardInterrupt\u001b[0m: "
     ]
    }
   ],
   "source": [
    "corp_train = clean_text(train)\n",
    "corp_test = clean_text(test)\n",
    "train['clean_text'] = corp_train\n",
    "test['clean_text'] = corp_test\n",
    "del corp_train,corp_test"
   ]
  },
  {
   "cell_type": "markdown",
   "metadata": {},
   "source": [
    "# Determine length of text"
   ]
  },
  {
   "cell_type": "code",
   "execution_count": 95,
   "metadata": {
    "collapsed": true
   },
   "outputs": [],
   "source": [
    "def text_len(df):\n",
    "    #i = ['text']\n",
    "    df['num_words'] = df['text'].apply(lambda x: len(str(x).split()))\n",
    "    df['num_uniq_words'] = df['text'].apply(lambda x: len(set(str(x).split())))\n",
    "    df['num_chars'] = df['text'].apply(lambda x: len(str(x)))\n",
    "    df['num_stopwords'] = df['text'].apply(lambda x: len([w for w in str(x).lower().split() \n",
    "                                                          if w in set(stopwords.words('english'))]))\n",
    "    df['num_punctuations'] = df['text'].apply(lambda x: len([w for w in str(x) if w in string.punctuation]))\n",
    "    df['num_words_upper'] = df['text'].apply(lambda x: len([w for w in str(x).split() if w.isupper()]))\n",
    "    df['num_words_title'] = df['text'].apply(lambda x: len([w for w in str(x).split() if w.istitle()]))\n",
    "    df['mean_word_len'] = df['text'].apply(lambda x: np.mean([len(w) for w in str(x).split()]))\n",
    "\n",
    "text_len(train)\n",
    "text_len(test)"
   ]
  },
  {
   "cell_type": "markdown",
   "metadata": {},
   "source": [
    "# Data analysis"
   ]
  },
  {
   "cell_type": "code",
   "execution_count": 160,
   "metadata": {},
   "outputs": [
    {
     "data": {
      "image/png": "[encoded data removed]",
      "text/plain": [
       "<matplotlib.figure.Figure at 0x7f9bfb0a76d8>"
      ]
     },
     "metadata": {},
     "output_type": "display_data"
    }
   ],
   "source": [
    "plt.figure(figsize=(14,6))\n",
    "plt.subplot(211)\n",
    "sns.heatmap(pd.crosstab(train['author'],train['num_words']),cmap='gist_earth',xticklabels=False)\n",
    "plt.xlabel('Original text word count')\n",
    "plt.ylabel('Author')\n",
    "\n",
    "plt.subplot(212)\n",
    "sns.heatmap(pd.crosstab(train['author'],train['num_uniq_words']),cmap='gist_heat',xticklabels=False)\n",
    "plt.xlabel('Unique text word count')\n",
    "plt.ylabel('Author')\n",
    "plt.tight_layout()\n",
    "plt.show()"
   ]
  },
  {
   "cell_type": "code",
   "execution_count": 52,
   "metadata": {},
   "outputs": [
    {
     "data": {
      "image/png": "[encoded data removed]",
      "text/plain": [
       "<matplotlib.figure.Figure at 0x7f10319d4ac8>"
      ]
     },
     "metadata": {},
     "output_type": "display_data"
    }
   ],
   "source": [
    "plt.figure(figsize=(14,6))\n",
    "sns.distplot(train['num_words'],bins=100,color='r')\n",
    "plt.title('Distribution of original text words')\n",
    "plt.show()"
   ]
  },
  {
   "cell_type": "code",
   "execution_count": 185,
   "metadata": {},
   "outputs": [
    {
     "data": {
      "image/png": "[encoded data removed]",
      "text/plain": [
       "<matplotlib.figure.Figure at 0x7f9bfba63518>"
      ]
     },
     "metadata": {},
     "output_type": "display_data"
    }
   ],
   "source": [
    "#fig,ax = plt.subplots(figsize=(14,6))\n",
    "fig, ax = plt.subplots(figsize=(8,6))\n",
    "\n",
    "sns.boxplot(y=train['author'],x=train['num_uniq_words'])\n",
    "plt.xlabel('Original text word count')\n",
    "plt.ylabel('Count')\n",
    "plt.show()"
   ]
  },
  {
   "cell_type": "code",
   "execution_count": 101,
   "metadata": {},
   "outputs": [
    {
     "data": {
      "image/png": "[encoded data removed]",
      "text/plain": [
       "<matplotlib.figure.Figure at 0x7f9bfb788160>"
      ]
     },
     "metadata": {},
     "output_type": "display_data"
    }
   ],
   "source": [
    "plt.figure(figsize=(14,6))\n",
    "sns.heatmap(train.corr(),annot=True)\n",
    "plt.show()"
   ]
  },
  {
   "cell_type": "markdown",
   "metadata": {},
   "source": [
    "# Bag of words"
   ]
  },
  {
   "cell_type": "code",
   "execution_count": 6,
   "metadata": {
    "collapsed": true
   },
   "outputs": [],
   "source": [
    "cv =CountVectorizer(max_features=2000,ngram_range=(1,3),dtype=np.int8,stop_words='english')\n",
    "X_cv = cv.fit_transform(train['clean_text']).toarray()\n",
    "X_test_cv = cv.fit_transform(test['clean_text']).toarray()"
   ]
  },
  {
   "cell_type": "markdown",
   "metadata": {},
   "source": [
    "# Encoder"
   ]
  },
  {
   "cell_type": "code",
   "execution_count": 7,
   "metadata": {
    "collapsed": true
   },
   "outputs": [],
   "source": [
    "author_name = {'EAP':0,'HPL':1,'MWS':2}\n",
    "y = train['author'].map(author_name) "
   ]
  },
  {
   "cell_type": "markdown",
   "metadata": {},
   "source": [
    "# Naive Bayes classifier"
   ]
  },
  {
   "cell_type": "code",
   "execution_count": 81,
   "metadata": {},
   "outputs": [
    {
     "name": "stdout",
     "output_type": "stream",
     "text": [
      "1 of KFlod 10\n",
      "confusion matrix:\n",
      " [[633  65  90]\n",
      " [ 49 488  40]\n",
      " [ 50  31 512]]\n",
      "2 of KFlod 10\n",
      "confusion matrix:\n",
      " [[617  56  98]\n",
      " [ 60 467  42]\n",
      " [ 71  20 527]]\n",
      "3 of KFlod 10\n",
      "confusion matrix:\n",
      " [[666  61  77]\n",
      " [ 64 460  33]\n",
      " [ 49  34 514]]\n",
      "4 of KFlod 10\n",
      "confusion matrix:\n",
      " [[612  65  98]\n",
      " [ 69 476  36]\n",
      " [ 52  30 520]]\n",
      "5 of KFlod 10\n",
      "confusion matrix:\n",
      " [[637  60 120]\n",
      " [ 59 427  48]\n",
      " [ 64  37 506]]\n",
      "6 of KFlod 10\n",
      "confusion matrix:\n",
      " [[579  72  97]\n",
      " [ 57 463  49]\n",
      " [ 51  31 559]]\n",
      "7 of KFlod 10\n",
      "confusion matrix:\n",
      " [[626  62  96]\n",
      " [ 56 476  32]\n",
      " [ 54  42 514]]\n",
      "8 of KFlod 10\n",
      "confusion matrix:\n",
      " [[648  73  89]\n",
      " [ 66 452  35]\n",
      " [ 53  30 512]]\n",
      "9 of KFlod 10\n",
      "confusion matrix:\n",
      " [[644  64  87]\n",
      " [ 62 488  33]\n",
      " [ 57  27 496]]\n",
      "10 of KFlod 10\n",
      "confusion matrix:\n",
      " [[654  54 100]\n",
      " [ 61 450  37]\n",
      " [ 60  24 517]]\n",
      "[0.43802893187908998, 0.47005769909790696, 0.46203863765728947, 0.51403631672037564, 0.51103671794144478, 0.52358229507830745, 0.45667863805634562, 0.49930542709753856, 0.45524845716739804, 0.47566741573148069]\n",
      "Mean accuracy score 0.480568053643\n"
     ]
    }
   ],
   "source": [
    "mNB = MultinomialNB()\n",
    "\n",
    "kf = KFold(n_splits=10,shuffle=True,random_state=seed)\n",
    "pred_test_full = 0\n",
    "cv_score = []\n",
    "i=1\n",
    "for train_index,test_index in kf.split(X_cv):\n",
    "    print('{} of KFlod {}'.format(i,kf.n_splits))    \n",
    "    xtr,xvl = X_cv[train_index], X_cv[test_index]\n",
    "    ytr,yvl = y[train_index], y[test_index]\n",
    "    \n",
    "    mNB.fit(xtr,ytr)\n",
    "    y_mNB = mNB.predict(xvl)\n",
    "    cv_score.append(log_loss(yvl,mNB.predict_proba(xvl)))\n",
    "    print(cv_score[i-1])\n",
    "    pred_test_full += mNB.predict_proba(X_test_cv)\n",
    "    i+=1\n",
    "#roc_auc_score(yvl,mNB.predict_proba(xvl)[:,1]) # not for multi class\n",
    "print('confusion matrix:\\n',confusion_matrix(yvl,y_mNB))\n",
    "print(cv_score)\n",
    "print('Mean accuracy score',np.mean(cv_score))\n",
    "del xtr,ytr,xvl,yvl"
   ]
  },
  {
   "cell_type": "markdown",
   "metadata": {},
   "source": [
    "#  Submit prediction for unseen dataset"
   ]
  },
  {
   "cell_type": "code",
   "execution_count": null,
   "metadata": {
    "collapsed": true
   },
   "outputs": [],
   "source": [
    "y_pred = pred_test_full/10\n",
    "submit = pd.DataFrame(test['id'])\n",
    "submit = submit.join(pd.DataFrame(y_pred))\n",
    "submit.columns = ['id','EAP','HPL','MWS'] \n",
    "#submit.to_csv('spooky_pred1.csv.gz',index=False,compression='gzip')\n",
    "submit.to_csv('spooky_pred1.csv',index=False)"
   ]
  },
  {
   "cell_type": "markdown",
   "metadata": {},
   "source": [
    "# TfIdf  (Term frequency Inverse document frequency)"
   ]
  },
  {
   "cell_type": "code",
   "execution_count": 74,
   "metadata": {
    "collapsed": true
   },
   "outputs": [],
   "source": [
    "tfidf = TfidfVectorizer(max_features=5000,dtype=np.float32,analyzer='word',\n",
    "                        ngram_range=(1, 3),use_idf=True, smooth_idf=True, \n",
    "                        sublinear_tf=True)\n",
    "X_tf = tfidf.fit_transform(train['clean_text']).toarray()\n",
    "X_test_tf = tfidf.fit_transform(test['clean_text']).toarray()"
   ]
  },
  {
   "cell_type": "markdown",
   "metadata": {},
   "source": [
    "# Naive Bayes classifier"
   ]
  },
  {
   "cell_type": "code",
   "execution_count": 75,
   "metadata": {
    "scrolled": true
   },
   "outputs": [
    {
     "name": "stdout",
     "output_type": "stream",
     "text": [
      "1 of KFlod 10\n",
      "confusion matrix:\n",
      " [[679  40  69]\n",
      " [ 96 454  27]\n",
      " [ 88  31 474]]\n",
      "2 of KFlod 10\n",
      "confusion matrix:\n",
      " [[670  40  61]\n",
      " [101 432  36]\n",
      " [ 95  31 492]]\n",
      "3 of KFlod 10\n",
      "confusion matrix:\n",
      " [[706  40  58]\n",
      " [100 418  39]\n",
      " [ 70  38 489]]\n",
      "4 of KFlod 10\n",
      "confusion matrix:\n",
      " [[663  42  70]\n",
      " [ 98 445  38]\n",
      " [ 82  30 490]]\n",
      "5 of KFlod 10\n",
      "confusion matrix:\n",
      " [[675  38 104]\n",
      " [ 97 389  48]\n",
      " [ 86  33 488]]\n",
      "6 of KFlod 10\n",
      "confusion matrix:\n",
      " [[641  46  61]\n",
      " [104 423  42]\n",
      " [ 93  32 516]]\n",
      "7 of KFlod 10\n",
      "confusion matrix:\n",
      " [[681  29  74]\n",
      " [ 82 450  32]\n",
      " [ 84  37 489]]\n",
      "8 of KFlod 10\n",
      "confusion matrix:\n",
      " [[697  48  65]\n",
      " [108 412  33]\n",
      " [ 87  33 475]]\n",
      "9 of KFlod 10\n",
      "confusion matrix:\n",
      " [[663  54  78]\n",
      " [ 96 449  38]\n",
      " [ 81  27 472]]\n",
      "10 of KFlod 10\n",
      "confusion matrix:\n",
      " [[687  43  78]\n",
      " [ 92 419  37]\n",
      " [ 93  24 484]]\n",
      "[0.5649311974774599, 0.57272572061709603, 0.55645250679230651, 0.57309592108387442, 0.58558273547794437, 0.58066095496067005, 0.56736507564929795, 0.57622689581026409, 0.57445875204066166, 0.56929349876497348]\n",
      "Mean accuracy score 0.572079325867\n"
     ]
    }
   ],
   "source": [
    "mNB = MultinomialNB()\n",
    "\n",
    "kf = KFold(n_splits=10,shuffle=True,random_state=seed)\n",
    "pred_test_full = 0\n",
    "cv_score = []\n",
    "i=1\n",
    "for train_index,test_index in kf.split(X_tf):\n",
    "    print('{} of KFlod {}'.format(i,kf.n_splits))    \n",
    "    xtr,xvl = X_tf[train_index], X_tf[test_index]\n",
    "    ytr,yvl = y[train_index], y[test_index]\n",
    "    \n",
    "    mNB.fit(xtr,ytr)\n",
    "    y_mNB = mNB.predict(xvl)\n",
    "    cv_score.append(log_loss(yvl,mNB.predict_proba(xvl))) \n",
    "    print(cv_score[i-1])\n",
    "    pred_test_full += mNB.predict_proba(X_test_tf)\n",
    "    i+=1\n",
    "#roc_auc_score(yvl,mNB.predict_proba(xvl)[:,1]) # not for multi class\n",
    "print('confusion matrix:\\n',confusion_matrix(yvl,y_mNB))\n",
    "print(cv_score)\n",
    "print('Mean accuracy score',np.mean(cv_score))\n",
    "del xtr,ytr,xvl,yvl"
   ]
  },
  {
   "cell_type": "markdown",
   "metadata": {},
   "source": [
    "#  Submit prediction for unseen dataset"
   ]
  },
  {
   "cell_type": "code",
   "execution_count": null,
   "metadata": {
    "collapsed": true
   },
   "outputs": [],
   "source": [
    "y_pred = pred_test_full/10\n",
    "submit = pd.DataFrame(test['id'])\n",
    "submit = submit.join(pd.DataFrame(y_pred))\n",
    "submit.columns = ['id','EAP','HPL','MWS'] \n",
    "#submit.to_csv('spooky_pred2.csv.gz',index=False,compression='gzip')\n",
    "submit.to_csv('spooky_pred2.csv',index=False)"
   ]
  },
  {
   "cell_type": "markdown",
   "metadata": {},
   "source": [
    "# Merge"
   ]
  },
  {
   "cell_type": "code",
   "execution_count": 128,
   "metadata": {},
   "outputs": [
    {
     "name": "stdout",
     "output_type": "stream",
     "text": [
      "(19579, 8)\n",
      "(8392, 8)\n"
     ]
    }
   ],
   "source": [
    "#filter data set\n",
    "unwanted = ['text','id',]\n",
    "#X_tf = np.concatenate((X_tf,train.drop(unwanted+['author'],axis=1).values),axis=1)\n",
    "#X_test_tf = np.concatenate((X_test_tf,test.drop(unwanted,axis=1).values),axis=1)\n",
    "\n",
    "X = train.drop(unwanted+['author'],axis=1).join(pd.DataFrame(X_cv),how='left')\n",
    "X_test = test.drop(unwanted,axis=1).join(pd.DataFrame(X_test_cv),how='left')\n",
    "#X = train.drop(unwanted+['author'],axis=1)\n",
    "#X_test = test.drop(unwanted,axis=1)\n",
    "print(X.shape)\n",
    "print(X_test.shape)"
   ]
  },
  {
   "cell_type": "markdown",
   "metadata": {},
   "source": [
    "# Xgboost"
   ]
  },
  {
   "cell_type": "code",
   "execution_count": 141,
   "metadata": {
    "collapsed": true
   },
   "outputs": [],
   "source": [
    "def runXGB(xtrain,xvalid,ytrain,yvalid,xtest,eta=0.1,early_stop=20,max_depth=10,n_rounds=100):\n",
    "    \n",
    "    params = {        \n",
    "        'objective':'multi:softprob',\n",
    "        'learning_rate':eta,\n",
    "        'max_depth':max_depth,\n",
    "        'num_class':3,\n",
    "        'subsample':0.7,\n",
    "        'colsample_bytree':0.7,\n",
    "        'eval_metric':'mlogloss',\n",
    "        'min_child_weight':1,        \n",
    "        #'verbose':0,\n",
    "        'seed':seed,        \n",
    "        'n_thread':-1 }\n",
    "    \n",
    "    #plst = list(params.items())\n",
    "    dtrain =xgb.DMatrix(xtrain,label=ytrain)\n",
    "    dvalid = xgb.DMatrix(xvalid,label=yvalid)    \n",
    "    dtest = xgb.DMatrix(xtest)\n",
    "    watchlist = [(dtrain,'train'),(dvalid,'test')]\n",
    "    \n",
    "    model = xgb.train(params,dtrain,n_rounds,evals=watchlist,early_stopping_rounds=early_stop,verbose_eval=30)\n",
    "    pred = model.predict(dvalid,ntree_limit = model.best_ntree_limit)\n",
    "    pred_test = model.predict(dtest,ntree_limit = model.best_ntree_limit)\n",
    "    \n",
    "    return pred_test,model"
   ]
  },
  {
   "cell_type": "code",
   "execution_count": 140,
   "metadata": {
    "scrolled": false
   },
   "outputs": [
    {
     "name": "stdout",
     "output_type": "stream",
     "text": [
      "1 of KFlod 10\n",
      "[0]\ttrain-mlogloss:1.08549\ttest-mlogloss:1.08906\n",
      "Multiple eval metrics have been passed: 'test-mlogloss' will be used for early stopping.\n",
      "\n",
      "Will train until test-mlogloss hasn't improved in 20 rounds.\n",
      "[30]\ttrain-mlogloss:0.924146\ttest-mlogloss:0.990551\n",
      "[60]\ttrain-mlogloss:0.867343\ttest-mlogloss:0.983447\n",
      "Stopping. Best iteration:\n",
      "[56]\ttrain-mlogloss:0.873327\ttest-mlogloss:0.982839\n",
      "\n",
      "2 of KFlod 10\n",
      "[0]\ttrain-mlogloss:1.08541\ttest-mlogloss:1.08933\n",
      "Multiple eval metrics have been passed: 'test-mlogloss' will be used for early stopping.\n",
      "\n",
      "Will train until test-mlogloss hasn't improved in 20 rounds.\n",
      "[30]\ttrain-mlogloss:0.920937\ttest-mlogloss:1.00268\n",
      "[60]\ttrain-mlogloss:0.866224\ttest-mlogloss:0.993219\n",
      "[90]\ttrain-mlogloss:0.831784\ttest-mlogloss:0.993859\n",
      "Stopping. Best iteration:\n",
      "[76]\ttrain-mlogloss:0.846379\ttest-mlogloss:0.992169\n",
      "\n",
      "3 of KFlod 10\n",
      "[0]\ttrain-mlogloss:1.0856\ttest-mlogloss:1.08881\n",
      "Multiple eval metrics have been passed: 'test-mlogloss' will be used for early stopping.\n",
      "\n",
      "Will train until test-mlogloss hasn't improved in 20 rounds.\n",
      "[30]\ttrain-mlogloss:0.9227\ttest-mlogloss:0.990537\n",
      "[60]\ttrain-mlogloss:0.867777\ttest-mlogloss:0.979737\n",
      "Stopping. Best iteration:\n",
      "[68]\ttrain-mlogloss:0.856572\ttest-mlogloss:0.97909\n",
      "\n",
      "4 of KFlod 10\n",
      "[0]\ttrain-mlogloss:1.08598\ttest-mlogloss:1.08767\n",
      "Multiple eval metrics have been passed: 'test-mlogloss' will be used for early stopping.\n",
      "\n",
      "Will train until test-mlogloss hasn't improved in 20 rounds.\n",
      "[30]\ttrain-mlogloss:0.924964\ttest-mlogloss:0.982195\n",
      "[60]\ttrain-mlogloss:0.869581\ttest-mlogloss:0.965587\n",
      "[90]\ttrain-mlogloss:0.831889\ttest-mlogloss:0.963605\n",
      "Stopping. Best iteration:\n",
      "[82]\ttrain-mlogloss:0.84102\ttest-mlogloss:0.963147\n",
      "\n",
      "5 of KFlod 10\n",
      "[0]\ttrain-mlogloss:1.0861\ttest-mlogloss:1.08835\n",
      "Multiple eval metrics have been passed: 'test-mlogloss' will be used for early stopping.\n",
      "\n",
      "Will train until test-mlogloss hasn't improved in 20 rounds.\n",
      "[30]\ttrain-mlogloss:0.924507\ttest-mlogloss:0.980831\n",
      "[60]\ttrain-mlogloss:0.869981\ttest-mlogloss:0.966009\n",
      "[90]\ttrain-mlogloss:0.834289\ttest-mlogloss:0.966638\n",
      "Stopping. Best iteration:\n",
      "[75]\ttrain-mlogloss:0.850801\ttest-mlogloss:0.965398\n",
      "\n",
      "6 of KFlod 10\n",
      "[0]\ttrain-mlogloss:1.08573\ttest-mlogloss:1.0891\n",
      "Multiple eval metrics have been passed: 'test-mlogloss' will be used for early stopping.\n",
      "\n",
      "Will train until test-mlogloss hasn't improved in 20 rounds.\n",
      "[30]\ttrain-mlogloss:0.921628\ttest-mlogloss:0.997202\n",
      "[60]\ttrain-mlogloss:0.865455\ttest-mlogloss:0.989317\n",
      "Stopping. Best iteration:\n",
      "[61]\ttrain-mlogloss:0.864117\ttest-mlogloss:0.989315\n",
      "\n",
      "7 of KFlod 10\n",
      "[0]\ttrain-mlogloss:1.08563\ttest-mlogloss:1.08857\n",
      "Multiple eval metrics have been passed: 'test-mlogloss' will be used for early stopping.\n",
      "\n",
      "Will train until test-mlogloss hasn't improved in 20 rounds.\n",
      "[30]\ttrain-mlogloss:0.924363\ttest-mlogloss:0.988776\n",
      "[60]\ttrain-mlogloss:0.871417\ttest-mlogloss:0.976134\n",
      "[90]\ttrain-mlogloss:0.835834\ttest-mlogloss:0.975527\n",
      "Stopping. Best iteration:\n",
      "[89]\ttrain-mlogloss:0.837156\ttest-mlogloss:0.975151\n",
      "\n",
      "8 of KFlod 10\n",
      "[0]\ttrain-mlogloss:1.0856\ttest-mlogloss:1.08832\n",
      "Multiple eval metrics have been passed: 'test-mlogloss' will be used for early stopping.\n",
      "\n",
      "Will train until test-mlogloss hasn't improved in 20 rounds.\n",
      "[30]\ttrain-mlogloss:0.920794\ttest-mlogloss:1.00089\n",
      "[60]\ttrain-mlogloss:0.866957\ttest-mlogloss:0.992485\n",
      "Stopping. Best iteration:\n",
      "[69]\ttrain-mlogloss:0.855143\ttest-mlogloss:0.991615\n",
      "\n",
      "9 of KFlod 10\n",
      "[0]\ttrain-mlogloss:1.08601\ttest-mlogloss:1.08842\n",
      "Multiple eval metrics have been passed: 'test-mlogloss' will be used for early stopping.\n",
      "\n",
      "Will train until test-mlogloss hasn't improved in 20 rounds.\n",
      "[30]\ttrain-mlogloss:0.922444\ttest-mlogloss:0.986168\n",
      "[60]\ttrain-mlogloss:0.866459\ttest-mlogloss:0.975918\n",
      "[90]\ttrain-mlogloss:0.832899\ttest-mlogloss:0.977581\n",
      "Stopping. Best iteration:\n",
      "[73]\ttrain-mlogloss:0.849675\ttest-mlogloss:0.975304\n",
      "\n",
      "10 of KFlod 10\n",
      "[0]\ttrain-mlogloss:1.08371\ttest-mlogloss:1.08525\n",
      "Multiple eval metrics have been passed: 'test-mlogloss' will be used for early stopping.\n",
      "\n",
      "Will train until test-mlogloss hasn't improved in 20 rounds.\n",
      "[30]\ttrain-mlogloss:0.92398\ttest-mlogloss:0.983761\n",
      "[60]\ttrain-mlogloss:0.866536\ttest-mlogloss:0.972674\n",
      "[90]\ttrain-mlogloss:0.829452\ttest-mlogloss:0.97245\n",
      "Stopping. Best iteration:\n",
      "[82]\ttrain-mlogloss:0.838227\ttest-mlogloss:0.971014\n",
      "\n"
     ]
    }
   ],
   "source": [
    "kf = KFold(n_splits=10,shuffle=True,random_state=seed)\n",
    "pred_test_full = 0\n",
    "cv_score = []\n",
    "i=1\n",
    "for train_index,test_index in kf.split(X):\n",
    "    print('{} of KFlod {}'.format(i,kf.n_splits))    \n",
    "    xtr,xvl = X.loc[train_index], X.loc[test_index]\n",
    "    ytr,yvl = y[train_index], y[test_index]\n",
    "        \n",
    "    pred_xgb,xg_model = runXGB(xtr,xvl,ytr,yvl,X_test,n_rounds=500)\n",
    "    pred_test_full += pred_xgb\n",
    "    i+=1\n",
    "#roc_auc_score(yvl,mNB.predict_proba(xvl)[:,1]) # not for multi class\n",
    "#print(cv_score)\n",
    "#print('Mean accuracy score',np.mean(cv_score))\n",
    "#del xtr,ytr,xvl,yvl,X_tf,X_test_tf"
   ]
  },
  {
   "cell_type": "code",
   "execution_count": 157,
   "metadata": {
    "scrolled": false
   },
   "outputs": [
    {
     "data": {
      "image/png": "[encoded data removed]",
      "text/plain": [
       "<matplotlib.figure.Figure at 0x7f9bfa0260b8>"
      ]
     },
     "metadata": {},
     "output_type": "display_data"
    }
   ],
   "source": [
    "### Plot the important variables ###\n",
    "fig, ax = plt.subplots(figsize=(14,10))\n",
    "xgb.plot_importance(xg_model,  height=0.8, ax=ax)\n",
    "plt.show()"
   ]
  },
  {
   "cell_type": "markdown",
   "metadata": {},
   "source": [
    "#  Submit prediction for unseen dataset"
   ]
  },
  {
   "cell_type": "code",
   "execution_count": 51,
   "metadata": {
    "collapsed": true
   },
   "outputs": [],
   "source": [
    "y_pred = pred_test_full/3\n",
    "submit = pd.DataFrame(test['id'])\n",
    "submit = submit.join(pd.DataFrame(y_pred))\n",
    "submit.columns = ['id','EAP','HPL','MWS'] \n",
    "submit.to_csv('spooky_pred.csv.gz',index=False,compression='gzip')\n",
    "#submit.to_csv('spooky_pred3.csv',index=False)"
   ]
  },
  {
   "cell_type": "code",
   "execution_count": null,
   "metadata": {
    "collapsed": true
   },
   "outputs": [],
   "source": []
  }
 ],
 "metadata": {
  "kernelspec": {
   "display_name": "Python 3",
   "language": "python",
   "name": "python3"
  },
  "language_info": {
   "codemirror_mode": {
    "name": "ipython",
    "version": 3
   },
   "file_extension": ".py",
   "mimetype": "text/x-python",
   "name": "python",
   "nbconvert_exporter": "python",
   "pygments_lexer": "ipython3",
   "version": "3.6.1"
  }
 },
 "nbformat": 4,
 "nbformat_minor": 2
}
